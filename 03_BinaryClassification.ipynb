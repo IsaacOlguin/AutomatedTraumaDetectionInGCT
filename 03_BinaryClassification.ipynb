{
 "cells": [
  {
   "cell_type": "markdown",
   "id": "82f60748",
   "metadata": {
    "id": "82f60748"
   },
   "source": [
    "# Binary classification (Trauma detection)"
   ]
  },
  {
   "cell_type": "markdown",
   "id": "b76364bf",
   "metadata": {
    "id": "b76364bf"
   },
   "source": [
    "## Imports"
   ]
  },
  {
   "cell_type": "code",
   "execution_count": 1,
   "id": "c8a36f26",
   "metadata": {
    "id": "c8a36f26"
   },
   "outputs": [],
   "source": [
    "%load_ext autoreload\n",
    "%autoreload 2\n",
    "\n",
    "GLB_INSTALL_DEPENDENCIES = False\n",
    "GLB_USE_DRIVE_ACCOUNT = False"
   ]
  },
  {
   "cell_type": "code",
   "execution_count": 2,
   "id": "a49f8e34",
   "metadata": {
    "colab": {
     "base_uri": "https://localhost:8080/"
    },
    "executionInfo": {
     "elapsed": 59539,
     "status": "ok",
     "timestamp": 1674495306949,
     "user": {
      "displayName": "Isaac Olguín",
      "userId": "09697151780329788960"
     },
     "user_tz": -60
    },
    "id": "a49f8e34",
    "outputId": "c01c1dcf-aa86-498d-96ca-3d4d53589848"
   },
   "outputs": [
    {
     "data": {
      "text/plain": [
       "'\\nif GLB_USE_DRIVE_ACCOUNT:\\n  from google.colab import drive\\n  drive.mount(\\'/content/drive\\')\\n  %cd /content/drive/MyDrive/\"Colab Notebooks\"\\n  username = \"IsaacOlguin\"\\n  repository =  \"AutomatedTraumaDetectionInGCT\"\\n  %cd {repository}\\n  %pwd\\n'"
      ]
     },
     "execution_count": 2,
     "metadata": {},
     "output_type": "execute_result"
    }
   ],
   "source": [
    "# Here to define dependencies\n",
    "if GLB_INSTALL_DEPENDENCIES:\n",
    "    !pip install transformers\n",
    "    !pip install torch\n",
    "    !pip install openpyxl\n",
    "\"\"\"\n",
    "if GLB_USE_DRIVE_ACCOUNT:\n",
    "  from google.colab import drive\n",
    "  drive.mount('/content/drive')\n",
    "  %cd /content/drive/MyDrive/\"Colab Notebooks\"\n",
    "  username = \"IsaacOlguin\"\n",
    "  repository =  \"AutomatedTraumaDetectionInGCT\"\n",
    "  %cd {repository}\n",
    "  %pwd\n",
    "\"\"\""
   ]
  },
  {
   "cell_type": "code",
   "execution_count": 3,
   "id": "f2179d16",
   "metadata": {
    "id": "f2179d16"
   },
   "outputs": [],
   "source": [
    "import pandas as pd\n",
    "import torch\n",
    "import numpy as np\n",
    "import matplotlib.pyplot as plt\n",
    "import json\n",
    "\n",
    "import src.classification_model_utilities as mlclassif_utilities"
   ]
  },
  {
   "cell_type": "markdown",
   "id": "0d67cd1a",
   "metadata": {
    "id": "0d67cd1a"
   },
   "source": [
    "## Globals"
   ]
  },
  {
   "cell_type": "code",
   "execution_count": null,
   "id": "9bf97563",
   "metadata": {
    "id": "9bf97563"
   },
   "outputs": [],
   "source": [
    "PATH_DATASET = \"input/dataset/20230112_Dataset_W_Batch1.xlsx\" #\"input/dataset/Dataset.xlsx\"\n",
    "PATH_DIR_LOGS = \"logs/\"\n",
    "PATH_DIR_MODELS = \"models/\"\n",
    "INDEX_COLUMNS_DATASET = 1\n",
    "#LIST_NAME_COLUMNS_DATASET = [\"id_document\", \"id_annotation\", \"span\", \"role\", \"trauma\", \"court\"]\n",
    "LIST_NAME_COLUMNS_DATASET = [\"id_document\", \"id_annotation\", \"start\", \"span\", \"role\", \"trauma\", \"court\", \"Comments1\", \"Comments2\"]\n",
    "\n",
    "GLB_RETURN_ATTENTION_MASK = True\n",
    "GLB_CROSS_VALIDATION = False\n",
    "GLB_SAVE_MODEL = False\n",
    "GLB_STORE_STATISTICS_MODEL = False\n",
    "GLB_TEST_MODEL = False\n",
    "\n",
    "# Globals for the model\n",
    "EPOCHS = 3\n",
    "EMBEDDING_SIZE = 512\n",
    "NUM_CLASSES = 2\n",
    "BATCH_SIZE = 8"
   ]
  },
  {
   "cell_type": "markdown",
   "id": "c874536b",
   "metadata": {
    "id": "c874536b"
   },
   "source": [
    "## Dataset"
   ]
  },
  {
   "cell_type": "code",
   "execution_count": null,
   "id": "ad292f28",
   "metadata": {
    "colab": {
     "base_uri": "https://localhost:8080/",
     "height": 495
    },
    "executionInfo": {
     "elapsed": 995,
     "status": "ok",
     "timestamp": 1674495353997,
     "user": {
      "displayName": "Isaac Olguín",
      "userId": "09697151780329788960"
     },
     "user_tz": -60
    },
    "id": "ad292f28",
    "outputId": "996cc3d0-baaa-4f21-9f80-cfa9ab468228"
   },
   "outputs": [
    {
     "data": {
      "text/html": [
       "\n",
       "  <div id=\"df-20c4f2b7-3ff0-45ad-9a1e-751b4d3061a8\">\n",
       "    <div class=\"colab-df-container\">\n",
       "      <div>\n",
       "<style scoped>\n",
       "    .dataframe tbody tr th:only-of-type {\n",
       "        vertical-align: middle;\n",
       "    }\n",
       "\n",
       "    .dataframe tbody tr th {\n",
       "        vertical-align: top;\n",
       "    }\n",
       "\n",
       "    .dataframe thead th {\n",
       "        text-align: right;\n",
       "    }\n",
       "</style>\n",
       "<table border=\"1\" class=\"dataframe\">\n",
       "  <thead>\n",
       "    <tr style=\"text-align: right;\">\n",
       "      <th></th>\n",
       "      <th>id_document</th>\n",
       "      <th>id_annotation</th>\n",
       "      <th>start</th>\n",
       "      <th>span</th>\n",
       "      <th>role</th>\n",
       "      <th>trauma</th>\n",
       "      <th>court</th>\n",
       "      <th>Comments1</th>\n",
       "      <th>Comments2</th>\n",
       "    </tr>\n",
       "  </thead>\n",
       "  <tbody>\n",
       "    <tr>\n",
       "      <th>0</th>\n",
       "      <td>63a16b2597ad59b4cfc56c2d</td>\n",
       "      <td>63a16cd397ad59b4cfc56c4e</td>\n",
       "      <td>997.0</td>\n",
       "      <td>A.  Milorad Kicanovic.</td>\n",
       "      <td>Witness</td>\n",
       "      <td>0.0</td>\n",
       "      <td>ICTY</td>\n",
       "      <td>NaN</td>\n",
       "      <td>NaN</td>\n",
       "    </tr>\n",
       "    <tr>\n",
       "      <th>1</th>\n",
       "      <td>63a16b2597ad59b4cfc56c2d</td>\n",
       "      <td>63a16cd697ad59b4cfc56c4f</td>\n",
       "      <td>961.0</td>\n",
       "      <td>A.  Yes.</td>\n",
       "      <td>Witness</td>\n",
       "      <td>0.0</td>\n",
       "      <td>ICTY</td>\n",
       "      <td>NaN</td>\n",
       "      <td>NaN</td>\n",
       "    </tr>\n",
       "    <tr>\n",
       "      <th>2</th>\n",
       "      <td>63a16b2597ad59b4cfc56c2d</td>\n",
       "      <td>63a16cdb97ad59b4cfc56c50</td>\n",
       "      <td>1060.0</td>\n",
       "      <td>A.  Because we had worked together in the Auto...</td>\n",
       "      <td>Witness</td>\n",
       "      <td>0.0</td>\n",
       "      <td>ICTY</td>\n",
       "      <td>NaN</td>\n",
       "      <td>NaN</td>\n",
       "    </tr>\n",
       "    <tr>\n",
       "      <th>3</th>\n",
       "      <td>63a16b2597ad59b4cfc56c2d</td>\n",
       "      <td>63a16cde97ad59b4cfc56c51</td>\n",
       "      <td>1157.0</td>\n",
       "      <td>A.  Serbian.</td>\n",
       "      <td>Witness</td>\n",
       "      <td>0.0</td>\n",
       "      <td>ICTY</td>\n",
       "      <td>NaN</td>\n",
       "      <td>NaN</td>\n",
       "    </tr>\n",
       "    <tr>\n",
       "      <th>4</th>\n",
       "      <td>63a16b2597ad59b4cfc56c2d</td>\n",
       "      <td>63a16ce197ad59b4cfc56c52</td>\n",
       "      <td>1230.0</td>\n",
       "      <td>A.  No, he said nothing.  He only said, \"I nee...</td>\n",
       "      <td>Witness</td>\n",
       "      <td>0.0</td>\n",
       "      <td>ICTY</td>\n",
       "      <td>NaN</td>\n",
       "      <td>NaN</td>\n",
       "    </tr>\n",
       "  </tbody>\n",
       "</table>\n",
       "</div>\n",
       "      <button class=\"colab-df-convert\" onclick=\"convertToInteractive('df-20c4f2b7-3ff0-45ad-9a1e-751b4d3061a8')\"\n",
       "              title=\"Convert this dataframe to an interactive table.\"\n",
       "              style=\"display:none;\">\n",
       "        \n",
       "  <svg xmlns=\"http://www.w3.org/2000/svg\" height=\"24px\"viewBox=\"0 0 24 24\"\n",
       "       width=\"24px\">\n",
       "    <path d=\"M0 0h24v24H0V0z\" fill=\"none\"/>\n",
       "    <path d=\"M18.56 5.44l.94 2.06.94-2.06 2.06-.94-2.06-.94-.94-2.06-.94 2.06-2.06.94zm-11 1L8.5 8.5l.94-2.06 2.06-.94-2.06-.94L8.5 2.5l-.94 2.06-2.06.94zm10 10l.94 2.06.94-2.06 2.06-.94-2.06-.94-.94-2.06-.94 2.06-2.06.94z\"/><path d=\"M17.41 7.96l-1.37-1.37c-.4-.4-.92-.59-1.43-.59-.52 0-1.04.2-1.43.59L10.3 9.45l-7.72 7.72c-.78.78-.78 2.05 0 2.83L4 21.41c.39.39.9.59 1.41.59.51 0 1.02-.2 1.41-.59l7.78-7.78 2.81-2.81c.8-.78.8-2.07 0-2.86zM5.41 20L4 18.59l7.72-7.72 1.47 1.35L5.41 20z\"/>\n",
       "  </svg>\n",
       "      </button>\n",
       "      \n",
       "  <style>\n",
       "    .colab-df-container {\n",
       "      display:flex;\n",
       "      flex-wrap:wrap;\n",
       "      gap: 12px;\n",
       "    }\n",
       "\n",
       "    .colab-df-convert {\n",
       "      background-color: #E8F0FE;\n",
       "      border: none;\n",
       "      border-radius: 50%;\n",
       "      cursor: pointer;\n",
       "      display: none;\n",
       "      fill: #1967D2;\n",
       "      height: 32px;\n",
       "      padding: 0 0 0 0;\n",
       "      width: 32px;\n",
       "    }\n",
       "\n",
       "    .colab-df-convert:hover {\n",
       "      background-color: #E2EBFA;\n",
       "      box-shadow: 0px 1px 2px rgba(60, 64, 67, 0.3), 0px 1px 3px 1px rgba(60, 64, 67, 0.15);\n",
       "      fill: #174EA6;\n",
       "    }\n",
       "\n",
       "    [theme=dark] .colab-df-convert {\n",
       "      background-color: #3B4455;\n",
       "      fill: #D2E3FC;\n",
       "    }\n",
       "\n",
       "    [theme=dark] .colab-df-convert:hover {\n",
       "      background-color: #434B5C;\n",
       "      box-shadow: 0px 1px 3px 1px rgba(0, 0, 0, 0.15);\n",
       "      filter: drop-shadow(0px 1px 2px rgba(0, 0, 0, 0.3));\n",
       "      fill: #FFFFFF;\n",
       "    }\n",
       "  </style>\n",
       "\n",
       "      <script>\n",
       "        const buttonEl =\n",
       "          document.querySelector('#df-20c4f2b7-3ff0-45ad-9a1e-751b4d3061a8 button.colab-df-convert');\n",
       "        buttonEl.style.display =\n",
       "          google.colab.kernel.accessAllowed ? 'block' : 'none';\n",
       "\n",
       "        async function convertToInteractive(key) {\n",
       "          const element = document.querySelector('#df-20c4f2b7-3ff0-45ad-9a1e-751b4d3061a8');\n",
       "          const dataTable =\n",
       "            await google.colab.kernel.invokeFunction('convertToInteractive',\n",
       "                                                     [key], {});\n",
       "          if (!dataTable) return;\n",
       "\n",
       "          const docLinkHtml = 'Like what you see? Visit the ' +\n",
       "            '<a target=\"_blank\" href=https://colab.research.google.com/notebooks/data_table.ipynb>data table notebook</a>'\n",
       "            + ' to learn more about interactive tables.';\n",
       "          element.innerHTML = '';\n",
       "          dataTable['output_type'] = 'display_data';\n",
       "          await google.colab.output.renderOutput(dataTable, element);\n",
       "          const docLink = document.createElement('div');\n",
       "          docLink.innerHTML = docLinkHtml;\n",
       "          element.appendChild(docLink);\n",
       "        }\n",
       "      </script>\n",
       "    </div>\n",
       "  </div>\n",
       "  "
      ],
      "text/plain": [
       "                id_document             id_annotation   start  \\\n",
       "0  63a16b2597ad59b4cfc56c2d  63a16cd397ad59b4cfc56c4e   997.0   \n",
       "1  63a16b2597ad59b4cfc56c2d  63a16cd697ad59b4cfc56c4f   961.0   \n",
       "2  63a16b2597ad59b4cfc56c2d  63a16cdb97ad59b4cfc56c50  1060.0   \n",
       "3  63a16b2597ad59b4cfc56c2d  63a16cde97ad59b4cfc56c51  1157.0   \n",
       "4  63a16b2597ad59b4cfc56c2d  63a16ce197ad59b4cfc56c52  1230.0   \n",
       "\n",
       "                                                span     role  trauma court  \\\n",
       "0                             A.  Milorad Kicanovic.  Witness     0.0  ICTY   \n",
       "1                                           A.  Yes.  Witness     0.0  ICTY   \n",
       "2  A.  Because we had worked together in the Auto...  Witness     0.0  ICTY   \n",
       "3                                       A.  Serbian.  Witness     0.0  ICTY   \n",
       "4  A.  No, he said nothing.  He only said, \"I nee...  Witness     0.0  ICTY   \n",
       "\n",
       "  Comments1 Comments2  \n",
       "0       NaN       NaN  \n",
       "1       NaN       NaN  \n",
       "2       NaN       NaN  \n",
       "3       NaN       NaN  \n",
       "4       NaN       NaN  "
      ]
     },
     "execution_count": 8,
     "metadata": {},
     "output_type": "execute_result"
    }
   ],
   "source": [
    "df_dataset = mlclassif_utilities.import_dataset_from_excel(PATH_DATASET, INDEX_COLUMNS_DATASET, LIST_NAME_COLUMNS_DATASET)\n",
    "df_dataset.head()"
   ]
  },
  {
   "cell_type": "code",
   "execution_count": null,
   "id": "9f80de37",
   "metadata": {
    "colab": {
     "base_uri": "https://localhost:8080/"
    },
    "executionInfo": {
     "elapsed": 409,
     "status": "ok",
     "timestamp": 1674495357821,
     "user": {
      "displayName": "Isaac Olguín",
      "userId": "09697151780329788960"
     },
     "user_tz": -60
    },
    "id": "9f80de37",
    "outputId": "1f41f3ed-76e9-4e67-8bcd-dc6266953fe4"
   },
   "outputs": [
    {
     "name": "stdout",
     "output_type": "stream",
     "text": [
      "Num of different traumas in the dataset is 2 which are:\n",
      "\t 1 - 0.0\n",
      "\t 2 - 1.0\n"
     ]
    }
   ],
   "source": [
    "classes_dataset = mlclassif_utilities.get_unique_values_from_dataset(df_dataset, \"trauma\")\n",
    "print(f\"Num of different traumas in the dataset is {len(classes_dataset)} which are:\")\n",
    "for index, elem in enumerate(classes_dataset):\n",
    "    print(\"\\t\", index+1, \"-\", elem)"
   ]
  },
  {
   "cell_type": "markdown",
   "id": "f6af45b0",
   "metadata": {
    "id": "f6af45b0"
   },
   "source": [
    "### Distribution of all classes within the dataset"
   ]
  },
  {
   "cell_type": "code",
   "execution_count": null,
   "id": "0ea58873",
   "metadata": {
    "colab": {
     "base_uri": "https://localhost:8080/",
     "height": 359
    },
    "executionInfo": {
     "elapsed": 677,
     "status": "ok",
     "timestamp": 1674495358911,
     "user": {
      "displayName": "Isaac Olguín",
      "userId": "09697151780329788960"
     },
     "user_tz": -60
    },
    "id": "0ea58873",
    "outputId": "05820748-953e-4218-9c2e-17023e07d9f7"
   },
   "outputs": [
    {
     "data": {
      "image/png": "[encoded data removed]",
      "text/plain": [
       "<Figure size 432x288 with 1 Axes>"
      ]
     },
     "metadata": {},
     "output_type": "display_data"
    },
    {
     "data": {
      "text/html": [
       "\n",
       "  <div id=\"df-0fbcfab3-efbb-4ed5-8131-3178b08720f1\">\n",
       "    <div class=\"colab-df-container\">\n",
       "      <div>\n",
       "<style scoped>\n",
       "    .dataframe tbody tr th:only-of-type {\n",
       "        vertical-align: middle;\n",
       "    }\n",
       "\n",
       "    .dataframe tbody tr th {\n",
       "        vertical-align: top;\n",
       "    }\n",
       "\n",
       "    .dataframe thead th {\n",
       "        text-align: right;\n",
       "    }\n",
       "</style>\n",
       "<table border=\"1\" class=\"dataframe\">\n",
       "  <thead>\n",
       "    <tr style=\"text-align: right;\">\n",
       "      <th></th>\n",
       "      <th>trauma</th>\n",
       "      <th>span</th>\n",
       "    </tr>\n",
       "  </thead>\n",
       "  <tbody>\n",
       "    <tr>\n",
       "      <th>0</th>\n",
       "      <td>0.0</td>\n",
       "      <td>4294</td>\n",
       "    </tr>\n",
       "    <tr>\n",
       "      <th>1</th>\n",
       "      <td>1.0</td>\n",
       "      <td>478</td>\n",
       "    </tr>\n",
       "  </tbody>\n",
       "</table>\n",
       "</div>\n",
       "      <button class=\"colab-df-convert\" onclick=\"convertToInteractive('df-0fbcfab3-efbb-4ed5-8131-3178b08720f1')\"\n",
       "              title=\"Convert this dataframe to an interactive table.\"\n",
       "              style=\"display:none;\">\n",
       "        \n",
       "  <svg xmlns=\"http://www.w3.org/2000/svg\" height=\"24px\"viewBox=\"0 0 24 24\"\n",
       "       width=\"24px\">\n",
       "    <path d=\"M0 0h24v24H0V0z\" fill=\"none\"/>\n",
       "    <path d=\"M18.56 5.44l.94 2.06.94-2.06 2.06-.94-2.06-.94-.94-2.06-.94 2.06-2.06.94zm-11 1L8.5 8.5l.94-2.06 2.06-.94-2.06-.94L8.5 2.5l-.94 2.06-2.06.94zm10 10l.94 2.06.94-2.06 2.06-.94-2.06-.94-.94-2.06-.94 2.06-2.06.94z\"/><path d=\"M17.41 7.96l-1.37-1.37c-.4-.4-.92-.59-1.43-.59-.52 0-1.04.2-1.43.59L10.3 9.45l-7.72 7.72c-.78.78-.78 2.05 0 2.83L4 21.41c.39.39.9.59 1.41.59.51 0 1.02-.2 1.41-.59l7.78-7.78 2.81-2.81c.8-.78.8-2.07 0-2.86zM5.41 20L4 18.59l7.72-7.72 1.47 1.35L5.41 20z\"/>\n",
       "  </svg>\n",
       "      </button>\n",
       "      \n",
       "  <style>\n",
       "    .colab-df-container {\n",
       "      display:flex;\n",
       "      flex-wrap:wrap;\n",
       "      gap: 12px;\n",
       "    }\n",
       "\n",
       "    .colab-df-convert {\n",
       "      background-color: #E8F0FE;\n",
       "      border: none;\n",
       "      border-radius: 50%;\n",
       "      cursor: pointer;\n",
       "      display: none;\n",
       "      fill: #1967D2;\n",
       "      height: 32px;\n",
       "      padding: 0 0 0 0;\n",
       "      width: 32px;\n",
       "    }\n",
       "\n",
       "    .colab-df-convert:hover {\n",
       "      background-color: #E2EBFA;\n",
       "      box-shadow: 0px 1px 2px rgba(60, 64, 67, 0.3), 0px 1px 3px 1px rgba(60, 64, 67, 0.15);\n",
       "      fill: #174EA6;\n",
       "    }\n",
       "\n",
       "    [theme=dark] .colab-df-convert {\n",
       "      background-color: #3B4455;\n",
       "      fill: #D2E3FC;\n",
       "    }\n",
       "\n",
       "    [theme=dark] .colab-df-convert:hover {\n",
       "      background-color: #434B5C;\n",
       "      box-shadow: 0px 1px 3px 1px rgba(0, 0, 0, 0.15);\n",
       "      filter: drop-shadow(0px 1px 2px rgba(0, 0, 0, 0.3));\n",
       "      fill: #FFFFFF;\n",
       "    }\n",
       "  </style>\n",
       "\n",
       "      <script>\n",
       "        const buttonEl =\n",
       "          document.querySelector('#df-0fbcfab3-efbb-4ed5-8131-3178b08720f1 button.colab-df-convert');\n",
       "        buttonEl.style.display =\n",
       "          google.colab.kernel.accessAllowed ? 'block' : 'none';\n",
       "\n",
       "        async function convertToInteractive(key) {\n",
       "          const element = document.querySelector('#df-0fbcfab3-efbb-4ed5-8131-3178b08720f1');\n",
       "          const dataTable =\n",
       "            await google.colab.kernel.invokeFunction('convertToInteractive',\n",
       "                                                     [key], {});\n",
       "          if (!dataTable) return;\n",
       "\n",
       "          const docLinkHtml = 'Like what you see? Visit the ' +\n",
       "            '<a target=\"_blank\" href=https://colab.research.google.com/notebooks/data_table.ipynb>data table notebook</a>'\n",
       "            + ' to learn more about interactive tables.';\n",
       "          element.innerHTML = '';\n",
       "          dataTable['output_type'] = 'display_data';\n",
       "          await google.colab.output.renderOutput(dataTable, element);\n",
       "          const docLink = document.createElement('div');\n",
       "          docLink.innerHTML = docLinkHtml;\n",
       "          element.appendChild(docLink);\n",
       "        }\n",
       "      </script>\n",
       "    </div>\n",
       "  </div>\n",
       "  "
      ],
      "text/plain": [
       "   trauma  span\n",
       "0     0.0  4294\n",
       "1     1.0   478"
      ]
     },
     "execution_count": 10,
     "metadata": {},
     "output_type": "execute_result"
    }
   ],
   "source": [
    "distribution_classes = mlclassif_utilities.get_distribution_classes_from_dataset(df_dataset, [\"trauma\"], \"span\")\n",
    "\n",
    "labels = list(distribution_classes[\"trauma\"])\n",
    "sizes = list(distribution_classes[\"span\"])\n",
    "\n",
    "fig1, ax1 = plt.subplots()\n",
    "ax1.set_title(f'Distribution of classes in the dataset with a total number of {distribution_classes[\"span\"].sum()} spans')\n",
    "ax1.pie(sizes, labels=labels, autopct='%2.1f%%', shadow=True, startangle=0) #'%1.1f%%'\n",
    "ax1.axis('equal')  # Equal aspect ratio ensures that pie is drawn as a circle.\n",
    "\n",
    "plt.show()\n",
    "\n",
    "distribution_classes"
   ]
  },
  {
   "cell_type": "markdown",
   "id": "be2fd792",
   "metadata": {
    "id": "be2fd792"
   },
   "source": [
    "## Setup"
   ]
  },
  {
   "cell_type": "markdown",
   "id": "9ff030b8",
   "metadata": {
    "id": "9ff030b8"
   },
   "source": [
    "### Device\n",
    "\n",
    "Get the GPU device if exists, otherwise get the cpu as default dev."
   ]
  },
  {
   "cell_type": "code",
   "execution_count": null,
   "id": "0092d9e2",
   "metadata": {
    "colab": {
     "base_uri": "https://localhost:8080/"
    },
    "executionInfo": {
     "elapsed": 901,
     "status": "ok",
     "timestamp": 1674495364568,
     "user": {
      "displayName": "Isaac Olguín",
      "userId": "09697151780329788960"
     },
     "user_tz": -60
    },
    "id": "0092d9e2",
    "outputId": "b26f357f-62af-4672-ce22-b6f7aa55de45"
   },
   "outputs": [
    {
     "name": "stdout",
     "output_type": "stream",
     "text": [
      "INFO  There are 1 GPU(s) available.\n",
      "\n",
      "These are the available devices:\n",
      "INFO  \t 1 - Tesla T4\n",
      "\n",
      "\n",
      "==> Selected device is 'cuda' <==\n"
     ]
    }
   ],
   "source": [
    "device = mlclassif_utilities.get_gpu_device_if_exists()\n",
    "\n",
    "print(f\"\\n\\n==> Selected device is '{device}' <==\")"
   ]
  },
  {
   "cell_type": "markdown",
   "id": "aaed2784",
   "metadata": {
    "id": "aaed2784"
   },
   "source": [
    "## Model"
   ]
  },
  {
   "cell_type": "markdown",
   "id": "cdd6018d",
   "metadata": {
    "id": "cdd6018d"
   },
   "source": [
    "### Tokenizer"
   ]
  },
  {
   "cell_type": "code",
   "execution_count": null,
   "id": "9e414bb4",
   "metadata": {
    "colab": {
     "base_uri": "https://localhost:8080/",
     "height": 165,
     "referenced_widgets": [
      "a701af83a6394ccd99f20f3f0ddc5f75",
      "3020f1c27b5746ad81121ea0342eb37f",
      "7a5f4c7393c2497dab96ae69639c9497",
      "172cdc319142491aa5dbe8fac2a70202",
      "da66d3da54864679a3bbb9e6b4f8738f",
      "08557e252d84455fb0541bda54848085",
      "cb240d489bbb4167990fd026c7e08099",
      "d7e5eb5b2c604b4e8fdbe1e882836aad",
      "f368596aabe8445380acdaf3b10a7d8a",
      "2340c844a6124095bdb558c55c920ac8",
      "8f9300cf6e524f8fa1b1fb68a587d26e",
      "a6216abda2f1466fa1bfbc5dc3a0e0fd",
      "268d353999cc4de99c6b24b641183e0d",
      "14ad9d1f77a2425ca561e3434bef8276",
      "d4fb6eb88cd243269cdb37c972c093c5",
      "792b34b9d5ee45ecab3b02a354c01076",
      "58853d1d4aa74fabb0ce7953cf8e16c5",
      "0daa18b273f24eec8fbf917551783814",
      "85a4a49d81a942a5b046f5e840c79d2f",
      "151ab63a21d5480b97f1f00708604d9c",
      "534ee944412f40cb9db6bebcaa517fc7",
      "13f1725b0d5348a9b0772c6cf1f6d117",
      "80d709c7640b4b3d8fd5770009f50e0b",
      "590403bc5cf747fb9ef757db099f6152",
      "e401b1d99669427ebfd78e10e713564a",
      "a1e9bd267b2844b9a300ac0698361ef1",
      "32c6b9b1cae84dcc8d98eab904c4c897",
      "8e77f7352b3f4447b0113a5f686d66c2",
      "44480b95185447698f427077ce235edf",
      "d64b58f0a64342f19c5b26eadd06464b",
      "9bcaf82d371148609b76307ebfdb52ee",
      "063dce34cbdb46849b3aeaf99f02c259",
      "b1e47071bddc4cfb96c5ae3aba6a5596"
     ]
    },
    "executionInfo": {
     "elapsed": 3716,
     "status": "ok",
     "timestamp": 1674495371987,
     "user": {
      "displayName": "Isaac Olguín",
      "userId": "09697151780329788960"
     },
     "user_tz": -60
    },
    "id": "9e414bb4",
    "outputId": "cc877ad6-a8a7-4190-977e-9b374d2ef795"
   },
   "outputs": [
    {
     "name": "stdout",
     "output_type": "stream",
     "text": [
      "DEBUG Loading BERT tokenizer...\n"
     ]
    },
    {
     "data": {
      "application/vnd.jupyter.widget-view+json": {
       "model_id": "a701af83a6394ccd99f20f3f0ddc5f75",
       "version_major": 2,
       "version_minor": 0
      },
      "text/plain": [
       "Downloading:   0%|          | 0.00/232k [00:00<?, ?B/s]"
      ]
     },
     "metadata": {},
     "output_type": "display_data"
    },
    {
     "data": {
      "application/vnd.jupyter.widget-view+json": {
       "model_id": "a6216abda2f1466fa1bfbc5dc3a0e0fd",
       "version_major": 2,
       "version_minor": 0
      },
      "text/plain": [
       "Downloading:   0%|          | 0.00/28.0 [00:00<?, ?B/s]"
      ]
     },
     "metadata": {},
     "output_type": "display_data"
    },
    {
     "data": {
      "application/vnd.jupyter.widget-view+json": {
       "model_id": "80d709c7640b4b3d8fd5770009f50e0b",
       "version_major": 2,
       "version_minor": 0
      },
      "text/plain": [
       "Downloading:   0%|          | 0.00/570 [00:00<?, ?B/s]"
      ]
     },
     "metadata": {},
     "output_type": "display_data"
    },
    {
     "name": "stdout",
     "output_type": "stream",
     "text": [
      "INFO  Bert tokenizer was loaded successfully (bert-base-uncased)\n",
      "\tdo_lower_case=True\n"
     ]
    }
   ],
   "source": [
    "#If no parameters are sent, default values are considered. \n",
    "#    IDModel:      Bert\n",
    "#    Model namel:  bert-base-uncased\n",
    "#    Do uncase:    True\n",
    "\n",
    "tokenizer = mlclassif_utilities.get_tokenizer() "
   ]
  },
  {
   "cell_type": "code",
   "execution_count": null,
   "id": "355bb380",
   "metadata": {
    "id": "355bb380"
   },
   "outputs": [],
   "source": [
    "list_all_spans = list(df_dataset[\"span\"])\n",
    "list_all_classes = list(df_dataset[\"trauma\"])"
   ]
  },
  {
   "cell_type": "markdown",
   "id": "1c0510c7",
   "metadata": {
    "id": "1c0510c7"
   },
   "source": [
    "### Max length of a sentence among all sentences within the dataset"
   ]
  },
  {
   "cell_type": "code",
   "execution_count": null,
   "id": "16ac2623",
   "metadata": {
    "colab": {
     "base_uri": "https://localhost:8080/"
    },
    "executionInfo": {
     "elapsed": 4393,
     "status": "ok",
     "timestamp": 1674495378838,
     "user": {
      "displayName": "Isaac Olguín",
      "userId": "09697151780329788960"
     },
     "user_tz": -60
    },
    "id": "16ac2623",
    "outputId": "58c96cbb-1e90-462a-b7d8-433ade68e5ad"
   },
   "outputs": [
    {
     "name": "stdout",
     "output_type": "stream",
     "text": [
      "INFO  Max sentence length: 298 found at index 4682. Sentence is:\n",
      "\n",
      "\n",
      "A. <There was a> committee of monks at the level of the province which <the chief> was in charge. I was in charge of the New People, their living conditions, their health; I was in charge of meetings and the kitchens. <So many people were sick. So, I prepared food for them. One person was> very hungry; <so he ate> so <much food> that <he> fainted. He did not die, but nearly died. We divided our roles. As regards the monks, what I can tell you is that they were <defrocked> but I do not know why. <But, my> idea at the time was that they should be kept, they shouldn't be <defrocked since they were already old> but <we should not allow more people to be ordained. I said that, but I did not dare to say it loud enough to be heard. I talked and walked the talk at the same time, but for fear, I did not dare to talk loudly. The state of life was like that.> I was at the pagoda. <I looked after it>. I <used the wooden boards to tightly close the> doors and the <walls> in order to protect the statue of the Buddha <from being taken away>. After the war <ended>, the statue was there. It was Ang Montreay (phonetic) pagoda in Kus <commune>.\n",
      "\n",
      "\n",
      "\n"
     ]
    },
    {
     "data": {
      "text/plain": [
       "298"
      ]
     },
     "execution_count": 14,
     "metadata": {},
     "output_type": "execute_result"
    }
   ],
   "source": [
    "mlclassif_utilities.get_max_length_of_a_sentence_among_all_sentences(tokenizer, list_all_spans, False)"
   ]
  },
  {
   "cell_type": "markdown",
   "id": "5ab1df1a",
   "metadata": {
    "id": "5ab1df1a"
   },
   "source": [
    "### Tokenize sentences"
   ]
  },
  {
   "cell_type": "code",
   "execution_count": null,
   "id": "37bf2aff",
   "metadata": {
    "colab": {
     "base_uri": "https://localhost:8080/"
    },
    "executionInfo": {
     "elapsed": 4677,
     "status": "ok",
     "timestamp": 1674495383503,
     "user": {
      "displayName": "Isaac Olguín",
      "userId": "09697151780329788960"
     },
     "user_tz": -60
    },
    "id": "37bf2aff",
    "outputId": "d7d6a479-4b25-4394-fd55-a238186cb3ff"
   },
   "outputs": [
    {
     "name": "stderr",
     "output_type": "stream",
     "text": [
      "Truncation was not explicitly activated but `max_length` is provided a specific value, please use `truncation=True` to explicitly truncate examples to max length. Defaulting to 'longest_first' truncation strategy. If you encode pairs of sequences (GLUE-style) with the tokenizer you can select this strategy more precisely by providing a specific strategy to `truncation`.\n",
      "/usr/local/lib/python3.8/dist-packages/transformers/tokenization_utils_base.py:2336: FutureWarning: The `pad_to_max_length` argument is deprecated and will be removed in a future version, use `padding=True` or `padding='longest'` to pad to the longest sequence in the batch, or use `padding='max_length'` to pad to a max length. In this case, you can give a specific length with `max_length` (e.g. `max_length=45`) or leave max_length to None to pad to the maximal input size of the model (e.g. 512 for Bert).\n",
      "  warnings.warn(\n"
     ]
    }
   ],
   "source": [
    "# If _return_attention_mask, a tuple of two lists is given (tensor_of_inputs, tensor_of_attention_masks)\n",
    "all_spans_tokenized = mlclassif_utilities.get_all_spans_tokenized(\n",
    "    mlclassif_utilities.GLB_BERT_MODEL_ID, \n",
    "    tokenizer,\n",
    "    list_all_spans,\n",
    "    _add_special_tokens = True, \n",
    "    _max_length = 512,\n",
    "    _pad_to_max_length = True,\n",
    "    _return_attention_mask = GLB_RETURN_ATTENTION_MASK, \n",
    "    type_tensors = mlclassif_utilities.GLB_PYTORCH_TENSOR_TYPE\n",
    ")"
   ]
  },
  {
   "cell_type": "code",
   "execution_count": null,
   "id": "fb85f93f",
   "metadata": {
    "id": "fb85f93f"
   },
   "outputs": [],
   "source": [
    "input_ids = None\n",
    "attention_masks = None\n",
    "\n",
    "if GLB_RETURN_ATTENTION_MASK:\n",
    "    input_ids = mlclassif_utilities.convert_list_into_pytorch_tensor(all_spans_tokenized[0])\n",
    "    attention_masks = mlclassif_utilities.convert_list_into_pytorch_tensor(all_spans_tokenized[1])\n",
    "else:\n",
    "    input_ids = mlclassif_utilities.convert_list_into_pytorch_tensor(all_spans_tokenized)"
   ]
  },
  {
   "cell_type": "markdown",
   "id": "5038be47",
   "metadata": {
    "id": "5038be47"
   },
   "source": [
    "### Split dataset"
   ]
  },
  {
   "cell_type": "code",
   "execution_count": null,
   "id": "b0a1e2a1",
   "metadata": {
    "id": "b0a1e2a1"
   },
   "outputs": [],
   "source": [
    "numeric_classes = mlclassif_utilities.convert_list_span_classes_into_numeric_values(classes_dataset, list_all_classes)\n",
    "numeric_classes = mlclassif_utilities.convert_list_labels_into_pytorch_tensor(numeric_classes)"
   ]
  },
  {
   "cell_type": "code",
   "execution_count": null,
   "id": "d0fade7c",
   "metadata": {
    "colab": {
     "base_uri": "https://localhost:8080/"
    },
    "executionInfo": {
     "elapsed": 11,
     "status": "ok",
     "timestamp": 1674495383505,
     "user": {
      "displayName": "Isaac Olguín",
      "userId": "09697151780329788960"
     },
     "user_tz": -60
    },
    "id": "d0fade7c",
    "outputId": "9141c80c-efbb-45c6-e8f8-b39b4d4a615c"
   },
   "outputs": [
    {
     "name": "stdout",
     "output_type": "stream",
     "text": [
      "INFO  \n",
      "CORPUS TRAINING AND VALIDATION: \n",
      "            \n",
      "\t Length labels 4533\n",
      "            \n",
      "\t Length input_ids 4533\n",
      "            \n",
      "\t Length attention_masks 4533\n",
      "            \n",
      "\n",
      "INFO  \n",
      "\tCORPUS TRAINING:  \n",
      "            \n",
      "\t\t Length labels 4079\n",
      "            \n",
      "\t\t Length input_ids 4079\n",
      "            \n",
      "\t\t Length attention_masks 4079\n",
      "INFO  \n",
      "\tCORPUS VALIDATION: \n",
      "            \n",
      "\t\t Length labels 454\n",
      "            \n",
      "\t\t Length input_ids 454\n",
      "            \n",
      "\t\t Length attention_masks 454\n",
      "INFO  \n",
      "INFO  \n",
      "CORPUS TEST: \n",
      "            \n",
      "\t Length labels 239\n",
      "            \n",
      "\t Length input_ids 239\n",
      "            \n",
      "\t Length attention_masks 239\n",
      "            \n",
      "\n"
     ]
    }
   ],
   "source": [
    "### Split dataset\n",
    "if not GLB_CROSS_VALIDATION:\n",
    "    train_labels_corpus, train_input_ids, train_attention_masks, val_labels_corpus, val_input_ids, val_attention_masks, test_labels_corpus, test_input_ids, test_attention_masks = mlclassif_utilities.split_dataset_train_val_test(numeric_classes, input_ids, attention_masks)\n",
    "else:\n",
    "    ### Pending k-Fold\n",
    "    train_val_corpus_cross_validation, test_corpus_cross_validation = mlclassif_utilities.split_dataset_train_val_test_k_fold(numeric_classes, input_ids, attention_masks, 0.1)\n",
    "\n",
    "    #test_labels_corpus, test_input_ids, test_attention_masks = \n",
    "    #train_labels_corpus, train_input_ids, train_attention_masks, val_labels_corpus, val_input_ids, val_attention_masks,"
   ]
  },
  {
   "cell_type": "markdown",
   "id": "f815b4fb",
   "metadata": {
    "id": "f815b4fb"
   },
   "source": [
    "### Create datasets and dataloaders"
   ]
  },
  {
   "cell_type": "code",
   "execution_count": null,
   "id": "fc5768b9",
   "metadata": {
    "id": "fc5768b9"
   },
   "outputs": [],
   "source": [
    "train_dataset = mlclassif_utilities.create_tensor_dataset(train_input_ids, train_attention_masks, train_labels_corpus)\n",
    "val_dataset = mlclassif_utilities.create_tensor_dataset(val_input_ids, val_attention_masks, val_labels_corpus)\n",
    "test_dataset = mlclassif_utilities.create_tensor_dataset(test_input_ids, test_attention_masks, test_labels_corpus)\n",
    "\n",
    "train_dataloader = mlclassif_utilities.create_dataloader(train_dataset, BATCH_SIZE)\n",
    "val_dataloader = mlclassif_utilities.create_dataloader(val_dataset, BATCH_SIZE)\n",
    "test_dataloader = mlclassif_utilities.create_dataloader(test_dataset, BATCH_SIZE)"
   ]
  },
  {
   "cell_type": "markdown",
   "id": "b9e6a9f7",
   "metadata": {
    "id": "b9e6a9f7"
   },
   "source": [
    "### Create model"
   ]
  },
  {
   "cell_type": "code",
   "execution_count": null,
   "id": "4c6da6a6",
   "metadata": {
    "colab": {
     "base_uri": "https://localhost:8080/",
     "height": 156,
     "referenced_widgets": [
      "b9837f12cd5c44dbab05e9ffaf684196",
      "d8339fe614304474ae77c0a7a5daa454",
      "345d01c6b8fe4e65a9e23b9a9104ae60",
      "14af56c1277e4f2ea376e8b87b95c7e8",
      "aeda3e95cec24169ba6e0a36ea374f22",
      "8b3b39f6862a41e396f66094ed48a707",
      "c02ea252fe704b869666fff26ddec8ba",
      "d0a92a6565d246f8a80612b83a47e74f",
      "fb6ae61da8b545fc94bd8bb93239c453",
      "435d38c9173641ceb0138432fbc84a77",
      "009c6c4ca6624d9da18223af1c7b04c6"
     ]
    },
    "executionInfo": {
     "elapsed": 13692,
     "status": "ok",
     "timestamp": 1674495399353,
     "user": {
      "displayName": "Isaac Olguín",
      "userId": "09697151780329788960"
     },
     "user_tz": -60
    },
    "id": "4c6da6a6",
    "outputId": "6867f090-b276-457d-d4a4-7bbad7e448d9"
   },
   "outputs": [
    {
     "data": {
      "application/vnd.jupyter.widget-view+json": {
       "model_id": "b9837f12cd5c44dbab05e9ffaf684196",
       "version_major": 2,
       "version_minor": 0
      },
      "text/plain": [
       "Downloading:   0%|          | 0.00/440M [00:00<?, ?B/s]"
      ]
     },
     "metadata": {},
     "output_type": "display_data"
    },
    {
     "name": "stderr",
     "output_type": "stream",
     "text": [
      "Some weights of the model checkpoint at bert-base-uncased were not used when initializing BertForSequenceClassification: ['cls.predictions.transform.dense.bias', 'cls.predictions.bias', 'cls.predictions.transform.LayerNorm.weight', 'cls.seq_relationship.bias', 'cls.predictions.transform.dense.weight', 'cls.predictions.transform.LayerNorm.bias', 'cls.predictions.decoder.weight', 'cls.seq_relationship.weight']\n",
      "- This IS expected if you are initializing BertForSequenceClassification from the checkpoint of a model trained on another task or with another architecture (e.g. initializing a BertForSequenceClassification model from a BertForPreTraining model).\n",
      "- This IS NOT expected if you are initializing BertForSequenceClassification from the checkpoint of a model that you expect to be exactly identical (initializing a BertForSequenceClassification model from a BertForSequenceClassification model).\n",
      "Some weights of BertForSequenceClassification were not initialized from the model checkpoint at bert-base-uncased and are newly initialized: ['classifier.weight', 'classifier.bias']\n",
      "You should probably TRAIN this model on a down-stream task to be able to use it for predictions and inference.\n"
     ]
    }
   ],
   "source": [
    "model = mlclassif_utilities.create_model(\n",
    "    mlclassif_utilities.GLB_BERT_MODEL_ID,\n",
    "    mlclassif_utilities.GLB_BERT_BASE_UNCASED_MODEL_NAME,\n",
    "    NUM_CLASSES,\n",
    "    True #RunInGPU\n",
    ")"
   ]
  },
  {
   "cell_type": "markdown",
   "id": "70912f68",
   "metadata": {
    "id": "70912f68"
   },
   "source": [
    "### Get optimizer and scheduler"
   ]
  },
  {
   "cell_type": "code",
   "execution_count": null,
   "id": "6983aa9f",
   "metadata": {
    "colab": {
     "base_uri": "https://localhost:8080/"
    },
    "executionInfo": {
     "elapsed": 395,
     "status": "ok",
     "timestamp": 1674495462416,
     "user": {
      "displayName": "Isaac Olguín",
      "userId": "09697151780329788960"
     },
     "user_tz": -60
    },
    "id": "6983aa9f",
    "outputId": "13986f50-b502-47ad-94ff-71555e620c70"
   },
   "outputs": [
    {
     "name": "stderr",
     "output_type": "stream",
     "text": [
      "/usr/local/lib/python3.8/dist-packages/transformers/optimization.py:306: FutureWarning: This implementation of AdamW is deprecated and will be removed in a future version. Use the PyTorch implementation torch.optim.AdamW instead, or set `no_deprecation_warning=True` to disable this warning\n",
      "  warnings.warn(\n"
     ]
    }
   ],
   "source": [
    "optimizer = mlclassif_utilities.get_optimizer(model)\n",
    "scheduler = mlclassif_utilities.get_scheduler(optimizer)"
   ]
  },
  {
   "cell_type": "markdown",
   "id": "cD-d6ZFItd8z",
   "metadata": {
    "id": "cD-d6ZFItd8z"
   },
   "source": [
    "### Train and validate the model"
   ]
  },
  {
   "cell_type": "code",
   "execution_count": null,
   "id": "SpmOebJstQc-",
   "metadata": {
    "colab": {
     "base_uri": "https://localhost:8080/"
    },
    "executionInfo": {
     "elapsed": 1155459,
     "status": "ok",
     "timestamp": 1674496650053,
     "user": {
      "displayName": "Isaac Olguín",
      "userId": "09697151780329788960"
     },
     "user_tz": -60
    },
    "id": "SpmOebJstQc-",
    "outputId": "7039a8ff-b93f-4c11-f61a-bdf57b99f816"
   },
   "outputs": [
    {
     "name": "stdout",
     "output_type": "stream",
     "text": [
      "DEBUG \n",
      "INFO  ======== Epoch 1 / 3 ========\n",
      "INFO  Training...\n",
      "DEBUG   Batch   100  of    510.    Elapsed: 0:01:12.\n",
      "DEBUG   Batch   200  of    510.    Elapsed: 0:02:25.\n",
      "DEBUG   Batch   300  of    510.    Elapsed: 0:03:37.\n",
      "DEBUG   Batch   400  of    510.    Elapsed: 0:04:50.\n",
      "DEBUG   Batch   500  of    510.    Elapsed: 0:06:03.\n",
      "INFO  Epoch 1 : \n",
      "            Train_acc : 0.9047035069177279\n",
      "            Train_precision (macro, micro): [0.67605045 0.90470351]\n",
      "            Train_recall  (macro, micro): [0.57549619 0.90470351]\n",
      "            Train_F1 : [0.59210339 0.90470351]\n",
      "DEBUG \n",
      "INFO    Average training loss: 0.24\n",
      "INFO    Training epoch took: 0:06:10\n",
      "INFO  Classification report. TRAINING at epoch 1 \n",
      "               precision    recall  f1-score   support\n",
      "\n",
      "           0       0.94      0.98      0.96      3670\n",
      "           1       0.68      0.39      0.50       409\n",
      "\n",
      "    accuracy                           0.92      4079\n",
      "   macro avg       0.81      0.69      0.73      4079\n",
      "weighted avg       0.91      0.92      0.91      4079\n",
      "\n",
      "DEBUG \n",
      "INFO  Running Validation...\n",
      "INFO  Epoch 1 : \n",
      "                Valid_acc : 0.9652998064745965\n",
      "                Valid_precision (macro, micro): [0.89599452 0.96529981]\n",
      "                Valid_recall (macro, micro): [0.94277971 0.96529981]\n",
      "                Valid_F1 (macro, micro): [0.91650798 0.96529981]\n",
      "INFO    Accuracy: 0.95\n",
      "INFO    Validation Loss: 0.13\n",
      "INFO    Validation took: 0:00:15\n",
      "INFO  Classification report. VALIDATION at epoch 1 \n",
      "               precision    recall  f1-score   support\n",
      "\n",
      "           0       0.99      0.96      0.97       409\n",
      "           1       0.70      0.89      0.78        45\n",
      "\n",
      "    accuracy                           0.95       454\n",
      "   macro avg       0.84      0.92      0.88       454\n",
      "weighted avg       0.96      0.95      0.95       454\n",
      "\n",
      "DEBUG \n",
      "INFO  ======== Epoch 2 / 3 ========\n",
      "INFO  Training...\n",
      "DEBUG   Batch   100  of    510.    Elapsed: 0:01:12.\n",
      "DEBUG   Batch   200  of    510.    Elapsed: 0:02:25.\n",
      "DEBUG   Batch   300  of    510.    Elapsed: 0:03:38.\n",
      "DEBUG   Batch   400  of    510.    Elapsed: 0:04:50.\n",
      "DEBUG   Batch   500  of    510.    Elapsed: 0:06:03.\n",
      "INFO  Epoch 2 : \n",
      "            Train_acc : 0.965102320455439\n",
      "            Train_precision (macro, micro): [0.90510818 0.96510232]\n",
      "            Train_recall  (macro, micro): [0.90480805 0.96510232]\n",
      "            Train_F1 : [0.90456254 0.96510232]\n",
      "DEBUG \n",
      "INFO    Average training loss: 0.13\n",
      "INFO    Training epoch took: 0:06:10\n",
      "INFO  Classification report. TRAINING at epoch 2 \n",
      "               precision    recall  f1-score   support\n",
      "\n",
      "           0       0.98      0.98      0.98      3670\n",
      "           1       0.83      0.80      0.82       409\n",
      "\n",
      "    accuracy                           0.96      4079\n",
      "   macro avg       0.91      0.89      0.90      4079\n",
      "weighted avg       0.96      0.96      0.96      4079\n",
      "\n",
      "DEBUG \n",
      "INFO  Running Validation...\n",
      "INFO  Epoch 2 : \n",
      "                Valid_acc : 0.9526605706342277\n",
      "                Valid_precision (macro, micro): [0.85974021 0.95266057]\n",
      "                Valid_recall (macro, micro): [0.87520259 0.95266057]\n",
      "                Valid_F1 (macro, micro): [0.86491355 0.95266057]\n",
      "INFO    Accuracy: 0.95\n",
      "INFO    Validation Loss: 0.15\n",
      "INFO    Validation took: 0:00:15\n",
      "INFO  Classification report. VALIDATION at epoch 2 \n",
      "               precision    recall  f1-score   support\n",
      "\n",
      "           0       0.98      0.97      0.97       409\n",
      "           1       0.73      0.78      0.75        45\n",
      "\n",
      "    accuracy                           0.95       454\n",
      "   macro avg       0.85      0.87      0.86       454\n",
      "weighted avg       0.95      0.95      0.95       454\n",
      "\n",
      "DEBUG \n",
      "INFO  ======== Epoch 3 / 3 ========\n",
      "INFO  Training...\n"
     ]
    },
    {
     "name": "stderr",
     "output_type": "stream",
     "text": [
      "/usr/local/lib/python3.8/dist-packages/sklearn/metrics/_classification.py:1318: UndefinedMetricWarning: Precision is ill-defined and being set to 0.0 in labels with no predicted samples. Use `zero_division` parameter to control this behavior.\n",
      "  _warn_prf(average, modifier, msg_start, len(result))\n"
     ]
    },
    {
     "name": "stdout",
     "output_type": "stream",
     "text": [
      "DEBUG   Batch   100  of    510.    Elapsed: 0:01:13.\n",
      "DEBUG   Batch   200  of    510.    Elapsed: 0:02:26.\n",
      "DEBUG   Batch   300  of    510.    Elapsed: 0:03:38.\n",
      "DEBUG   Batch   400  of    510.    Elapsed: 0:04:51.\n",
      "DEBUG   Batch   500  of    510.    Elapsed: 0:06:04.\n",
      "INFO  Epoch 3 : \n",
      "            Train_acc : 0.9789709002627798\n",
      "            Train_precision (macro, micro): [0.95448322 0.9789709 ]\n",
      "            Train_recall  (macro, micro): [0.92542618 0.9789709 ]\n",
      "            Train_F1 : [0.93909482 0.9789709 ]\n",
      "DEBUG \n",
      "INFO    Average training loss: 0.08\n",
      "INFO    Training epoch took: 0:06:11\n",
      "INFO  Classification report. TRAINING at epoch 3 \n",
      "               precision    recall  f1-score   support\n",
      "\n",
      "           0       0.99      0.99      0.99      3670\n",
      "           1       0.91      0.89      0.90       409\n",
      "\n",
      "    accuracy                           0.98      4079\n",
      "   macro avg       0.95      0.94      0.95      4079\n",
      "weighted avg       0.98      0.98      0.98      4079\n",
      "\n",
      "DEBUG \n",
      "INFO  Running Validation...\n",
      "INFO  Epoch 3 : \n",
      "                Valid_acc : 0.9578909757942605\n",
      "                Valid_precision (macro, micro): [0.87917444 0.95789098]\n",
      "                Valid_recall (macro, micro): [0.86419948 0.95789098]\n",
      "                Valid_F1 (macro, micro): [0.87045861 0.95789098]\n",
      "INFO    Accuracy: 0.95\n",
      "INFO    Validation Loss: 0.24\n",
      "INFO    Validation took: 0:00:15\n",
      "INFO  Classification report. VALIDATION at epoch 3 \n",
      "               precision    recall  f1-score   support\n",
      "\n",
      "           0       0.97      0.98      0.97       409\n",
      "           1       0.79      0.69      0.74        45\n",
      "\n",
      "    accuracy                           0.95       454\n",
      "   macro avg       0.88      0.83      0.86       454\n",
      "weighted avg       0.95      0.95      0.95       454\n",
      "\n",
      "DEBUG \n",
      "INFO  Training complete!\n",
      "INFO  Total training took 0:19:15 (h:mm:ss)\n"
     ]
    }
   ],
   "source": [
    "if not GLB_CROSS_VALIDATION:\n",
    "  train_dataset = mlclassif_utilities.create_tensor_dataset(train_input_ids, train_attention_masks, train_labels_corpus)\n",
    "  val_dataset = mlclassif_utilities.create_tensor_dataset(val_input_ids, val_attention_masks, val_labels_corpus)\n",
    "  test_dataset = mlclassif_utilities.create_tensor_dataset(test_input_ids, test_attention_masks, test_labels_corpus)\n",
    "\n",
    "  train_dataloader = mlclassif_utilities.create_dataloader(train_dataset, BATCH_SIZE)\n",
    "  val_dataloader = mlclassif_utilities.create_dataloader(val_dataset, BATCH_SIZE)\n",
    "  test_dataloader = mlclassif_utilities.create_dataloader(test_dataset, BATCH_SIZE)\n",
    "\n",
    "  model, statistics_model = mlclassif_utilities.train_and_validate(model, device, EPOCHS, optimizer, scheduler, train_dataloader, val_dataloader, numeric_classes.tolist())\n",
    "\n",
    "else:\n",
    "  list_statistics = list()\n",
    "  for index_cross_val in range(len(train_val_corpus_cross_validation)):\n",
    "    train_dataset = mlclassif_utilities.create_tensor_dataset(train_val_corpus_cross_validation[index_cross_val][1], train_val_corpus_cross_validation[index_cross_val][2], train_val_corpus_cross_validation[index_cross_val][0])\n",
    "    val_dataset = mlclassif_utilities.create_tensor_dataset(train_val_corpus_cross_validation[index_cross_val][4], train_val_corpus_cross_validation[index_cross_val][5], train_val_corpus_cross_validation[index_cross_val][3])\n",
    "\n",
    "    train_dataloader = mlclassif_utilities.create_dataloader(train_dataset, BATCH_SIZE)\n",
    "    val_dataloader = mlclassif_utilities.create_dataloader(val_dataset, BATCH_SIZE)\n",
    "\n",
    "    print('='*50)\n",
    "    print(f\"Cross-Validation Split {(index_cross_val+1)}/{len(train_val_corpus_cross_validation)}\")\n",
    "    print('='*50)\n",
    "    model, statistics_model = mlclassif_utilities.train_and_validate(model, device, EPOCHS, optimizer, scheduler, train_dataloader, val_dataloader, numeric_classes.tolist())\n",
    "    list_statistics.append(statistics_model)\n",
    "    \n",
    "  if GLB_STORE_STATISTICS_MODEL:\n",
    "    mlclassif_utilities.save_json_file_statistics_model(list_statistics, PATH_DIR_LOGS)"
   ]
  },
  {
   "cell_type": "markdown",
   "id": "mewvCcSNwpO8",
   "metadata": {
    "id": "mewvCcSNwpO8"
   },
   "source": [
    "### Test model"
   ]
  },
  {
   "cell_type": "code",
   "execution_count": null,
   "id": "Et3O7v6_tYX8",
   "metadata": {
    "id": "Et3O7v6_tYX8"
   },
   "outputs": [],
   "source": [
    "if GLB_TEST_MODEL:\n",
    "    mlclassif_utilities.test_model(model, device, test_dataloader, numeric_classes.tolist())"
   ]
  },
  {
   "cell_type": "markdown",
   "id": "R9z2203IwwbA",
   "metadata": {
    "id": "R9z2203IwwbA"
   },
   "source": [
    "### Save model"
   ]
  },
  {
   "cell_type": "code",
   "execution_count": null,
   "id": "M9fO1KUtwxNk",
   "metadata": {
    "id": "M9fO1KUtwxNk"
   },
   "outputs": [],
   "source": [
    "if GLB_SAVE_MODEL:\n",
    "    mlclassif_utilities.save_model(model, \"model_bert_2_classes\", PATH_DIR_MODELS)"
   ]
  }
 ],
 "metadata": {
  "accelerator": "GPU",
  "colab": {
   "provenance": []
  },
  "gpuClass": "standard",
  "kernelspec": {
   "display_name": "Python 3 (ipykernel)",
   "language": "python",
   "name": "python3"
  },
  "language_info": {
   "codemirror_mode": {
    "name": "ipython",
    "version": 3
   },
   "file_extension": ".py",
   "mimetype": "text/x-python",
   "name": "python",
   "nbconvert_exporter": "python",
   "pygments_lexer": "ipython3",
   "version": "3.8.10"
  },
  "widgets": {
   "application/vnd.jupyter.widget-state+json": {
    "009c6c4ca6624d9da18223af1c7b04c6": {
     "model_module": "@jupyter-widgets/controls",
     "model_module_version": "1.5.0",
     "model_name": "DescriptionStyleModel",
     "state": {
      "_model_module": "@jupyter-widgets/controls",
      "_model_module_version": "1.5.0",
      "_model_name": "DescriptionStyleModel",
      "_view_count": null,
      "_view_module": "@jupyter-widgets/base",
      "_view_module_version": "1.2.0",
      "_view_name": "StyleView",
      "description_width": ""
     }
    },
    "063dce34cbdb46849b3aeaf99f02c259": {
     "model_module": "@jupyter-widgets/base",
     "model_module_version": "1.2.0",
     "model_name": "LayoutModel",
     "state": {
      "_model_module": "@jupyter-widgets/base",
      "_model_module_version": "1.2.0",
      "_model_name": "LayoutModel",
      "_view_count": null,
      "_view_module": "@jupyter-widgets/base",
      "_view_module_version": "1.2.0",
      "_view_name": "LayoutView",
      "align_content": null,
      "align_items": null,
      "align_self": null,
      "border": null,
      "bottom": null,
      "display": null,
      "flex": null,
      "flex_flow": null,
      "grid_area": null,
      "grid_auto_columns": null,
      "grid_auto_flow": null,
      "grid_auto_rows": null,
      "grid_column": null,
      "grid_gap": null,
      "grid_row": null,
      "grid_template_areas": null,
      "grid_template_columns": null,
      "grid_template_rows": null,
      "height": null,
      "justify_content": null,
      "justify_items": null,
      "left": null,
      "margin": null,
      "max_height": null,
      "max_width": null,
      "min_height": null,
      "min_width": null,
      "object_fit": null,
      "object_position": null,
      "order": null,
      "overflow": null,
      "overflow_x": null,
      "overflow_y": null,
      "padding": null,
      "right": null,
      "top": null,
      "visibility": null,
      "width": null
     }
    },
    "08557e252d84455fb0541bda54848085": {
     "model_module": "@jupyter-widgets/base",
     "model_module_version": "1.2.0",
     "model_name": "LayoutModel",
     "state": {
      "_model_module": "@jupyter-widgets/base",
      "_model_module_version": "1.2.0",
      "_model_name": "LayoutModel",
      "_view_count": null,
      "_view_module": "@jupyter-widgets/base",
      "_view_module_version": "1.2.0",
      "_view_name": "LayoutView",
      "align_content": null,
      "align_items": null,
      "align_self": null,
      "border": null,
      "bottom": null,
      "display": null,
      "flex": null,
      "flex_flow": null,
      "grid_area": null,
      "grid_auto_columns": null,
      "grid_auto_flow": null,
      "grid_auto_rows": null,
      "grid_column": null,
      "grid_gap": null,
      "grid_row": null,
      "grid_template_areas": null,
      "grid_template_columns": null,
      "grid_template_rows": null,
      "height": null,
      "justify_content": null,
      "justify_items": null,
      "left": null,
      "margin": null,
      "max_height": null,
      "max_width": null,
      "min_height": null,
      "min_width": null,
      "object_fit": null,
      "object_position": null,
      "order": null,
      "overflow": null,
      "overflow_x": null,
      "overflow_y": null,
      "padding": null,
      "right": null,
      "top": null,
      "visibility": null,
      "width": null
     }
    },
    "0daa18b273f24eec8fbf917551783814": {
     "model_module": "@jupyter-widgets/controls",
     "model_module_version": "1.5.0",
     "model_name": "DescriptionStyleModel",
     "state": {
      "_model_module": "@jupyter-widgets/controls",
      "_model_module_version": "1.5.0",
      "_model_name": "DescriptionStyleModel",
      "_view_count": null,
      "_view_module": "@jupyter-widgets/base",
      "_view_module_version": "1.2.0",
      "_view_name": "StyleView",
      "description_width": ""
     }
    },
    "13f1725b0d5348a9b0772c6cf1f6d117": {
     "model_module": "@jupyter-widgets/controls",
     "model_module_version": "1.5.0",
     "model_name": "DescriptionStyleModel",
     "state": {
      "_model_module": "@jupyter-widgets/controls",
      "_model_module_version": "1.5.0",
      "_model_name": "DescriptionStyleModel",
      "_view_count": null,
      "_view_module": "@jupyter-widgets/base",
      "_view_module_version": "1.2.0",
      "_view_name": "StyleView",
      "description_width": ""
     }
    },
    "14ad9d1f77a2425ca561e3434bef8276": {
     "model_module": "@jupyter-widgets/controls",
     "model_module_version": "1.5.0",
     "model_name": "FloatProgressModel",
     "state": {
      "_dom_classes": [],
      "_model_module": "@jupyter-widgets/controls",
      "_model_module_version": "1.5.0",
      "_model_name": "FloatProgressModel",
      "_view_count": null,
      "_view_module": "@jupyter-widgets/controls",
      "_view_module_version": "1.5.0",
      "_view_name": "ProgressView",
      "bar_style": "success",
      "description": "",
      "description_tooltip": null,
      "layout": "IPY_MODEL_85a4a49d81a942a5b046f5e840c79d2f",
      "max": 28,
      "min": 0,
      "orientation": "horizontal",
      "style": "IPY_MODEL_151ab63a21d5480b97f1f00708604d9c",
      "value": 28
     }
    },
    "14af56c1277e4f2ea376e8b87b95c7e8": {
     "model_module": "@jupyter-widgets/controls",
     "model_module_version": "1.5.0",
     "model_name": "HTMLModel",
     "state": {
      "_dom_classes": [],
      "_model_module": "@jupyter-widgets/controls",
      "_model_module_version": "1.5.0",
      "_model_name": "HTMLModel",
      "_view_count": null,
      "_view_module": "@jupyter-widgets/controls",
      "_view_module_version": "1.5.0",
      "_view_name": "HTMLView",
      "description": "",
      "description_tooltip": null,
      "layout": "IPY_MODEL_435d38c9173641ceb0138432fbc84a77",
      "placeholder": "​",
      "style": "IPY_MODEL_009c6c4ca6624d9da18223af1c7b04c6",
      "value": " 440M/440M [00:05&lt;00:00, 79.8MB/s]"
     }
    },
    "151ab63a21d5480b97f1f00708604d9c": {
     "model_module": "@jupyter-widgets/controls",
     "model_module_version": "1.5.0",
     "model_name": "ProgressStyleModel",
     "state": {
      "_model_module": "@jupyter-widgets/controls",
      "_model_module_version": "1.5.0",
      "_model_name": "ProgressStyleModel",
      "_view_count": null,
      "_view_module": "@jupyter-widgets/base",
      "_view_module_version": "1.2.0",
      "_view_name": "StyleView",
      "bar_color": null,
      "description_width": ""
     }
    },
    "172cdc319142491aa5dbe8fac2a70202": {
     "model_module": "@jupyter-widgets/controls",
     "model_module_version": "1.5.0",
     "model_name": "HTMLModel",
     "state": {
      "_dom_classes": [],
      "_model_module": "@jupyter-widgets/controls",
      "_model_module_version": "1.5.0",
      "_model_name": "HTMLModel",
      "_view_count": null,
      "_view_module": "@jupyter-widgets/controls",
      "_view_module_version": "1.5.0",
      "_view_name": "HTMLView",
      "description": "",
      "description_tooltip": null,
      "layout": "IPY_MODEL_2340c844a6124095bdb558c55c920ac8",
      "placeholder": "​",
      "style": "IPY_MODEL_8f9300cf6e524f8fa1b1fb68a587d26e",
      "value": " 232k/232k [00:00&lt;00:00, 421kB/s]"
     }
    },
    "2340c844a6124095bdb558c55c920ac8": {
     "model_module": "@jupyter-widgets/base",
     "model_module_version": "1.2.0",
     "model_name": "LayoutModel",
     "state": {
      "_model_module": "@jupyter-widgets/base",
      "_model_module_version": "1.2.0",
      "_model_name": "LayoutModel",
      "_view_count": null,
      "_view_module": "@jupyter-widgets/base",
      "_view_module_version": "1.2.0",
      "_view_name": "LayoutView",
      "align_content": null,
      "align_items": null,
      "align_self": null,
      "border": null,
      "bottom": null,
      "display": null,
      "flex": null,
      "flex_flow": null,
      "grid_area": null,
      "grid_auto_columns": null,
      "grid_auto_flow": null,
      "grid_auto_rows": null,
      "grid_column": null,
      "grid_gap": null,
      "grid_row": null,
      "grid_template_areas": null,
      "grid_template_columns": null,
      "grid_template_rows": null,
      "height": null,
      "justify_content": null,
      "justify_items": null,
      "left": null,
      "margin": null,
      "max_height": null,
      "max_width": null,
      "min_height": null,
      "min_width": null,
      "object_fit": null,
      "object_position": null,
      "order": null,
      "overflow": null,
      "overflow_x": null,
      "overflow_y": null,
      "padding": null,
      "right": null,
      "top": null,
      "visibility": null,
      "width": null
     }
    },
    "268d353999cc4de99c6b24b641183e0d": {
     "model_module": "@jupyter-widgets/controls",
     "model_module_version": "1.5.0",
     "model_name": "HTMLModel",
     "state": {
      "_dom_classes": [],
      "_model_module": "@jupyter-widgets/controls",
      "_model_module_version": "1.5.0",
      "_model_name": "HTMLModel",
      "_view_count": null,
      "_view_module": "@jupyter-widgets/controls",
      "_view_module_version": "1.5.0",
      "_view_name": "HTMLView",
      "description": "",
      "description_tooltip": null,
      "layout": "IPY_MODEL_58853d1d4aa74fabb0ce7953cf8e16c5",
      "placeholder": "​",
      "style": "IPY_MODEL_0daa18b273f24eec8fbf917551783814",
      "value": "Downloading: 100%"
     }
    },
    "3020f1c27b5746ad81121ea0342eb37f": {
     "model_module": "@jupyter-widgets/controls",
     "model_module_version": "1.5.0",
     "model_name": "HTMLModel",
     "state": {
      "_dom_classes": [],
      "_model_module": "@jupyter-widgets/controls",
      "_model_module_version": "1.5.0",
      "_model_name": "HTMLModel",
      "_view_count": null,
      "_view_module": "@jupyter-widgets/controls",
      "_view_module_version": "1.5.0",
      "_view_name": "HTMLView",
      "description": "",
      "description_tooltip": null,
      "layout": "IPY_MODEL_08557e252d84455fb0541bda54848085",
      "placeholder": "​",
      "style": "IPY_MODEL_cb240d489bbb4167990fd026c7e08099",
      "value": "Downloading: 100%"
     }
    },
    "32c6b9b1cae84dcc8d98eab904c4c897": {
     "model_module": "@jupyter-widgets/base",
     "model_module_version": "1.2.0",
     "model_name": "LayoutModel",
     "state": {
      "_model_module": "@jupyter-widgets/base",
      "_model_module_version": "1.2.0",
      "_model_name": "LayoutModel",
      "_view_count": null,
      "_view_module": "@jupyter-widgets/base",
      "_view_module_version": "1.2.0",
      "_view_name": "LayoutView",
      "align_content": null,
      "align_items": null,
      "align_self": null,
      "border": null,
      "bottom": null,
      "display": null,
      "flex": null,
      "flex_flow": null,
      "grid_area": null,
      "grid_auto_columns": null,
      "grid_auto_flow": null,
      "grid_auto_rows": null,
      "grid_column": null,
      "grid_gap": null,
      "grid_row": null,
      "grid_template_areas": null,
      "grid_template_columns": null,
      "grid_template_rows": null,
      "height": null,
      "justify_content": null,
      "justify_items": null,
      "left": null,
      "margin": null,
      "max_height": null,
      "max_width": null,
      "min_height": null,
      "min_width": null,
      "object_fit": null,
      "object_position": null,
      "order": null,
      "overflow": null,
      "overflow_x": null,
      "overflow_y": null,
      "padding": null,
      "right": null,
      "top": null,
      "visibility": null,
      "width": null
     }
    },
    "345d01c6b8fe4e65a9e23b9a9104ae60": {
     "model_module": "@jupyter-widgets/controls",
     "model_module_version": "1.5.0",
     "model_name": "FloatProgressModel",
     "state": {
      "_dom_classes": [],
      "_model_module": "@jupyter-widgets/controls",
      "_model_module_version": "1.5.0",
      "_model_name": "FloatProgressModel",
      "_view_count": null,
      "_view_module": "@jupyter-widgets/controls",
      "_view_module_version": "1.5.0",
      "_view_name": "ProgressView",
      "bar_style": "success",
      "description": "",
      "description_tooltip": null,
      "layout": "IPY_MODEL_d0a92a6565d246f8a80612b83a47e74f",
      "max": 440473133,
      "min": 0,
      "orientation": "horizontal",
      "style": "IPY_MODEL_fb6ae61da8b545fc94bd8bb93239c453",
      "value": 440473133
     }
    },
    "435d38c9173641ceb0138432fbc84a77": {
     "model_module": "@jupyter-widgets/base",
     "model_module_version": "1.2.0",
     "model_name": "LayoutModel",
     "state": {
      "_model_module": "@jupyter-widgets/base",
      "_model_module_version": "1.2.0",
      "_model_name": "LayoutModel",
      "_view_count": null,
      "_view_module": "@jupyter-widgets/base",
      "_view_module_version": "1.2.0",
      "_view_name": "LayoutView",
      "align_content": null,
      "align_items": null,
      "align_self": null,
      "border": null,
      "bottom": null,
      "display": null,
      "flex": null,
      "flex_flow": null,
      "grid_area": null,
      "grid_auto_columns": null,
      "grid_auto_flow": null,
      "grid_auto_rows": null,
      "grid_column": null,
      "grid_gap": null,
      "grid_row": null,
      "grid_template_areas": null,
      "grid_template_columns": null,
      "grid_template_rows": null,
      "height": null,
      "justify_content": null,
      "justify_items": null,
      "left": null,
      "margin": null,
      "max_height": null,
      "max_width": null,
      "min_height": null,
      "min_width": null,
      "object_fit": null,
      "object_position": null,
      "order": null,
      "overflow": null,
      "overflow_x": null,
      "overflow_y": null,
      "padding": null,
      "right": null,
      "top": null,
      "visibility": null,
      "width": null
     }
    },
    "44480b95185447698f427077ce235edf": {
     "model_module": "@jupyter-widgets/controls",
     "model_module_version": "1.5.0",
     "model_name": "DescriptionStyleModel",
     "state": {
      "_model_module": "@jupyter-widgets/controls",
      "_model_module_version": "1.5.0",
      "_model_name": "DescriptionStyleModel",
      "_view_count": null,
      "_view_module": "@jupyter-widgets/base",
      "_view_module_version": "1.2.0",
      "_view_name": "StyleView",
      "description_width": ""
     }
    },
    "534ee944412f40cb9db6bebcaa517fc7": {
     "model_module": "@jupyter-widgets/base",
     "model_module_version": "1.2.0",
     "model_name": "LayoutModel",
     "state": {
      "_model_module": "@jupyter-widgets/base",
      "_model_module_version": "1.2.0",
      "_model_name": "LayoutModel",
      "_view_count": null,
      "_view_module": "@jupyter-widgets/base",
      "_view_module_version": "1.2.0",
      "_view_name": "LayoutView",
      "align_content": null,
      "align_items": null,
      "align_self": null,
      "border": null,
      "bottom": null,
      "display": null,
      "flex": null,
      "flex_flow": null,
      "grid_area": null,
      "grid_auto_columns": null,
      "grid_auto_flow": null,
      "grid_auto_rows": null,
      "grid_column": null,
      "grid_gap": null,
      "grid_row": null,
      "grid_template_areas": null,
      "grid_template_columns": null,
      "grid_template_rows": null,
      "height": null,
      "justify_content": null,
      "justify_items": null,
      "left": null,
      "margin": null,
      "max_height": null,
      "max_width": null,
      "min_height": null,
      "min_width": null,
      "object_fit": null,
      "object_position": null,
      "order": null,
      "overflow": null,
      "overflow_x": null,
      "overflow_y": null,
      "padding": null,
      "right": null,
      "top": null,
      "visibility": null,
      "width": null
     }
    },
    "58853d1d4aa74fabb0ce7953cf8e16c5": {
     "model_module": "@jupyter-widgets/base",
     "model_module_version": "1.2.0",
     "model_name": "LayoutModel",
     "state": {
      "_model_module": "@jupyter-widgets/base",
      "_model_module_version": "1.2.0",
      "_model_name": "LayoutModel",
      "_view_count": null,
      "_view_module": "@jupyter-widgets/base",
      "_view_module_version": "1.2.0",
      "_view_name": "LayoutView",
      "align_content": null,
      "align_items": null,
      "align_self": null,
      "border": null,
      "bottom": null,
      "display": null,
      "flex": null,
      "flex_flow": null,
      "grid_area": null,
      "grid_auto_columns": null,
      "grid_auto_flow": null,
      "grid_auto_rows": null,
      "grid_column": null,
      "grid_gap": null,
      "grid_row": null,
      "grid_template_areas": null,
      "grid_template_columns": null,
      "grid_template_rows": null,
      "height": null,
      "justify_content": null,
      "justify_items": null,
      "left": null,
      "margin": null,
      "max_height": null,
      "max_width": null,
      "min_height": null,
      "min_width": null,
      "object_fit": null,
      "object_position": null,
      "order": null,
      "overflow": null,
      "overflow_x": null,
      "overflow_y": null,
      "padding": null,
      "right": null,
      "top": null,
      "visibility": null,
      "width": null
     }
    },
    "590403bc5cf747fb9ef757db099f6152": {
     "model_module": "@jupyter-widgets/controls",
     "model_module_version": "1.5.0",
     "model_name": "HTMLModel",
     "state": {
      "_dom_classes": [],
      "_model_module": "@jupyter-widgets/controls",
      "_model_module_version": "1.5.0",
      "_model_name": "HTMLModel",
      "_view_count": null,
      "_view_module": "@jupyter-widgets/controls",
      "_view_module_version": "1.5.0",
      "_view_name": "HTMLView",
      "description": "",
      "description_tooltip": null,
      "layout": "IPY_MODEL_8e77f7352b3f4447b0113a5f686d66c2",
      "placeholder": "​",
      "style": "IPY_MODEL_44480b95185447698f427077ce235edf",
      "value": "Downloading: 100%"
     }
    },
    "792b34b9d5ee45ecab3b02a354c01076": {
     "model_module": "@jupyter-widgets/base",
     "model_module_version": "1.2.0",
     "model_name": "LayoutModel",
     "state": {
      "_model_module": "@jupyter-widgets/base",
      "_model_module_version": "1.2.0",
      "_model_name": "LayoutModel",
      "_view_count": null,
      "_view_module": "@jupyter-widgets/base",
      "_view_module_version": "1.2.0",
      "_view_name": "LayoutView",
      "align_content": null,
      "align_items": null,
      "align_self": null,
      "border": null,
      "bottom": null,
      "display": null,
      "flex": null,
      "flex_flow": null,
      "grid_area": null,
      "grid_auto_columns": null,
      "grid_auto_flow": null,
      "grid_auto_rows": null,
      "grid_column": null,
      "grid_gap": null,
      "grid_row": null,
      "grid_template_areas": null,
      "grid_template_columns": null,
      "grid_template_rows": null,
      "height": null,
      "justify_content": null,
      "justify_items": null,
      "left": null,
      "margin": null,
      "max_height": null,
      "max_width": null,
      "min_height": null,
      "min_width": null,
      "object_fit": null,
      "object_position": null,
      "order": null,
      "overflow": null,
      "overflow_x": null,
      "overflow_y": null,
      "padding": null,
      "right": null,
      "top": null,
      "visibility": null,
      "width": null
     }
    },
    "7a5f4c7393c2497dab96ae69639c9497": {
     "model_module": "@jupyter-widgets/controls",
     "model_module_version": "1.5.0",
     "model_name": "FloatProgressModel",
     "state": {
      "_dom_classes": [],
      "_model_module": "@jupyter-widgets/controls",
      "_model_module_version": "1.5.0",
      "_model_name": "FloatProgressModel",
      "_view_count": null,
      "_view_module": "@jupyter-widgets/controls",
      "_view_module_version": "1.5.0",
      "_view_name": "ProgressView",
      "bar_style": "success",
      "description": "",
      "description_tooltip": null,
      "layout": "IPY_MODEL_d7e5eb5b2c604b4e8fdbe1e882836aad",
      "max": 231508,
      "min": 0,
      "orientation": "horizontal",
      "style": "IPY_MODEL_f368596aabe8445380acdaf3b10a7d8a",
      "value": 231508
     }
    },
    "80d709c7640b4b3d8fd5770009f50e0b": {
     "model_module": "@jupyter-widgets/controls",
     "model_module_version": "1.5.0",
     "model_name": "HBoxModel",
     "state": {
      "_dom_classes": [],
      "_model_module": "@jupyter-widgets/controls",
      "_model_module_version": "1.5.0",
      "_model_name": "HBoxModel",
      "_view_count": null,
      "_view_module": "@jupyter-widgets/controls",
      "_view_module_version": "1.5.0",
      "_view_name": "HBoxView",
      "box_style": "",
      "children": [
       "IPY_MODEL_590403bc5cf747fb9ef757db099f6152",
       "IPY_MODEL_e401b1d99669427ebfd78e10e713564a",
       "IPY_MODEL_a1e9bd267b2844b9a300ac0698361ef1"
      ],
      "layout": "IPY_MODEL_32c6b9b1cae84dcc8d98eab904c4c897"
     }
    },
    "85a4a49d81a942a5b046f5e840c79d2f": {
     "model_module": "@jupyter-widgets/base",
     "model_module_version": "1.2.0",
     "model_name": "LayoutModel",
     "state": {
      "_model_module": "@jupyter-widgets/base",
      "_model_module_version": "1.2.0",
      "_model_name": "LayoutModel",
      "_view_count": null,
      "_view_module": "@jupyter-widgets/base",
      "_view_module_version": "1.2.0",
      "_view_name": "LayoutView",
      "align_content": null,
      "align_items": null,
      "align_self": null,
      "border": null,
      "bottom": null,
      "display": null,
      "flex": null,
      "flex_flow": null,
      "grid_area": null,
      "grid_auto_columns": null,
      "grid_auto_flow": null,
      "grid_auto_rows": null,
      "grid_column": null,
      "grid_gap": null,
      "grid_row": null,
      "grid_template_areas": null,
      "grid_template_columns": null,
      "grid_template_rows": null,
      "height": null,
      "justify_content": null,
      "justify_items": null,
      "left": null,
      "margin": null,
      "max_height": null,
      "max_width": null,
      "min_height": null,
      "min_width": null,
      "object_fit": null,
      "object_position": null,
      "order": null,
      "overflow": null,
      "overflow_x": null,
      "overflow_y": null,
      "padding": null,
      "right": null,
      "top": null,
      "visibility": null,
      "width": null
     }
    },
    "8b3b39f6862a41e396f66094ed48a707": {
     "model_module": "@jupyter-widgets/base",
     "model_module_version": "1.2.0",
     "model_name": "LayoutModel",
     "state": {
      "_model_module": "@jupyter-widgets/base",
      "_model_module_version": "1.2.0",
      "_model_name": "LayoutModel",
      "_view_count": null,
      "_view_module": "@jupyter-widgets/base",
      "_view_module_version": "1.2.0",
      "_view_name": "LayoutView",
      "align_content": null,
      "align_items": null,
      "align_self": null,
      "border": null,
      "bottom": null,
      "display": null,
      "flex": null,
      "flex_flow": null,
      "grid_area": null,
      "grid_auto_columns": null,
      "grid_auto_flow": null,
      "grid_auto_rows": null,
      "grid_column": null,
      "grid_gap": null,
      "grid_row": null,
      "grid_template_areas": null,
      "grid_template_columns": null,
      "grid_template_rows": null,
      "height": null,
      "justify_content": null,
      "justify_items": null,
      "left": null,
      "margin": null,
      "max_height": null,
      "max_width": null,
      "min_height": null,
      "min_width": null,
      "object_fit": null,
      "object_position": null,
      "order": null,
      "overflow": null,
      "overflow_x": null,
      "overflow_y": null,
      "padding": null,
      "right": null,
      "top": null,
      "visibility": null,
      "width": null
     }
    },
    "8e77f7352b3f4447b0113a5f686d66c2": {
     "model_module": "@jupyter-widgets/base",
     "model_module_version": "1.2.0",
     "model_name": "LayoutModel",
     "state": {
      "_model_module": "@jupyter-widgets/base",
      "_model_module_version": "1.2.0",
      "_model_name": "LayoutModel",
      "_view_count": null,
      "_view_module": "@jupyter-widgets/base",
      "_view_module_version": "1.2.0",
      "_view_name": "LayoutView",
      "align_content": null,
      "align_items": null,
      "align_self": null,
      "border": null,
      "bottom": null,
      "display": null,
      "flex": null,
      "flex_flow": null,
      "grid_area": null,
      "grid_auto_columns": null,
      "grid_auto_flow": null,
      "grid_auto_rows": null,
      "grid_column": null,
      "grid_gap": null,
      "grid_row": null,
      "grid_template_areas": null,
      "grid_template_columns": null,
      "grid_template_rows": null,
      "height": null,
      "justify_content": null,
      "justify_items": null,
      "left": null,
      "margin": null,
      "max_height": null,
      "max_width": null,
      "min_height": null,
      "min_width": null,
      "object_fit": null,
      "object_position": null,
      "order": null,
      "overflow": null,
      "overflow_x": null,
      "overflow_y": null,
      "padding": null,
      "right": null,
      "top": null,
      "visibility": null,
      "width": null
     }
    },
    "8f9300cf6e524f8fa1b1fb68a587d26e": {
     "model_module": "@jupyter-widgets/controls",
     "model_module_version": "1.5.0",
     "model_name": "DescriptionStyleModel",
     "state": {
      "_model_module": "@jupyter-widgets/controls",
      "_model_module_version": "1.5.0",
      "_model_name": "DescriptionStyleModel",
      "_view_count": null,
      "_view_module": "@jupyter-widgets/base",
      "_view_module_version": "1.2.0",
      "_view_name": "StyleView",
      "description_width": ""
     }
    },
    "9bcaf82d371148609b76307ebfdb52ee": {
     "model_module": "@jupyter-widgets/controls",
     "model_module_version": "1.5.0",
     "model_name": "ProgressStyleModel",
     "state": {
      "_model_module": "@jupyter-widgets/controls",
      "_model_module_version": "1.5.0",
      "_model_name": "ProgressStyleModel",
      "_view_count": null,
      "_view_module": "@jupyter-widgets/base",
      "_view_module_version": "1.2.0",
      "_view_name": "StyleView",
      "bar_color": null,
      "description_width": ""
     }
    },
    "a1e9bd267b2844b9a300ac0698361ef1": {
     "model_module": "@jupyter-widgets/controls",
     "model_module_version": "1.5.0",
     "model_name": "HTMLModel",
     "state": {
      "_dom_classes": [],
      "_model_module": "@jupyter-widgets/controls",
      "_model_module_version": "1.5.0",
      "_model_name": "HTMLModel",
      "_view_count": null,
      "_view_module": "@jupyter-widgets/controls",
      "_view_module_version": "1.5.0",
      "_view_name": "HTMLView",
      "description": "",
      "description_tooltip": null,
      "layout": "IPY_MODEL_063dce34cbdb46849b3aeaf99f02c259",
      "placeholder": "​",
      "style": "IPY_MODEL_b1e47071bddc4cfb96c5ae3aba6a5596",
      "value": " 570/570 [00:00&lt;00:00, 32.1kB/s]"
     }
    },
    "a6216abda2f1466fa1bfbc5dc3a0e0fd": {
     "model_module": "@jupyter-widgets/controls",
     "model_module_version": "1.5.0",
     "model_name": "HBoxModel",
     "state": {
      "_dom_classes": [],
      "_model_module": "@jupyter-widgets/controls",
      "_model_module_version": "1.5.0",
      "_model_name": "HBoxModel",
      "_view_count": null,
      "_view_module": "@jupyter-widgets/controls",
      "_view_module_version": "1.5.0",
      "_view_name": "HBoxView",
      "box_style": "",
      "children": [
       "IPY_MODEL_268d353999cc4de99c6b24b641183e0d",
       "IPY_MODEL_14ad9d1f77a2425ca561e3434bef8276",
       "IPY_MODEL_d4fb6eb88cd243269cdb37c972c093c5"
      ],
      "layout": "IPY_MODEL_792b34b9d5ee45ecab3b02a354c01076"
     }
    },
    "a701af83a6394ccd99f20f3f0ddc5f75": {
     "model_module": "@jupyter-widgets/controls",
     "model_module_version": "1.5.0",
     "model_name": "HBoxModel",
     "state": {
      "_dom_classes": [],
      "_model_module": "@jupyter-widgets/controls",
      "_model_module_version": "1.5.0",
      "_model_name": "HBoxModel",
      "_view_count": null,
      "_view_module": "@jupyter-widgets/controls",
      "_view_module_version": "1.5.0",
      "_view_name": "HBoxView",
      "box_style": "",
      "children": [
       "IPY_MODEL_3020f1c27b5746ad81121ea0342eb37f",
       "IPY_MODEL_7a5f4c7393c2497dab96ae69639c9497",
       "IPY_MODEL_172cdc319142491aa5dbe8fac2a70202"
      ],
      "layout": "IPY_MODEL_da66d3da54864679a3bbb9e6b4f8738f"
     }
    },
    "aeda3e95cec24169ba6e0a36ea374f22": {
     "model_module": "@jupyter-widgets/base",
     "model_module_version": "1.2.0",
     "model_name": "LayoutModel",
     "state": {
      "_model_module": "@jupyter-widgets/base",
      "_model_module_version": "1.2.0",
      "_model_name": "LayoutModel",
      "_view_count": null,
      "_view_module": "@jupyter-widgets/base",
      "_view_module_version": "1.2.0",
      "_view_name": "LayoutView",
      "align_content": null,
      "align_items": null,
      "align_self": null,
      "border": null,
      "bottom": null,
      "display": null,
      "flex": null,
      "flex_flow": null,
      "grid_area": null,
      "grid_auto_columns": null,
      "grid_auto_flow": null,
      "grid_auto_rows": null,
      "grid_column": null,
      "grid_gap": null,
      "grid_row": null,
      "grid_template_areas": null,
      "grid_template_columns": null,
      "grid_template_rows": null,
      "height": null,
      "justify_content": null,
      "justify_items": null,
      "left": null,
      "margin": null,
      "max_height": null,
      "max_width": null,
      "min_height": null,
      "min_width": null,
      "object_fit": null,
      "object_position": null,
      "order": null,
      "overflow": null,
      "overflow_x": null,
      "overflow_y": null,
      "padding": null,
      "right": null,
      "top": null,
      "visibility": null,
      "width": null
     }
    },
    "b1e47071bddc4cfb96c5ae3aba6a5596": {
     "model_module": "@jupyter-widgets/controls",
     "model_module_version": "1.5.0",
     "model_name": "DescriptionStyleModel",
     "state": {
      "_model_module": "@jupyter-widgets/controls",
      "_model_module_version": "1.5.0",
      "_model_name": "DescriptionStyleModel",
      "_view_count": null,
      "_view_module": "@jupyter-widgets/base",
      "_view_module_version": "1.2.0",
      "_view_name": "StyleView",
      "description_width": ""
     }
    },
    "b9837f12cd5c44dbab05e9ffaf684196": {
     "model_module": "@jupyter-widgets/controls",
     "model_module_version": "1.5.0",
     "model_name": "HBoxModel",
     "state": {
      "_dom_classes": [],
      "_model_module": "@jupyter-widgets/controls",
      "_model_module_version": "1.5.0",
      "_model_name": "HBoxModel",
      "_view_count": null,
      "_view_module": "@jupyter-widgets/controls",
      "_view_module_version": "1.5.0",
      "_view_name": "HBoxView",
      "box_style": "",
      "children": [
       "IPY_MODEL_d8339fe614304474ae77c0a7a5daa454",
       "IPY_MODEL_345d01c6b8fe4e65a9e23b9a9104ae60",
       "IPY_MODEL_14af56c1277e4f2ea376e8b87b95c7e8"
      ],
      "layout": "IPY_MODEL_aeda3e95cec24169ba6e0a36ea374f22"
     }
    },
    "c02ea252fe704b869666fff26ddec8ba": {
     "model_module": "@jupyter-widgets/controls",
     "model_module_version": "1.5.0",
     "model_name": "DescriptionStyleModel",
     "state": {
      "_model_module": "@jupyter-widgets/controls",
      "_model_module_version": "1.5.0",
      "_model_name": "DescriptionStyleModel",
      "_view_count": null,
      "_view_module": "@jupyter-widgets/base",
      "_view_module_version": "1.2.0",
      "_view_name": "StyleView",
      "description_width": ""
     }
    },
    "cb240d489bbb4167990fd026c7e08099": {
     "model_module": "@jupyter-widgets/controls",
     "model_module_version": "1.5.0",
     "model_name": "DescriptionStyleModel",
     "state": {
      "_model_module": "@jupyter-widgets/controls",
      "_model_module_version": "1.5.0",
      "_model_name": "DescriptionStyleModel",
      "_view_count": null,
      "_view_module": "@jupyter-widgets/base",
      "_view_module_version": "1.2.0",
      "_view_name": "StyleView",
      "description_width": ""
     }
    },
    "d0a92a6565d246f8a80612b83a47e74f": {
     "model_module": "@jupyter-widgets/base",
     "model_module_version": "1.2.0",
     "model_name": "LayoutModel",
     "state": {
      "_model_module": "@jupyter-widgets/base",
      "_model_module_version": "1.2.0",
      "_model_name": "LayoutModel",
      "_view_count": null,
      "_view_module": "@jupyter-widgets/base",
      "_view_module_version": "1.2.0",
      "_view_name": "LayoutView",
      "align_content": null,
      "align_items": null,
      "align_self": null,
      "border": null,
      "bottom": null,
      "display": null,
      "flex": null,
      "flex_flow": null,
      "grid_area": null,
      "grid_auto_columns": null,
      "grid_auto_flow": null,
      "grid_auto_rows": null,
      "grid_column": null,
      "grid_gap": null,
      "grid_row": null,
      "grid_template_areas": null,
      "grid_template_columns": null,
      "grid_template_rows": null,
      "height": null,
      "justify_content": null,
      "justify_items": null,
      "left": null,
      "margin": null,
      "max_height": null,
      "max_width": null,
      "min_height": null,
      "min_width": null,
      "object_fit": null,
      "object_position": null,
      "order": null,
      "overflow": null,
      "overflow_x": null,
      "overflow_y": null,
      "padding": null,
      "right": null,
      "top": null,
      "visibility": null,
      "width": null
     }
    },
    "d4fb6eb88cd243269cdb37c972c093c5": {
     "model_module": "@jupyter-widgets/controls",
     "model_module_version": "1.5.0",
     "model_name": "HTMLModel",
     "state": {
      "_dom_classes": [],
      "_model_module": "@jupyter-widgets/controls",
      "_model_module_version": "1.5.0",
      "_model_name": "HTMLModel",
      "_view_count": null,
      "_view_module": "@jupyter-widgets/controls",
      "_view_module_version": "1.5.0",
      "_view_name": "HTMLView",
      "description": "",
      "description_tooltip": null,
      "layout": "IPY_MODEL_534ee944412f40cb9db6bebcaa517fc7",
      "placeholder": "​",
      "style": "IPY_MODEL_13f1725b0d5348a9b0772c6cf1f6d117",
      "value": " 28.0/28.0 [00:00&lt;00:00, 1.58kB/s]"
     }
    },
    "d64b58f0a64342f19c5b26eadd06464b": {
     "model_module": "@jupyter-widgets/base",
     "model_module_version": "1.2.0",
     "model_name": "LayoutModel",
     "state": {
      "_model_module": "@jupyter-widgets/base",
      "_model_module_version": "1.2.0",
      "_model_name": "LayoutModel",
      "_view_count": null,
      "_view_module": "@jupyter-widgets/base",
      "_view_module_version": "1.2.0",
      "_view_name": "LayoutView",
      "align_content": null,
      "align_items": null,
      "align_self": null,
      "border": null,
      "bottom": null,
      "display": null,
      "flex": null,
      "flex_flow": null,
      "grid_area": null,
      "grid_auto_columns": null,
      "grid_auto_flow": null,
      "grid_auto_rows": null,
      "grid_column": null,
      "grid_gap": null,
      "grid_row": null,
      "grid_template_areas": null,
      "grid_template_columns": null,
      "grid_template_rows": null,
      "height": null,
      "justify_content": null,
      "justify_items": null,
      "left": null,
      "margin": null,
      "max_height": null,
      "max_width": null,
      "min_height": null,
      "min_width": null,
      "object_fit": null,
      "object_position": null,
      "order": null,
      "overflow": null,
      "overflow_x": null,
      "overflow_y": null,
      "padding": null,
      "right": null,
      "top": null,
      "visibility": null,
      "width": null
     }
    },
    "d7e5eb5b2c604b4e8fdbe1e882836aad": {
     "model_module": "@jupyter-widgets/base",
     "model_module_version": "1.2.0",
     "model_name": "LayoutModel",
     "state": {
      "_model_module": "@jupyter-widgets/base",
      "_model_module_version": "1.2.0",
      "_model_name": "LayoutModel",
      "_view_count": null,
      "_view_module": "@jupyter-widgets/base",
      "_view_module_version": "1.2.0",
      "_view_name": "LayoutView",
      "align_content": null,
      "align_items": null,
      "align_self": null,
      "border": null,
      "bottom": null,
      "display": null,
      "flex": null,
      "flex_flow": null,
      "grid_area": null,
      "grid_auto_columns": null,
      "grid_auto_flow": null,
      "grid_auto_rows": null,
      "grid_column": null,
      "grid_gap": null,
      "grid_row": null,
      "grid_template_areas": null,
      "grid_template_columns": null,
      "grid_template_rows": null,
      "height": null,
      "justify_content": null,
      "justify_items": null,
      "left": null,
      "margin": null,
      "max_height": null,
      "max_width": null,
      "min_height": null,
      "min_width": null,
      "object_fit": null,
      "object_position": null,
      "order": null,
      "overflow": null,
      "overflow_x": null,
      "overflow_y": null,
      "padding": null,
      "right": null,
      "top": null,
      "visibility": null,
      "width": null
     }
    },
    "d8339fe614304474ae77c0a7a5daa454": {
     "model_module": "@jupyter-widgets/controls",
     "model_module_version": "1.5.0",
     "model_name": "HTMLModel",
     "state": {
      "_dom_classes": [],
      "_model_module": "@jupyter-widgets/controls",
      "_model_module_version": "1.5.0",
      "_model_name": "HTMLModel",
      "_view_count": null,
      "_view_module": "@jupyter-widgets/controls",
      "_view_module_version": "1.5.0",
      "_view_name": "HTMLView",
      "description": "",
      "description_tooltip": null,
      "layout": "IPY_MODEL_8b3b39f6862a41e396f66094ed48a707",
      "placeholder": "​",
      "style": "IPY_MODEL_c02ea252fe704b869666fff26ddec8ba",
      "value": "Downloading: 100%"
     }
    },
    "da66d3da54864679a3bbb9e6b4f8738f": {
     "model_module": "@jupyter-widgets/base",
     "model_module_version": "1.2.0",
     "model_name": "LayoutModel",
     "state": {
      "_model_module": "@jupyter-widgets/base",
      "_model_module_version": "1.2.0",
      "_model_name": "LayoutModel",
      "_view_count": null,
      "_view_module": "@jupyter-widgets/base",
      "_view_module_version": "1.2.0",
      "_view_name": "LayoutView",
      "align_content": null,
      "align_items": null,
      "align_self": null,
      "border": null,
      "bottom": null,
      "display": null,
      "flex": null,
      "flex_flow": null,
      "grid_area": null,
      "grid_auto_columns": null,
      "grid_auto_flow": null,
      "grid_auto_rows": null,
      "grid_column": null,
      "grid_gap": null,
      "grid_row": null,
      "grid_template_areas": null,
      "grid_template_columns": null,
      "grid_template_rows": null,
      "height": null,
      "justify_content": null,
      "justify_items": null,
      "left": null,
      "margin": null,
      "max_height": null,
      "max_width": null,
      "min_height": null,
      "min_width": null,
      "object_fit": null,
      "object_position": null,
      "order": null,
      "overflow": null,
      "overflow_x": null,
      "overflow_y": null,
      "padding": null,
      "right": null,
      "top": null,
      "visibility": null,
      "width": null
     }
    },
    "e401b1d99669427ebfd78e10e713564a": {
     "model_module": "@jupyter-widgets/controls",
     "model_module_version": "1.5.0",
     "model_name": "FloatProgressModel",
     "state": {
      "_dom_classes": [],
      "_model_module": "@jupyter-widgets/controls",
      "_model_module_version": "1.5.0",
      "_model_name": "FloatProgressModel",
      "_view_count": null,
      "_view_module": "@jupyter-widgets/controls",
      "_view_module_version": "1.5.0",
      "_view_name": "ProgressView",
      "bar_style": "success",
      "description": "",
      "description_tooltip": null,
      "layout": "IPY_MODEL_d64b58f0a64342f19c5b26eadd06464b",
      "max": 570,
      "min": 0,
      "orientation": "horizontal",
      "style": "IPY_MODEL_9bcaf82d371148609b76307ebfdb52ee",
      "value": 570
     }
    },
    "f368596aabe8445380acdaf3b10a7d8a": {
     "model_module": "@jupyter-widgets/controls",
     "model_module_version": "1.5.0",
     "model_name": "ProgressStyleModel",
     "state": {
      "_model_module": "@jupyter-widgets/controls",
      "_model_module_version": "1.5.0",
      "_model_name": "ProgressStyleModel",
      "_view_count": null,
      "_view_module": "@jupyter-widgets/base",
      "_view_module_version": "1.2.0",
      "_view_name": "StyleView",
      "bar_color": null,
      "description_width": ""
     }
    },
    "fb6ae61da8b545fc94bd8bb93239c453": {
     "model_module": "@jupyter-widgets/controls",
     "model_module_version": "1.5.0",
     "model_name": "ProgressStyleModel",
     "state": {
      "_model_module": "@jupyter-widgets/controls",
      "_model_module_version": "1.5.0",
      "_model_name": "ProgressStyleModel",
      "_view_count": null,
      "_view_module": "@jupyter-widgets/base",
      "_view_module_version": "1.2.0",
      "_view_name": "StyleView",
      "bar_color": null,
      "description_width": ""
     }
    }
   }
  }
 },
 "nbformat": 4,
 "nbformat_minor": 5
}
