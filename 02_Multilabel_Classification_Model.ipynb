{
 "cells": [
  {
   "cell_type": "markdown",
   "id": "f8cc5f59",
   "metadata": {},
   "source": [
    "# Multi-label classification model\n",
    "\n",
    "The model aims to classify the transcripts' sentences that belong to three different international courts.\n",
    "\n",
    "The dataset that is considered for this project can be found at: TBD\n",
    "\n",
    "The procedure followed to extract such sentences is described as follows:\n",
    "- Relevant cases were chosen directly from the webpage of each international court\n",
    "- Each transcript has a different format file (*.pdf, *.doc, or *.htm{( )|l}) and a cleaning process was applied in order to remove either uninformative or irrelevant information for the classification model\n",
    "- Each cleaned transcript version was stored into a .txt file\n",
    "- a\n",
    "- b\n",
    "- etc. "
   ]
  },
  {
   "cell_type": "markdown",
   "id": "0a89293e",
   "metadata": {},
   "source": [
    "## Imports"
   ]
  },
  {
   "cell_type": "code",
   "execution_count": 1,
   "id": "e2b2bbe3",
   "metadata": {},
   "outputs": [],
   "source": [
    "%load_ext autoreload\n",
    "%autoreload 2"
   ]
  },
  {
   "cell_type": "code",
   "execution_count": 87,
   "id": "77a18af8",
   "metadata": {},
   "outputs": [],
   "source": [
    "import pandas as pd\n",
    "import torch\n",
    "import numpy as np\n",
    "import matplotlib.pyplot as plt\n",
    "\n",
    "import src.multi_label_classif_model_utilities as mlclassif_utilities"
   ]
  },
  {
   "cell_type": "markdown",
   "id": "4eef242e",
   "metadata": {},
   "source": [
    "## Globals"
   ]
  },
  {
   "cell_type": "code",
   "execution_count": 80,
   "id": "a821416a",
   "metadata": {},
   "outputs": [],
   "source": [
    "PATH_DATASET = \"input/dataset/Dataset.xlsx\"\n",
    "INDEX_COLUMNS_DATASET = 0\n",
    "LIST_NAME_COLUMNS_DATASET = [\"span\", \"role\", \"trauma\", \"court\"]\n",
    "\n",
    "GLB_RETURN_ATTENTION_MASK = True"
   ]
  },
  {
   "cell_type": "markdown",
   "id": "788511a0",
   "metadata": {},
   "source": [
    "## Dataset"
   ]
  },
  {
   "cell_type": "code",
   "execution_count": 4,
   "id": "e7ff60f3",
   "metadata": {},
   "outputs": [
    {
     "data": {
      "text/html": [
       "<div>\n",
       "<style scoped>\n",
       "    .dataframe tbody tr th:only-of-type {\n",
       "        vertical-align: middle;\n",
       "    }\n",
       "\n",
       "    .dataframe tbody tr th {\n",
       "        vertical-align: top;\n",
       "    }\n",
       "\n",
       "    .dataframe thead th {\n",
       "        text-align: right;\n",
       "    }\n",
       "</style>\n",
       "<table border=\"1\" class=\"dataframe\">\n",
       "  <thead>\n",
       "    <tr style=\"text-align: right;\">\n",
       "      <th></th>\n",
       "      <th>span</th>\n",
       "      <th>role</th>\n",
       "      <th>trauma</th>\n",
       "      <th>court</th>\n",
       "    </tr>\n",
       "  </thead>\n",
       "  <tbody>\n",
       "    <tr>\n",
       "      <th>0</th>\n",
       "      <td>P R O C E E D I N G S\\n(Judges enter courtroom)\\n</td>\n",
       "      <td>Court Proceedings</td>\n",
       "      <td>0</td>\n",
       "      <td>ECCC</td>\n",
       "    </tr>\n",
       "    <tr>\n",
       "      <th>1</th>\n",
       "      <td>MR. PRESIDENT:\\nPlease be seated.  The Court i...</td>\n",
       "      <td>Judge</td>\n",
       "      <td>0</td>\n",
       "      <td>ECCC</td>\n",
       "    </tr>\n",
       "    <tr>\n",
       "      <th>2</th>\n",
       "      <td>MS. STUDZINSKY:\\nMr. President, good morning. ...</td>\n",
       "      <td>Lawyer</td>\n",
       "      <td>0</td>\n",
       "      <td>ECCC</td>\n",
       "    </tr>\n",
       "    <tr>\n",
       "      <th>3</th>\n",
       "      <td>I would like to have the following information...</td>\n",
       "      <td>Lawyer</td>\n",
       "      <td>0</td>\n",
       "      <td>ECCC</td>\n",
       "    </tr>\n",
       "    <tr>\n",
       "      <th>4</th>\n",
       "      <td>MR. WERNER:\\nMr. President, just to inform you...</td>\n",
       "      <td>Lawyer</td>\n",
       "      <td>0</td>\n",
       "      <td>ECCC</td>\n",
       "    </tr>\n",
       "  </tbody>\n",
       "</table>\n",
       "</div>"
      ],
      "text/plain": [
       "                                                span               role  \\\n",
       "0  P R O C E E D I N G S\\n(Judges enter courtroom)\\n  Court Proceedings   \n",
       "1  MR. PRESIDENT:\\nPlease be seated.  The Court i...              Judge   \n",
       "2  MS. STUDZINSKY:\\nMr. President, good morning. ...             Lawyer   \n",
       "3  I would like to have the following information...             Lawyer   \n",
       "4  MR. WERNER:\\nMr. President, just to inform you...             Lawyer   \n",
       "\n",
       "   trauma court  \n",
       "0       0  ECCC  \n",
       "1       0  ECCC  \n",
       "2       0  ECCC  \n",
       "3       0  ECCC  \n",
       "4       0  ECCC  "
      ]
     },
     "execution_count": 4,
     "metadata": {},
     "output_type": "execute_result"
    }
   ],
   "source": [
    "df_dataset = mlclassif_utilities.import_dataset_from_excel(PATH_DATASET, INDEX_COLUMNS_DATASET, LIST_NAME_COLUMNS_DATASET)\n",
    "df_dataset.head()"
   ]
  },
  {
   "cell_type": "code",
   "execution_count": 5,
   "id": "3b5982c7",
   "metadata": {},
   "outputs": [
    {
     "name": "stdout",
     "output_type": "stream",
     "text": [
      "Num of different roles in the dataset is 5 which are:\n",
      "\t 1 - Court Proceedings\n",
      "\t 2 - Judge\n",
      "\t 3 - Lawyer\n",
      "\t 4 - Witness\n",
      "\t 5 - Accused\n",
      "Num of different courts in the dataset is 2 which are:\n",
      "\t 1 - ECCC\n",
      "\t 2 - ICTY\n"
     ]
    }
   ],
   "source": [
    "classes_dataset = mlclassif_utilities.get_unique_values_from_dataset(df_dataset, \"role\")\n",
    "print(f\"Num of different roles in the dataset is {len(classes_dataset)} which are:\")\n",
    "for index, elem in enumerate(classes_dataset):\n",
    "    print(\"\\t\", index+1, \"-\", elem)\n",
    "    \n",
    "courts_dataset = mlclassif_utilities.get_unique_values_from_dataset(df_dataset, \"court\")\n",
    "print(f\"Num of different courts in the dataset is {len(courts_dataset)} which are:\")\n",
    "for index, elem in enumerate(courts_dataset):\n",
    "    print(\"\\t\", index+1, \"-\", elem)"
   ]
  },
  {
   "cell_type": "markdown",
   "id": "9ab4243a",
   "metadata": {},
   "source": [
    "### Distribution of all classes within the dataset"
   ]
  },
  {
   "cell_type": "code",
   "execution_count": 43,
   "id": "2fe9f48a",
   "metadata": {},
   "outputs": [
    {
     "data": {
      "image/png": "[encoded data removed]",
      "text/plain": [
       "<Figure size 432x288 with 1 Axes>"
      ]
     },
     "metadata": {},
     "output_type": "display_data"
    },
    {
     "data": {
      "text/html": [
       "<div>\n",
       "<style scoped>\n",
       "    .dataframe tbody tr th:only-of-type {\n",
       "        vertical-align: middle;\n",
       "    }\n",
       "\n",
       "    .dataframe tbody tr th {\n",
       "        vertical-align: top;\n",
       "    }\n",
       "\n",
       "    .dataframe thead th {\n",
       "        text-align: right;\n",
       "    }\n",
       "</style>\n",
       "<table border=\"1\" class=\"dataframe\">\n",
       "  <thead>\n",
       "    <tr style=\"text-align: right;\">\n",
       "      <th></th>\n",
       "      <th>role</th>\n",
       "      <th>span</th>\n",
       "    </tr>\n",
       "  </thead>\n",
       "  <tbody>\n",
       "    <tr>\n",
       "      <th>0</th>\n",
       "      <td>Accused</td>\n",
       "      <td>4</td>\n",
       "    </tr>\n",
       "    <tr>\n",
       "      <th>1</th>\n",
       "      <td>Court Proceedings</td>\n",
       "      <td>40</td>\n",
       "    </tr>\n",
       "    <tr>\n",
       "      <th>2</th>\n",
       "      <td>Judge</td>\n",
       "      <td>216</td>\n",
       "    </tr>\n",
       "    <tr>\n",
       "      <th>3</th>\n",
       "      <td>Lawyer</td>\n",
       "      <td>683</td>\n",
       "    </tr>\n",
       "    <tr>\n",
       "      <th>4</th>\n",
       "      <td>Witness</td>\n",
       "      <td>766</td>\n",
       "    </tr>\n",
       "  </tbody>\n",
       "</table>\n",
       "</div>"
      ],
      "text/plain": [
       "                role  span\n",
       "0            Accused     4\n",
       "1  Court Proceedings    40\n",
       "2              Judge   216\n",
       "3             Lawyer   683\n",
       "4            Witness   766"
      ]
     },
     "execution_count": 43,
     "metadata": {},
     "output_type": "execute_result"
    }
   ],
   "source": [
    "distribution_classes = mlclassif_utilities.get_distribution_classes_from_dataset(df_dataset, [\"role\"], \"span\")\n",
    "\n",
    "labels = list(distribution_classes[\"role\"])\n",
    "sizes = list(distribution_classes[\"span\"])\n",
    "\n",
    "fig1, ax1 = plt.subplots()\n",
    "ax1.set_title(f'Distribution of classes in the dataset with a total number of {distribution_classes[\"span\"].sum()} spans')\n",
    "ax1.pie(sizes, labels=labels, autopct='%2.1f%%', shadow=True, startangle=0) #'%1.1f%%'\n",
    "ax1.axis('equal')  # Equal aspect ratio ensures that pie is drawn as a circle.\n",
    "\n",
    "plt.show()\n",
    "\n",
    "distribution_classes"
   ]
  },
  {
   "cell_type": "markdown",
   "id": "e37f53d3",
   "metadata": {},
   "source": [
    "## Setup"
   ]
  },
  {
   "cell_type": "markdown",
   "id": "26f14687",
   "metadata": {},
   "source": [
    "### Device\n",
    "\n",
    "Get the GPU device if exists, otherwise get the cpu as default dev."
   ]
  },
  {
   "cell_type": "code",
   "execution_count": 19,
   "id": "e7c107a1",
   "metadata": {},
   "outputs": [
    {
     "name": "stdout",
     "output_type": "stream",
     "text": [
      "There are 1 GPU(s) available.\n",
      "\n",
      "These are the available devices:\n",
      "\t 1 - NVIDIA GeForce GTX 1660 Ti\n",
      "\n",
      "\n",
      "==> Selected device is 'cuda' <==\n"
     ]
    }
   ],
   "source": [
    "device = mlclassif_utilities.get_gpu_device_if_exists()\n",
    "\n",
    "print(f\"\\n\\n==> Selected device is '{device}' <==\")"
   ]
  },
  {
   "cell_type": "markdown",
   "id": "96731093",
   "metadata": {},
   "source": [
    "## Model"
   ]
  },
  {
   "cell_type": "markdown",
   "id": "02d0f1fd",
   "metadata": {},
   "source": [
    "### Tokenizer"
   ]
  },
  {
   "cell_type": "code",
   "execution_count": 55,
   "id": "fadaa86e",
   "metadata": {},
   "outputs": [
    {
     "name": "stdout",
     "output_type": "stream",
     "text": [
      "Loading BERT tokenizer...\n",
      "Bert tokenizer was loaded successfully (bert-base-uncased) \n",
      "\t do_lower_case=True\n"
     ]
    }
   ],
   "source": [
    "#If no parameters are sent, default values are considered. \n",
    "#    IDModel:      Bert\n",
    "#    Model namel:  bert-base-uncased\n",
    "#    Do uncase:    True\n",
    "\n",
    "tokenizer = mlclassif_utilities.get_tokenizer() "
   ]
  },
  {
   "cell_type": "markdown",
   "id": "fa690bff",
   "metadata": {},
   "source": [
    "### Get list of all sentences and all classes"
   ]
  },
  {
   "cell_type": "code",
   "execution_count": 48,
   "id": "0e3fc91f",
   "metadata": {},
   "outputs": [],
   "source": [
    "list_all_spans = list(df_dataset[\"span\"])\n",
    "list_all_classes = list(df_dataset[\"role\"])"
   ]
  },
  {
   "cell_type": "markdown",
   "id": "70e00a93",
   "metadata": {},
   "source": [
    "### Max length of a sentence among all sentences within the dataset"
   ]
  },
  {
   "cell_type": "code",
   "execution_count": 54,
   "id": "d9436ce0",
   "metadata": {},
   "outputs": [
    {
     "name": "stdout",
     "output_type": "stream",
     "text": [
      "Max sentence length:  568 found at index 37 . Sentence is:\n",
      "\n",
      "\n",
      " Then they started to interrogate me and beat me up.  It was --\n",
      "the interrogation location was in a house outside the compound.\n",
      "It was behind the Building A.  They cut me and they asked me to\n",
      "lie down on the floor with my face facing down and they had a\n",
      "bunch of sticks and they dropped it on the floor and it made\n",
      "noise.  And I was asked to choose which stick I preferred.  And I\n",
      "responded, \"Whichever stick I choose, it is still a stick that\n",
      "you will use to beat me up so it is up to you, Brother, to decide\n",
      "which one you want to use.\"\n",
      "Mam Nai stood up and grabbed a stick and started to beat me up.\n",
      "After he felt exhausted, then another person came to take turn to\n",
      "beat me up.  So that Mam Nai was Mam Nai alias Chan.  He got his\n",
      "skin condition with a spotty skins and quite a red in his face.\n",
      "He asked me to count the lashes and when I counted up to 10\n",
      "lashes, he said, \"How come you count to 10 lashes?  I only beat\n",
      "you for one lash.\"\n",
      "I was -- I felt so painful at the time.  There were wounds --\n",
      "many wounds on my back and the blood was on the floor flowing\n",
      "from my back.  Whips were also used to torture me.  I was so\n",
      "shocked and painful.\n",
      "Every time they beat me up, they asked me questions; when did I\n",
      "join the CIA and, \"Who introduced you into the CIA network and\n",
      "what was their name?\"  And I responded that I did not know.  So\n",
      "the first beating, I responded I did not know.  The second time\n",
      "of the beating, the third times; I gave the same response.  Even\n",
      "if my back had wound, they beat on that wound.  It was so painful\n",
      "and I could not think of any mistake that I made.  I did not know\n",
      "what CIA or KGB network was; then how could I respond?  So they\n",
      "just kept beating me up.  I had a lot of scars on my back as\n",
      "evidence from that torture.\n",
      "In my mind, I thought of my mother; that if I could live, I would\n",
      "pray.  Probably it's because of my mother that gave me birth.\n",
      "And I would -- and I thought that if I could lived to give my\n",
      "story to the Chamber and now, finally, I am before the ECCC and\n",
      "that the ECCC would  find justice for me.  And I feel so happy\n",
      "even if 100 percent of justice cannot be provided by the Chamber,\n",
      "50 or 60 percent of justice to me is fine because I determined\n",
      "from the prison where I was detained that I had not committed any\n",
      "mistake or offence and that I prayed just to be survived.\n",
      " \n",
      "\n",
      "\n",
      "\n"
     ]
    },
    {
     "data": {
      "text/plain": [
       "568"
      ]
     },
     "execution_count": 54,
     "metadata": {},
     "output_type": "execute_result"
    }
   ],
   "source": [
    "mlclassif_utilities.get_max_length_of_a_sentence_among_all_sentences(tokenizer, list_all_spans, False)"
   ]
  },
  {
   "cell_type": "markdown",
   "id": "3fc42391",
   "metadata": {},
   "source": [
    "### Tokenize sentences"
   ]
  },
  {
   "cell_type": "code",
   "execution_count": 60,
   "id": "ad022b32",
   "metadata": {},
   "outputs": [],
   "source": [
    "# If _return_attention_mask, a tuple of two lists is given (tensor_of_inputs, tensor_of_attention_masks)\n",
    "all_spans_tokenized = mlclassif_utilities.get_all_spans_tokenized(\n",
    "    mlclassif_utilities.GLB_BERT_MODEL_ID, \n",
    "    tokenizer,\n",
    "    list_all_spans,\n",
    "    _add_special_tokens = True, \n",
    "    _max_length = 512,\n",
    "    _pad_to_max_length = True,\n",
    "    _return_attention_mask = GLB_RETURN_ATTENTION_MASK, \n",
    "    type_tensors = mlclassif_utilities.GLB_PYTORCH_TENSOR_TYPE\n",
    ")"
   ]
  },
  {
   "cell_type": "code",
   "execution_count": 85,
   "id": "06844291",
   "metadata": {},
   "outputs": [],
   "source": [
    "input_ids = None\n",
    "attention_masks = None\n",
    "\n",
    "if GLB_RETURN_ATTENTION_MASK:\n",
    "    input_ids = mlclassif_utilities.convert_list_into_pytorch_tensor(all_spans_tokenized[0])\n",
    "    attention_masks = mlclassif_utilities.convert_list_into_pytorch_tensor(all_spans_tokenized[1])\n",
    "else:\n",
    "    input_ids = mlclassif_utilities.convert_list_into_pytorch_tensor(all_spans_tokenized)"
   ]
  },
  {
   "cell_type": "markdown",
   "id": "5208485b",
   "metadata": {},
   "source": [
    "### Split dataset"
   ]
  },
  {
   "cell_type": "code",
   "execution_count": 86,
   "id": "0407adef",
   "metadata": {},
   "outputs": [],
   "source": [
    "numeric_classes = mlclassif_utilities.convert_list_span_classes_into_numeric_values(classes_dataset, list_all_classes)\n",
    "numeric_classes = mlclassif_utilities.convert_list_labels_into_pytorch_tensor(numeric_classes)"
   ]
  },
  {
   "cell_type": "code",
   "execution_count": 105,
   "id": "7b773e73",
   "metadata": {},
   "outputs": [
    {
     "name": "stdout",
     "output_type": "stream",
     "text": [
      "CORPUS TRAINING AND VALIDATION:  \n",
      "\t Length labels 1623 \n",
      "\t Length input_ids 1623 \n",
      "\t Length attention_masks 1623 \n",
      "\n",
      "\tCORPUS TRAINING:  \n",
      "\t\t Length labels 1460 \n",
      "\t\t Length input_ids 1460 \n",
      "\t\t Length attention_masks 1460\n",
      "\tCORPUS VALIDATION:  \n",
      "\t\t Length labels 163 \n",
      "\t\t Length input_ids 163 \n",
      "\t\t Length attention_masks 163\n",
      "\n",
      "CORPUS TEST:  \n",
      "\t Length labels 86 \n",
      "\t Length input_ids 86 \n",
      "\t Length attention_masks 86 \n",
      "\n"
     ]
    }
   ],
   "source": [
    "### Split dataset\n",
    "train_labels_corpus, train_input_ids, train_attention_masks, val_labels_corpus, val_input_ids, val_attention_masks, test_labels_corpus, test_input_ids, test_attention_masks = mlclassif_utilities.split_dataset_train_val_test(numeric_classes, input_ids, attention_masks)"
   ]
  },
  {
   "cell_type": "code",
   "execution_count": null,
   "id": "349ed42b",
   "metadata": {},
   "outputs": [],
   "source": []
  }
 ],
 "metadata": {
  "kernelspec": {
   "display_name": "Python 3 (ipykernel)",
   "language": "python",
   "name": "python3"
  },
  "language_info": {
   "codemirror_mode": {
    "name": "ipython",
    "version": 3
   },
   "file_extension": ".py",
   "mimetype": "text/x-python",
   "name": "python",
   "nbconvert_exporter": "python",
   "pygments_lexer": "ipython3",
   "version": "3.8.10"
  }
 },
 "nbformat": 4,
 "nbformat_minor": 5
}
