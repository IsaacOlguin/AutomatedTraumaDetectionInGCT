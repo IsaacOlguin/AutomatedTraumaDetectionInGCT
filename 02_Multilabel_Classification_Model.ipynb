{
 "cells": [
  {
   "cell_type": "markdown",
   "id": "f8cc5f59",
   "metadata": {
    "id": "f8cc5f59"
   },
   "source": [
    "# Multi-label classification model\n",
    "\n",
    "The model aims to classify the transcripts' sentences that belong to three different international courts.\n",
    "\n",
    "The dataset that is considered for this project can be found at: TBD\n",
    "\n",
    "The procedure followed to extract such sentences is described as follows:\n",
    "- Relevant cases were chosen directly from the webpage of each international court\n",
    "- Each transcript has a different format file (*.pdf, *.doc, or *.htm{( )|l}) and a cleaning process was applied in order to remove either uninformative or irrelevant information for the classification model\n",
    "- Each cleaned transcript version was stored into a .txt file\n",
    "- a\n",
    "- b\n",
    "- etc. "
   ]
  },
  {
   "cell_type": "markdown",
   "id": "0a89293e",
   "metadata": {
    "id": "0a89293e"
   },
   "source": [
    "## Imports"
   ]
  },
  {
   "cell_type": "code",
   "execution_count": null,
   "id": "e2b2bbe3",
   "metadata": {
    "id": "e2b2bbe3"
   },
   "outputs": [],
   "source": [
    "%load_ext autoreload\n",
    "%autoreload 2"
   ]
  },
  {
   "cell_type": "code",
   "execution_count": null,
   "id": "53hJOYmSo8-_",
   "metadata": {
    "colab": {
     "base_uri": "https://localhost:8080/"
    },
    "executionInfo": {
     "elapsed": 11026,
     "status": "ok",
     "timestamp": 1670837716906,
     "user": {
      "displayName": "Isaac Olguín",
      "userId": "09697151780329788960"
     },
     "user_tz": -60
    },
    "id": "53hJOYmSo8-_",
    "outputId": "e7efcddb-53a5-4a2e-c0f2-5b39ab4cc98f"
   },
   "outputs": [],
   "source": [
    "#!pip install transformers\n",
    "#!pip install torch\n",
    "#!pip install openpyxl"
   ]
  },
  {
   "cell_type": "code",
   "execution_count": null,
   "id": "77a18af8",
   "metadata": {
    "executionInfo": {
     "elapsed": 8815,
     "status": "ok",
     "timestamp": 1670837725712,
     "user": {
      "displayName": "Isaac Olguín",
      "userId": "09697151780329788960"
     },
     "user_tz": -60
    },
    "id": "77a18af8"
   },
   "outputs": [],
   "source": [
    "import pandas as pd\n",
    "import torch\n",
    "import numpy as np\n",
    "import matplotlib.pyplot as plt\n",
    "import json\n",
    "\n",
    "import src.multi_label_classif_model_utilities as mlclassif_utilities"
   ]
  },
  {
   "cell_type": "markdown",
   "id": "4eef242e",
   "metadata": {
    "id": "4eef242e"
   },
   "source": [
    "## Globals"
   ]
  },
  {
   "cell_type": "code",
   "execution_count": null,
   "id": "a821416a",
   "metadata": {
    "executionInfo": {
     "elapsed": 10,
     "status": "ok",
     "timestamp": 1670837725713,
     "user": {
      "displayName": "Isaac Olguín",
      "userId": "09697151780329788960"
     },
     "user_tz": -60
    },
    "id": "a821416a"
   },
   "outputs": [],
   "source": [
    "PATH_DATASET = \"input/dataset/Dataset.xlsx\"\n",
    "PATH_DIR_LOGS = \"logs/\"\n",
    "INDEX_COLUMNS_DATASET = 0\n",
    "LIST_NAME_COLUMNS_DATASET = [\"span\", \"role\", \"trauma\", \"court\"]\n",
    "\n",
    "GLB_RETURN_ATTENTION_MASK = True\n",
    "\n",
    "# Globals for the model\n",
    "EPOCHS = 3\n",
    "EMBEDDING_SIZE = 512\n",
    "NUM_CLASSES = 5\n",
    "BATCH_SIZE = 8"
   ]
  },
  {
   "cell_type": "markdown",
   "id": "788511a0",
   "metadata": {
    "id": "788511a0"
   },
   "source": [
    "## Dataset"
   ]
  },
  {
   "cell_type": "code",
   "execution_count": null,
   "id": "e7ff60f3",
   "metadata": {
    "colab": {
     "base_uri": "https://localhost:8080/",
     "height": 206
    },
    "executionInfo": {
     "elapsed": 1900,
     "status": "ok",
     "timestamp": 1670837727605,
     "user": {
      "displayName": "Isaac Olguín",
      "userId": "09697151780329788960"
     },
     "user_tz": -60
    },
    "id": "e7ff60f3",
    "outputId": "c7d14300-2ebd-4e56-a6ba-f216e4901566"
   },
   "outputs": [],
   "source": [
    "df_dataset = mlclassif_utilities.import_dataset_from_excel(PATH_DATASET, INDEX_COLUMNS_DATASET, LIST_NAME_COLUMNS_DATASET)\n",
    "df_dataset.head()"
   ]
  },
  {
   "cell_type": "code",
   "execution_count": null,
   "id": "3b5982c7",
   "metadata": {
    "colab": {
     "base_uri": "https://localhost:8080/"
    },
    "executionInfo": {
     "elapsed": 18,
     "status": "ok",
     "timestamp": 1670837727607,
     "user": {
      "displayName": "Isaac Olguín",
      "userId": "09697151780329788960"
     },
     "user_tz": -60
    },
    "id": "3b5982c7",
    "outputId": "e0ebb9cb-ec40-4fec-8bfe-6128f156ac4d"
   },
   "outputs": [],
   "source": [
    "classes_dataset = mlclassif_utilities.get_unique_values_from_dataset(df_dataset, \"role\")\n",
    "print(f\"Num of different roles in the dataset is {len(classes_dataset)} which are:\")\n",
    "for index, elem in enumerate(classes_dataset):\n",
    "    print(\"\\t\", index+1, \"-\", elem)\n",
    "    \n",
    "courts_dataset = mlclassif_utilities.get_unique_values_from_dataset(df_dataset, \"court\")\n",
    "print(f\"Num of different courts in the dataset is {len(courts_dataset)} which are:\")\n",
    "for index, elem in enumerate(courts_dataset):\n",
    "    print(\"\\t\", index+1, \"-\", elem)"
   ]
  },
  {
   "cell_type": "markdown",
   "id": "9ab4243a",
   "metadata": {
    "id": "9ab4243a"
   },
   "source": [
    "### Distribution of all classes within the dataset"
   ]
  },
  {
   "cell_type": "code",
   "execution_count": null,
   "id": "2fe9f48a",
   "metadata": {
    "colab": {
     "base_uri": "https://localhost:8080/",
     "height": 454
    },
    "executionInfo": {
     "elapsed": 15,
     "status": "ok",
     "timestamp": 1670837727608,
     "user": {
      "displayName": "Isaac Olguín",
      "userId": "09697151780329788960"
     },
     "user_tz": -60
    },
    "id": "2fe9f48a",
    "outputId": "fbc72577-e650-4bb3-da5c-e93eec5a5ff1"
   },
   "outputs": [],
   "source": [
    "distribution_classes = mlclassif_utilities.get_distribution_classes_from_dataset(df_dataset, [\"role\"], \"span\")\n",
    "\n",
    "labels = list(distribution_classes[\"role\"])\n",
    "sizes = list(distribution_classes[\"span\"])\n",
    "\n",
    "fig1, ax1 = plt.subplots()\n",
    "ax1.set_title(f'Distribution of classes in the dataset with a total number of {distribution_classes[\"span\"].sum()} spans')\n",
    "ax1.pie(sizes, labels=labels, autopct='%2.1f%%', shadow=True, startangle=0) #'%1.1f%%'\n",
    "ax1.axis('equal')  # Equal aspect ratio ensures that pie is drawn as a circle.\n",
    "\n",
    "plt.show()\n",
    "\n",
    "distribution_classes"
   ]
  },
  {
   "cell_type": "markdown",
   "id": "e37f53d3",
   "metadata": {
    "id": "e37f53d3"
   },
   "source": [
    "## Setup"
   ]
  },
  {
   "cell_type": "markdown",
   "id": "26f14687",
   "metadata": {
    "id": "26f14687"
   },
   "source": [
    "### Device\n",
    "\n",
    "Get the GPU device if exists, otherwise get the cpu as default dev."
   ]
  },
  {
   "cell_type": "code",
   "execution_count": null,
   "id": "e7c107a1",
   "metadata": {
    "colab": {
     "base_uri": "https://localhost:8080/"
    },
    "executionInfo": {
     "elapsed": 11,
     "status": "ok",
     "timestamp": 1670837728417,
     "user": {
      "displayName": "Isaac Olguín",
      "userId": "09697151780329788960"
     },
     "user_tz": -60
    },
    "id": "e7c107a1",
    "outputId": "1be35507-e63d-42db-e819-b952a9dac505"
   },
   "outputs": [],
   "source": [
    "device = mlclassif_utilities.get_gpu_device_if_exists()\n",
    "\n",
    "print(f\"\\n\\n==> Selected device is '{device}' <==\")"
   ]
  },
  {
   "cell_type": "markdown",
   "id": "96731093",
   "metadata": {
    "id": "96731093"
   },
   "source": [
    "## Model"
   ]
  },
  {
   "cell_type": "markdown",
   "id": "02d0f1fd",
   "metadata": {
    "id": "02d0f1fd"
   },
   "source": [
    "### Tokenizer"
   ]
  },
  {
   "cell_type": "code",
   "execution_count": null,
   "id": "fadaa86e",
   "metadata": {
    "colab": {
     "base_uri": "https://localhost:8080/",
     "height": 165,
     "referenced_widgets": [
      "e04d23dba4ae40b697ab095d206fed27",
      "f24a4dab9d1e474e9f08e25af25917a9",
      "24b7f4e9411b4933aef50924873299d5",
      "30563c6739dd4d54b5d85b68c2e335de",
      "5ca715fd6c8b427194f0e7fb2666182a",
      "0a00ce4806f84b35a7de56898fb07973",
      "9628f8e0bf674990afd8c8707add8e08",
      "fdecf98d2fa34798b5fad60ffd71d0ac",
      "05d6b2ce951e454d86e69114f2e05b40",
      "d1206ffb9d8b4507b1ded978f041248c",
      "1a03cfcf66b84409884f38e30ad30ad9",
      "6436035ff6b5425aa128ff95e7d34fbc",
      "fe0e8e1857c74e578aee5a0486f0b218",
      "761caac59a684129bcc8459f32534a97",
      "348a4573a7054e199e2a623653e5535b",
      "bfe735dbb535469aa36bfe8c3539923c",
      "aa29969499c94f18b0499ba6b936b390",
      "8cab98ea43d845a88e62fd03b604f76d",
      "f5a61a868f3c41a7917c9798d18b1867",
      "5a2e28fa3d1b4044b08fe96be120a543",
      "4b363913950748b8833b88648e227127",
      "7d3684748f1d4df7b6a4d396459a766d",
      "af2526e6e6e74a4bbbbd75be5932232f",
      "cb2eada34a08401d85005e180614f58b",
      "d1982d547b494730926286bff46fcaac",
      "fcc34f9ad1fb40cfb98bcd8a9262d6f6",
      "c803ec842b064c1a89fbf5f65dc3686d",
      "f8f534e21948449f823765098cb0b9e6",
      "579febed352f43049388645a6336cf7c",
      "f7462bdcb6874700a6f6f88330736254",
      "7cdd39490b694f0ea10f5148a2feb6a9",
      "1ede19cdff61403580a5a9c473601d61",
      "823767004b5e4e579417cfb7917e6219"
     ]
    },
    "executionInfo": {
     "elapsed": 8478,
     "status": "ok",
     "timestamp": 1670837736886,
     "user": {
      "displayName": "Isaac Olguín",
      "userId": "09697151780329788960"
     },
     "user_tz": -60
    },
    "id": "fadaa86e",
    "outputId": "e6b0c190-8491-4e92-a8d2-64aa1e268a69"
   },
   "outputs": [],
   "source": [
    "#If no parameters are sent, default values are considered. \n",
    "#    IDModel:      Bert\n",
    "#    Model namel:  bert-base-uncased\n",
    "#    Do uncase:    True\n",
    "\n",
    "tokenizer = mlclassif_utilities.get_tokenizer() "
   ]
  },
  {
   "cell_type": "markdown",
   "id": "fa690bff",
   "metadata": {
    "id": "fa690bff"
   },
   "source": [
    "### Get list of all sentences and all classes"
   ]
  },
  {
   "cell_type": "code",
   "execution_count": null,
   "id": "0e3fc91f",
   "metadata": {
    "executionInfo": {
     "elapsed": 27,
     "status": "ok",
     "timestamp": 1670837736888,
     "user": {
      "displayName": "Isaac Olguín",
      "userId": "09697151780329788960"
     },
     "user_tz": -60
    },
    "id": "0e3fc91f"
   },
   "outputs": [],
   "source": [
    "list_all_spans = list(df_dataset[\"span\"])\n",
    "list_all_classes = list(df_dataset[\"role\"])"
   ]
  },
  {
   "cell_type": "markdown",
   "id": "70e00a93",
   "metadata": {
    "id": "70e00a93"
   },
   "source": [
    "### Max length of a sentence among all sentences within the dataset"
   ]
  },
  {
   "cell_type": "code",
   "execution_count": null,
   "id": "d9436ce0",
   "metadata": {
    "colab": {
     "base_uri": "https://localhost:8080/"
    },
    "executionInfo": {
     "elapsed": 1264,
     "status": "ok",
     "timestamp": 1670837738126,
     "user": {
      "displayName": "Isaac Olguín",
      "userId": "09697151780329788960"
     },
     "user_tz": -60
    },
    "id": "d9436ce0",
    "outputId": "3fa2e5a8-2cbd-44eb-9878-5e962671f466"
   },
   "outputs": [],
   "source": [
    "mlclassif_utilities.get_max_length_of_a_sentence_among_all_sentences(tokenizer, list_all_spans, False)"
   ]
  },
  {
   "cell_type": "markdown",
   "id": "3fc42391",
   "metadata": {
    "id": "3fc42391"
   },
   "source": [
    "### Tokenize sentences"
   ]
  },
  {
   "cell_type": "code",
   "execution_count": null,
   "id": "ad022b32",
   "metadata": {
    "colab": {
     "base_uri": "https://localhost:8080/"
    },
    "executionInfo": {
     "elapsed": 1316,
     "status": "ok",
     "timestamp": 1670837739433,
     "user": {
      "displayName": "Isaac Olguín",
      "userId": "09697151780329788960"
     },
     "user_tz": -60
    },
    "id": "ad022b32",
    "outputId": "f5030b99-53ad-410f-970f-860cf30414ff"
   },
   "outputs": [],
   "source": [
    "# If _return_attention_mask, a tuple of two lists is given (tensor_of_inputs, tensor_of_attention_masks)\n",
    "all_spans_tokenized = mlclassif_utilities.get_all_spans_tokenized(\n",
    "    mlclassif_utilities.GLB_BERT_MODEL_ID, \n",
    "    tokenizer,\n",
    "    list_all_spans,\n",
    "    _add_special_tokens = True, \n",
    "    _max_length = 512,\n",
    "    _pad_to_max_length = True,\n",
    "    _return_attention_mask = GLB_RETURN_ATTENTION_MASK, \n",
    "    type_tensors = mlclassif_utilities.GLB_PYTORCH_TENSOR_TYPE\n",
    ")"
   ]
  },
  {
   "cell_type": "code",
   "execution_count": null,
   "id": "06844291",
   "metadata": {
    "executionInfo": {
     "elapsed": 10,
     "status": "ok",
     "timestamp": 1670837739434,
     "user": {
      "displayName": "Isaac Olguín",
      "userId": "09697151780329788960"
     },
     "user_tz": -60
    },
    "id": "06844291"
   },
   "outputs": [],
   "source": [
    "input_ids = None\n",
    "attention_masks = None\n",
    "\n",
    "if GLB_RETURN_ATTENTION_MASK:\n",
    "    input_ids = mlclassif_utilities.convert_list_into_pytorch_tensor(all_spans_tokenized[0])\n",
    "    attention_masks = mlclassif_utilities.convert_list_into_pytorch_tensor(all_spans_tokenized[1])\n",
    "else:\n",
    "    input_ids = mlclassif_utilities.convert_list_into_pytorch_tensor(all_spans_tokenized)"
   ]
  },
  {
   "cell_type": "markdown",
   "id": "5208485b",
   "metadata": {
    "id": "5208485b"
   },
   "source": [
    "### Split dataset"
   ]
  },
  {
   "cell_type": "code",
   "execution_count": null,
   "id": "0407adef",
   "metadata": {
    "executionInfo": {
     "elapsed": 10,
     "status": "ok",
     "timestamp": 1670837739435,
     "user": {
      "displayName": "Isaac Olguín",
      "userId": "09697151780329788960"
     },
     "user_tz": -60
    },
    "id": "0407adef"
   },
   "outputs": [],
   "source": [
    "numeric_classes = mlclassif_utilities.convert_list_span_classes_into_numeric_values(classes_dataset, list_all_classes)\n",
    "numeric_classes = mlclassif_utilities.convert_list_labels_into_pytorch_tensor(numeric_classes)"
   ]
  },
  {
   "cell_type": "code",
   "execution_count": null,
   "id": "7b773e73",
   "metadata": {
    "colab": {
     "base_uri": "https://localhost:8080/"
    },
    "executionInfo": {
     "elapsed": 11,
     "status": "ok",
     "timestamp": 1670837739436,
     "user": {
      "displayName": "Isaac Olguín",
      "userId": "09697151780329788960"
     },
     "user_tz": -60
    },
    "id": "7b773e73",
    "outputId": "b6414556-6f58-4d6b-d66d-be45fd179ec1"
   },
   "outputs": [],
   "source": [
    "### Split dataset\n",
    "train_labels_corpus, train_input_ids, train_attention_masks, val_labels_corpus, val_input_ids, val_attention_masks, test_labels_corpus, test_input_ids, test_attention_masks = mlclassif_utilities.split_dataset_train_val_test(numeric_classes, input_ids, attention_masks)"
   ]
  },
  {
   "cell_type": "code",
   "execution_count": null,
   "id": "349ed42b",
   "metadata": {
    "executionInfo": {
     "elapsed": 9,
     "status": "ok",
     "timestamp": 1670837739436,
     "user": {
      "displayName": "Isaac Olguín",
      "userId": "09697151780329788960"
     },
     "user_tz": -60
    },
    "id": "349ed42b"
   },
   "outputs": [],
   "source": [
    "### Pending k-Fold"
   ]
  },
  {
   "cell_type": "markdown",
   "id": "f80143f0",
   "metadata": {
    "id": "f80143f0"
   },
   "source": [
    "### Create datasets and dataloaders"
   ]
  },
  {
   "cell_type": "code",
   "execution_count": null,
   "id": "418b7cec",
   "metadata": {
    "executionInfo": {
     "elapsed": 10,
     "status": "ok",
     "timestamp": 1670837739437,
     "user": {
      "displayName": "Isaac Olguín",
      "userId": "09697151780329788960"
     },
     "user_tz": -60
    },
    "id": "418b7cec"
   },
   "outputs": [],
   "source": [
    "train_dataset = mlclassif_utilities.create_tensor_dataset(train_input_ids, train_attention_masks, train_labels_corpus)\n",
    "val_dataset = mlclassif_utilities.create_tensor_dataset(val_input_ids, val_attention_masks, val_labels_corpus)\n",
    "test_dataset = mlclassif_utilities.create_tensor_dataset(test_input_ids, test_attention_masks, test_labels_corpus)\n",
    "\n",
    "train_dataloader = mlclassif_utilities.create_dataloader(train_dataset, BATCH_SIZE)\n",
    "val_dataloader = mlclassif_utilities.create_dataloader(val_dataset, BATCH_SIZE)\n",
    "test_dataloader = mlclassif_utilities.create_dataloader(test_dataset, BATCH_SIZE)"
   ]
  },
  {
   "cell_type": "markdown",
   "id": "d3947afb",
   "metadata": {
    "id": "d3947afb"
   },
   "source": [
    "### Create model"
   ]
  },
  {
   "cell_type": "code",
   "execution_count": null,
   "id": "7534847e",
   "metadata": {
    "colab": {
     "base_uri": "https://localhost:8080/",
     "height": 156,
     "referenced_widgets": [
      "6da10544db584a13b112384cdd0261a2",
      "0491270bb40f4db0893c5b17ad6b176f",
      "a85dabdbacad4667a9e8fba0e3d2e40a",
      "1e3fd7e19a8e4f68b186cbe938d35c7c",
      "5a40d210ac6b48dfbbc7990a5461da5d",
      "8c36dac4673d47b2a708a3ca6a601a77",
      "c1a3c47c0a3440a7b02d2ce8ee8b17e5",
      "51af76322fce4f66bbe7ed869a13676f",
      "57e5a911f4c74d8480e28c0e063d5ea7",
      "a7a5a596347442729f8e3989cc04c7af",
      "f7ef69cf9c9941378c9395dd5155f39d"
     ]
    },
    "executionInfo": {
     "elapsed": 15617,
     "status": "ok",
     "timestamp": 1670837755045,
     "user": {
      "displayName": "Isaac Olguín",
      "userId": "09697151780329788960"
     },
     "user_tz": -60
    },
    "id": "7534847e",
    "outputId": "0b156d6f-217f-4203-a38e-35157b50679a"
   },
   "outputs": [],
   "source": [
    "model = mlclassif_utilities.create_model(\n",
    "    mlclassif_utilities.GLB_BERT_MODEL_ID,\n",
    "    mlclassif_utilities.GLB_BERT_BASE_UNCASED_MODEL_NAME,\n",
    "    NUM_CLASSES,\n",
    "    True #RunInGPU\n",
    ")"
   ]
  },
  {
   "cell_type": "markdown",
   "id": "c81015d7",
   "metadata": {
    "id": "c81015d7"
   },
   "source": [
    "### Get optimizer and scheduler"
   ]
  },
  {
   "cell_type": "code",
   "execution_count": null,
   "id": "46db4f9d",
   "metadata": {
    "colab": {
     "base_uri": "https://localhost:8080/"
    },
    "executionInfo": {
     "elapsed": 27,
     "status": "ok",
     "timestamp": 1670837755045,
     "user": {
      "displayName": "Isaac Olguín",
      "userId": "09697151780329788960"
     },
     "user_tz": -60
    },
    "id": "46db4f9d",
    "outputId": "2b77b8d2-df07-4f28-e270-921a38536ca2"
   },
   "outputs": [],
   "source": [
    "optimizer = mlclassif_utilities.get_optimizer(model)\n",
    "scheduler = mlclassif_utilities.get_scheduler(optimizer)"
   ]
  },
  {
   "cell_type": "markdown",
   "id": "8c95c126",
   "metadata": {
    "id": "8c95c126"
   },
   "source": [
    "### Train and validate the model"
   ]
  },
  {
   "cell_type": "code",
   "execution_count": null,
   "id": "80f3b473",
   "metadata": {
    "colab": {
     "base_uri": "https://localhost:8080/"
    },
    "executionInfo": {
     "elapsed": 416007,
     "status": "ok",
     "timestamp": 1670838171028,
     "user": {
      "displayName": "Isaac Olguín",
      "userId": "09697151780329788960"
     },
     "user_tz": -60
    },
    "id": "80f3b473",
    "outputId": "c7889b25-6663-4f6a-f7a5-859955f960d3"
   },
   "outputs": [],
   "source": [
    "model, statistics_model = mlclassif_utilities.train_and_validate(model, device, EPOCHS, optimizer, scheduler, train_dataloader, val_dataloader)"
   ]
  },
  {
   "cell_type": "code",
   "execution_count": null,
   "id": "c04efafd",
   "metadata": {
    "id": "c04efafd"
   },
   "outputs": [],
   "source": [
    "mlclassif_utilities.save_json_file_statistics_model(statistics_model, PATH_DIR_LOGS)"
   ]
  },
  {
   "cell_type": "code",
   "execution_count": null,
   "id": "25ebb2cf-4490-4945-85c8-c191297aa242",
   "metadata": {},
   "outputs": [],
   "source": []
  }
 ],
 "metadata": {
  "accelerator": "GPU",
  "colab": {
   "provenance": []
  },
  "gpuClass": "standard",
  "kernelspec": {
   "display_name": "Python 3 (ipykernel)",
   "language": "python",
   "name": "python3"
  },
  "language_info": {
   "codemirror_mode": {
    "name": "ipython",
    "version": 3
   },
   "file_extension": ".py",
   "mimetype": "text/x-python",
   "name": "python",
   "nbconvert_exporter": "python",
   "pygments_lexer": "ipython3",
   "version": "3.9.13"
  },
  "widgets": {
   "application/vnd.jupyter.widget-state+json": {
    "0491270bb40f4db0893c5b17ad6b176f": {
     "model_module": "@jupyter-widgets/controls",
     "model_module_version": "1.5.0",
     "model_name": "HTMLModel",
     "state": {
      "_dom_classes": [],
      "_model_module": "@jupyter-widgets/controls",
      "_model_module_version": "1.5.0",
      "_model_name": "HTMLModel",
      "_view_count": null,
      "_view_module": "@jupyter-widgets/controls",
      "_view_module_version": "1.5.0",
      "_view_name": "HTMLView",
      "description": "",
      "description_tooltip": null,
      "layout": "IPY_MODEL_8c36dac4673d47b2a708a3ca6a601a77",
      "placeholder": "​",
      "style": "IPY_MODEL_c1a3c47c0a3440a7b02d2ce8ee8b17e5",
      "value": "Downloading: 100%"
     }
    },
    "05d6b2ce951e454d86e69114f2e05b40": {
     "model_module": "@jupyter-widgets/controls",
     "model_module_version": "1.5.0",
     "model_name": "ProgressStyleModel",
     "state": {
      "_model_module": "@jupyter-widgets/controls",
      "_model_module_version": "1.5.0",
      "_model_name": "ProgressStyleModel",
      "_view_count": null,
      "_view_module": "@jupyter-widgets/base",
      "_view_module_version": "1.2.0",
      "_view_name": "StyleView",
      "bar_color": null,
      "description_width": ""
     }
    },
    "0a00ce4806f84b35a7de56898fb07973": {
     "model_module": "@jupyter-widgets/base",
     "model_module_version": "1.2.0",
     "model_name": "LayoutModel",
     "state": {
      "_model_module": "@jupyter-widgets/base",
      "_model_module_version": "1.2.0",
      "_model_name": "LayoutModel",
      "_view_count": null,
      "_view_module": "@jupyter-widgets/base",
      "_view_module_version": "1.2.0",
      "_view_name": "LayoutView",
      "align_content": null,
      "align_items": null,
      "align_self": null,
      "border": null,
      "bottom": null,
      "display": null,
      "flex": null,
      "flex_flow": null,
      "grid_area": null,
      "grid_auto_columns": null,
      "grid_auto_flow": null,
      "grid_auto_rows": null,
      "grid_column": null,
      "grid_gap": null,
      "grid_row": null,
      "grid_template_areas": null,
      "grid_template_columns": null,
      "grid_template_rows": null,
      "height": null,
      "justify_content": null,
      "justify_items": null,
      "left": null,
      "margin": null,
      "max_height": null,
      "max_width": null,
      "min_height": null,
      "min_width": null,
      "object_fit": null,
      "object_position": null,
      "order": null,
      "overflow": null,
      "overflow_x": null,
      "overflow_y": null,
      "padding": null,
      "right": null,
      "top": null,
      "visibility": null,
      "width": null
     }
    },
    "1a03cfcf66b84409884f38e30ad30ad9": {
     "model_module": "@jupyter-widgets/controls",
     "model_module_version": "1.5.0",
     "model_name": "DescriptionStyleModel",
     "state": {
      "_model_module": "@jupyter-widgets/controls",
      "_model_module_version": "1.5.0",
      "_model_name": "DescriptionStyleModel",
      "_view_count": null,
      "_view_module": "@jupyter-widgets/base",
      "_view_module_version": "1.2.0",
      "_view_name": "StyleView",
      "description_width": ""
     }
    },
    "1e3fd7e19a8e4f68b186cbe938d35c7c": {
     "model_module": "@jupyter-widgets/controls",
     "model_module_version": "1.5.0",
     "model_name": "HTMLModel",
     "state": {
      "_dom_classes": [],
      "_model_module": "@jupyter-widgets/controls",
      "_model_module_version": "1.5.0",
      "_model_name": "HTMLModel",
      "_view_count": null,
      "_view_module": "@jupyter-widgets/controls",
      "_view_module_version": "1.5.0",
      "_view_name": "HTMLView",
      "description": "",
      "description_tooltip": null,
      "layout": "IPY_MODEL_a7a5a596347442729f8e3989cc04c7af",
      "placeholder": "​",
      "style": "IPY_MODEL_f7ef69cf9c9941378c9395dd5155f39d",
      "value": " 440M/440M [00:05&lt;00:00, 77.5MB/s]"
     }
    },
    "1ede19cdff61403580a5a9c473601d61": {
     "model_module": "@jupyter-widgets/base",
     "model_module_version": "1.2.0",
     "model_name": "LayoutModel",
     "state": {
      "_model_module": "@jupyter-widgets/base",
      "_model_module_version": "1.2.0",
      "_model_name": "LayoutModel",
      "_view_count": null,
      "_view_module": "@jupyter-widgets/base",
      "_view_module_version": "1.2.0",
      "_view_name": "LayoutView",
      "align_content": null,
      "align_items": null,
      "align_self": null,
      "border": null,
      "bottom": null,
      "display": null,
      "flex": null,
      "flex_flow": null,
      "grid_area": null,
      "grid_auto_columns": null,
      "grid_auto_flow": null,
      "grid_auto_rows": null,
      "grid_column": null,
      "grid_gap": null,
      "grid_row": null,
      "grid_template_areas": null,
      "grid_template_columns": null,
      "grid_template_rows": null,
      "height": null,
      "justify_content": null,
      "justify_items": null,
      "left": null,
      "margin": null,
      "max_height": null,
      "max_width": null,
      "min_height": null,
      "min_width": null,
      "object_fit": null,
      "object_position": null,
      "order": null,
      "overflow": null,
      "overflow_x": null,
      "overflow_y": null,
      "padding": null,
      "right": null,
      "top": null,
      "visibility": null,
      "width": null
     }
    },
    "24b7f4e9411b4933aef50924873299d5": {
     "model_module": "@jupyter-widgets/controls",
     "model_module_version": "1.5.0",
     "model_name": "FloatProgressModel",
     "state": {
      "_dom_classes": [],
      "_model_module": "@jupyter-widgets/controls",
      "_model_module_version": "1.5.0",
      "_model_name": "FloatProgressModel",
      "_view_count": null,
      "_view_module": "@jupyter-widgets/controls",
      "_view_module_version": "1.5.0",
      "_view_name": "ProgressView",
      "bar_style": "success",
      "description": "",
      "description_tooltip": null,
      "layout": "IPY_MODEL_fdecf98d2fa34798b5fad60ffd71d0ac",
      "max": 231508,
      "min": 0,
      "orientation": "horizontal",
      "style": "IPY_MODEL_05d6b2ce951e454d86e69114f2e05b40",
      "value": 231508
     }
    },
    "30563c6739dd4d54b5d85b68c2e335de": {
     "model_module": "@jupyter-widgets/controls",
     "model_module_version": "1.5.0",
     "model_name": "HTMLModel",
     "state": {
      "_dom_classes": [],
      "_model_module": "@jupyter-widgets/controls",
      "_model_module_version": "1.5.0",
      "_model_name": "HTMLModel",
      "_view_count": null,
      "_view_module": "@jupyter-widgets/controls",
      "_view_module_version": "1.5.0",
      "_view_name": "HTMLView",
      "description": "",
      "description_tooltip": null,
      "layout": "IPY_MODEL_d1206ffb9d8b4507b1ded978f041248c",
      "placeholder": "​",
      "style": "IPY_MODEL_1a03cfcf66b84409884f38e30ad30ad9",
      "value": " 232k/232k [00:00&lt;00:00, 255kB/s]"
     }
    },
    "348a4573a7054e199e2a623653e5535b": {
     "model_module": "@jupyter-widgets/controls",
     "model_module_version": "1.5.0",
     "model_name": "HTMLModel",
     "state": {
      "_dom_classes": [],
      "_model_module": "@jupyter-widgets/controls",
      "_model_module_version": "1.5.0",
      "_model_name": "HTMLModel",
      "_view_count": null,
      "_view_module": "@jupyter-widgets/controls",
      "_view_module_version": "1.5.0",
      "_view_name": "HTMLView",
      "description": "",
      "description_tooltip": null,
      "layout": "IPY_MODEL_4b363913950748b8833b88648e227127",
      "placeholder": "​",
      "style": "IPY_MODEL_7d3684748f1d4df7b6a4d396459a766d",
      "value": " 28.0/28.0 [00:00&lt;00:00, 316B/s]"
     }
    },
    "4b363913950748b8833b88648e227127": {
     "model_module": "@jupyter-widgets/base",
     "model_module_version": "1.2.0",
     "model_name": "LayoutModel",
     "state": {
      "_model_module": "@jupyter-widgets/base",
      "_model_module_version": "1.2.0",
      "_model_name": "LayoutModel",
      "_view_count": null,
      "_view_module": "@jupyter-widgets/base",
      "_view_module_version": "1.2.0",
      "_view_name": "LayoutView",
      "align_content": null,
      "align_items": null,
      "align_self": null,
      "border": null,
      "bottom": null,
      "display": null,
      "flex": null,
      "flex_flow": null,
      "grid_area": null,
      "grid_auto_columns": null,
      "grid_auto_flow": null,
      "grid_auto_rows": null,
      "grid_column": null,
      "grid_gap": null,
      "grid_row": null,
      "grid_template_areas": null,
      "grid_template_columns": null,
      "grid_template_rows": null,
      "height": null,
      "justify_content": null,
      "justify_items": null,
      "left": null,
      "margin": null,
      "max_height": null,
      "max_width": null,
      "min_height": null,
      "min_width": null,
      "object_fit": null,
      "object_position": null,
      "order": null,
      "overflow": null,
      "overflow_x": null,
      "overflow_y": null,
      "padding": null,
      "right": null,
      "top": null,
      "visibility": null,
      "width": null
     }
    },
    "51af76322fce4f66bbe7ed869a13676f": {
     "model_module": "@jupyter-widgets/base",
     "model_module_version": "1.2.0",
     "model_name": "LayoutModel",
     "state": {
      "_model_module": "@jupyter-widgets/base",
      "_model_module_version": "1.2.0",
      "_model_name": "LayoutModel",
      "_view_count": null,
      "_view_module": "@jupyter-widgets/base",
      "_view_module_version": "1.2.0",
      "_view_name": "LayoutView",
      "align_content": null,
      "align_items": null,
      "align_self": null,
      "border": null,
      "bottom": null,
      "display": null,
      "flex": null,
      "flex_flow": null,
      "grid_area": null,
      "grid_auto_columns": null,
      "grid_auto_flow": null,
      "grid_auto_rows": null,
      "grid_column": null,
      "grid_gap": null,
      "grid_row": null,
      "grid_template_areas": null,
      "grid_template_columns": null,
      "grid_template_rows": null,
      "height": null,
      "justify_content": null,
      "justify_items": null,
      "left": null,
      "margin": null,
      "max_height": null,
      "max_width": null,
      "min_height": null,
      "min_width": null,
      "object_fit": null,
      "object_position": null,
      "order": null,
      "overflow": null,
      "overflow_x": null,
      "overflow_y": null,
      "padding": null,
      "right": null,
      "top": null,
      "visibility": null,
      "width": null
     }
    },
    "579febed352f43049388645a6336cf7c": {
     "model_module": "@jupyter-widgets/controls",
     "model_module_version": "1.5.0",
     "model_name": "DescriptionStyleModel",
     "state": {
      "_model_module": "@jupyter-widgets/controls",
      "_model_module_version": "1.5.0",
      "_model_name": "DescriptionStyleModel",
      "_view_count": null,
      "_view_module": "@jupyter-widgets/base",
      "_view_module_version": "1.2.0",
      "_view_name": "StyleView",
      "description_width": ""
     }
    },
    "57e5a911f4c74d8480e28c0e063d5ea7": {
     "model_module": "@jupyter-widgets/controls",
     "model_module_version": "1.5.0",
     "model_name": "ProgressStyleModel",
     "state": {
      "_model_module": "@jupyter-widgets/controls",
      "_model_module_version": "1.5.0",
      "_model_name": "ProgressStyleModel",
      "_view_count": null,
      "_view_module": "@jupyter-widgets/base",
      "_view_module_version": "1.2.0",
      "_view_name": "StyleView",
      "bar_color": null,
      "description_width": ""
     }
    },
    "5a2e28fa3d1b4044b08fe96be120a543": {
     "model_module": "@jupyter-widgets/controls",
     "model_module_version": "1.5.0",
     "model_name": "ProgressStyleModel",
     "state": {
      "_model_module": "@jupyter-widgets/controls",
      "_model_module_version": "1.5.0",
      "_model_name": "ProgressStyleModel",
      "_view_count": null,
      "_view_module": "@jupyter-widgets/base",
      "_view_module_version": "1.2.0",
      "_view_name": "StyleView",
      "bar_color": null,
      "description_width": ""
     }
    },
    "5a40d210ac6b48dfbbc7990a5461da5d": {
     "model_module": "@jupyter-widgets/base",
     "model_module_version": "1.2.0",
     "model_name": "LayoutModel",
     "state": {
      "_model_module": "@jupyter-widgets/base",
      "_model_module_version": "1.2.0",
      "_model_name": "LayoutModel",
      "_view_count": null,
      "_view_module": "@jupyter-widgets/base",
      "_view_module_version": "1.2.0",
      "_view_name": "LayoutView",
      "align_content": null,
      "align_items": null,
      "align_self": null,
      "border": null,
      "bottom": null,
      "display": null,
      "flex": null,
      "flex_flow": null,
      "grid_area": null,
      "grid_auto_columns": null,
      "grid_auto_flow": null,
      "grid_auto_rows": null,
      "grid_column": null,
      "grid_gap": null,
      "grid_row": null,
      "grid_template_areas": null,
      "grid_template_columns": null,
      "grid_template_rows": null,
      "height": null,
      "justify_content": null,
      "justify_items": null,
      "left": null,
      "margin": null,
      "max_height": null,
      "max_width": null,
      "min_height": null,
      "min_width": null,
      "object_fit": null,
      "object_position": null,
      "order": null,
      "overflow": null,
      "overflow_x": null,
      "overflow_y": null,
      "padding": null,
      "right": null,
      "top": null,
      "visibility": null,
      "width": null
     }
    },
    "5ca715fd6c8b427194f0e7fb2666182a": {
     "model_module": "@jupyter-widgets/base",
     "model_module_version": "1.2.0",
     "model_name": "LayoutModel",
     "state": {
      "_model_module": "@jupyter-widgets/base",
      "_model_module_version": "1.2.0",
      "_model_name": "LayoutModel",
      "_view_count": null,
      "_view_module": "@jupyter-widgets/base",
      "_view_module_version": "1.2.0",
      "_view_name": "LayoutView",
      "align_content": null,
      "align_items": null,
      "align_self": null,
      "border": null,
      "bottom": null,
      "display": null,
      "flex": null,
      "flex_flow": null,
      "grid_area": null,
      "grid_auto_columns": null,
      "grid_auto_flow": null,
      "grid_auto_rows": null,
      "grid_column": null,
      "grid_gap": null,
      "grid_row": null,
      "grid_template_areas": null,
      "grid_template_columns": null,
      "grid_template_rows": null,
      "height": null,
      "justify_content": null,
      "justify_items": null,
      "left": null,
      "margin": null,
      "max_height": null,
      "max_width": null,
      "min_height": null,
      "min_width": null,
      "object_fit": null,
      "object_position": null,
      "order": null,
      "overflow": null,
      "overflow_x": null,
      "overflow_y": null,
      "padding": null,
      "right": null,
      "top": null,
      "visibility": null,
      "width": null
     }
    },
    "6436035ff6b5425aa128ff95e7d34fbc": {
     "model_module": "@jupyter-widgets/controls",
     "model_module_version": "1.5.0",
     "model_name": "HBoxModel",
     "state": {
      "_dom_classes": [],
      "_model_module": "@jupyter-widgets/controls",
      "_model_module_version": "1.5.0",
      "_model_name": "HBoxModel",
      "_view_count": null,
      "_view_module": "@jupyter-widgets/controls",
      "_view_module_version": "1.5.0",
      "_view_name": "HBoxView",
      "box_style": "",
      "children": [
       "IPY_MODEL_fe0e8e1857c74e578aee5a0486f0b218",
       "IPY_MODEL_761caac59a684129bcc8459f32534a97",
       "IPY_MODEL_348a4573a7054e199e2a623653e5535b"
      ],
      "layout": "IPY_MODEL_bfe735dbb535469aa36bfe8c3539923c"
     }
    },
    "6da10544db584a13b112384cdd0261a2": {
     "model_module": "@jupyter-widgets/controls",
     "model_module_version": "1.5.0",
     "model_name": "HBoxModel",
     "state": {
      "_dom_classes": [],
      "_model_module": "@jupyter-widgets/controls",
      "_model_module_version": "1.5.0",
      "_model_name": "HBoxModel",
      "_view_count": null,
      "_view_module": "@jupyter-widgets/controls",
      "_view_module_version": "1.5.0",
      "_view_name": "HBoxView",
      "box_style": "",
      "children": [
       "IPY_MODEL_0491270bb40f4db0893c5b17ad6b176f",
       "IPY_MODEL_a85dabdbacad4667a9e8fba0e3d2e40a",
       "IPY_MODEL_1e3fd7e19a8e4f68b186cbe938d35c7c"
      ],
      "layout": "IPY_MODEL_5a40d210ac6b48dfbbc7990a5461da5d"
     }
    },
    "761caac59a684129bcc8459f32534a97": {
     "model_module": "@jupyter-widgets/controls",
     "model_module_version": "1.5.0",
     "model_name": "FloatProgressModel",
     "state": {
      "_dom_classes": [],
      "_model_module": "@jupyter-widgets/controls",
      "_model_module_version": "1.5.0",
      "_model_name": "FloatProgressModel",
      "_view_count": null,
      "_view_module": "@jupyter-widgets/controls",
      "_view_module_version": "1.5.0",
      "_view_name": "ProgressView",
      "bar_style": "success",
      "description": "",
      "description_tooltip": null,
      "layout": "IPY_MODEL_f5a61a868f3c41a7917c9798d18b1867",
      "max": 28,
      "min": 0,
      "orientation": "horizontal",
      "style": "IPY_MODEL_5a2e28fa3d1b4044b08fe96be120a543",
      "value": 28
     }
    },
    "7cdd39490b694f0ea10f5148a2feb6a9": {
     "model_module": "@jupyter-widgets/controls",
     "model_module_version": "1.5.0",
     "model_name": "ProgressStyleModel",
     "state": {
      "_model_module": "@jupyter-widgets/controls",
      "_model_module_version": "1.5.0",
      "_model_name": "ProgressStyleModel",
      "_view_count": null,
      "_view_module": "@jupyter-widgets/base",
      "_view_module_version": "1.2.0",
      "_view_name": "StyleView",
      "bar_color": null,
      "description_width": ""
     }
    },
    "7d3684748f1d4df7b6a4d396459a766d": {
     "model_module": "@jupyter-widgets/controls",
     "model_module_version": "1.5.0",
     "model_name": "DescriptionStyleModel",
     "state": {
      "_model_module": "@jupyter-widgets/controls",
      "_model_module_version": "1.5.0",
      "_model_name": "DescriptionStyleModel",
      "_view_count": null,
      "_view_module": "@jupyter-widgets/base",
      "_view_module_version": "1.2.0",
      "_view_name": "StyleView",
      "description_width": ""
     }
    },
    "823767004b5e4e579417cfb7917e6219": {
     "model_module": "@jupyter-widgets/controls",
     "model_module_version": "1.5.0",
     "model_name": "DescriptionStyleModel",
     "state": {
      "_model_module": "@jupyter-widgets/controls",
      "_model_module_version": "1.5.0",
      "_model_name": "DescriptionStyleModel",
      "_view_count": null,
      "_view_module": "@jupyter-widgets/base",
      "_view_module_version": "1.2.0",
      "_view_name": "StyleView",
      "description_width": ""
     }
    },
    "8c36dac4673d47b2a708a3ca6a601a77": {
     "model_module": "@jupyter-widgets/base",
     "model_module_version": "1.2.0",
     "model_name": "LayoutModel",
     "state": {
      "_model_module": "@jupyter-widgets/base",
      "_model_module_version": "1.2.0",
      "_model_name": "LayoutModel",
      "_view_count": null,
      "_view_module": "@jupyter-widgets/base",
      "_view_module_version": "1.2.0",
      "_view_name": "LayoutView",
      "align_content": null,
      "align_items": null,
      "align_self": null,
      "border": null,
      "bottom": null,
      "display": null,
      "flex": null,
      "flex_flow": null,
      "grid_area": null,
      "grid_auto_columns": null,
      "grid_auto_flow": null,
      "grid_auto_rows": null,
      "grid_column": null,
      "grid_gap": null,
      "grid_row": null,
      "grid_template_areas": null,
      "grid_template_columns": null,
      "grid_template_rows": null,
      "height": null,
      "justify_content": null,
      "justify_items": null,
      "left": null,
      "margin": null,
      "max_height": null,
      "max_width": null,
      "min_height": null,
      "min_width": null,
      "object_fit": null,
      "object_position": null,
      "order": null,
      "overflow": null,
      "overflow_x": null,
      "overflow_y": null,
      "padding": null,
      "right": null,
      "top": null,
      "visibility": null,
      "width": null
     }
    },
    "8cab98ea43d845a88e62fd03b604f76d": {
     "model_module": "@jupyter-widgets/controls",
     "model_module_version": "1.5.0",
     "model_name": "DescriptionStyleModel",
     "state": {
      "_model_module": "@jupyter-widgets/controls",
      "_model_module_version": "1.5.0",
      "_model_name": "DescriptionStyleModel",
      "_view_count": null,
      "_view_module": "@jupyter-widgets/base",
      "_view_module_version": "1.2.0",
      "_view_name": "StyleView",
      "description_width": ""
     }
    },
    "9628f8e0bf674990afd8c8707add8e08": {
     "model_module": "@jupyter-widgets/controls",
     "model_module_version": "1.5.0",
     "model_name": "DescriptionStyleModel",
     "state": {
      "_model_module": "@jupyter-widgets/controls",
      "_model_module_version": "1.5.0",
      "_model_name": "DescriptionStyleModel",
      "_view_count": null,
      "_view_module": "@jupyter-widgets/base",
      "_view_module_version": "1.2.0",
      "_view_name": "StyleView",
      "description_width": ""
     }
    },
    "a7a5a596347442729f8e3989cc04c7af": {
     "model_module": "@jupyter-widgets/base",
     "model_module_version": "1.2.0",
     "model_name": "LayoutModel",
     "state": {
      "_model_module": "@jupyter-widgets/base",
      "_model_module_version": "1.2.0",
      "_model_name": "LayoutModel",
      "_view_count": null,
      "_view_module": "@jupyter-widgets/base",
      "_view_module_version": "1.2.0",
      "_view_name": "LayoutView",
      "align_content": null,
      "align_items": null,
      "align_self": null,
      "border": null,
      "bottom": null,
      "display": null,
      "flex": null,
      "flex_flow": null,
      "grid_area": null,
      "grid_auto_columns": null,
      "grid_auto_flow": null,
      "grid_auto_rows": null,
      "grid_column": null,
      "grid_gap": null,
      "grid_row": null,
      "grid_template_areas": null,
      "grid_template_columns": null,
      "grid_template_rows": null,
      "height": null,
      "justify_content": null,
      "justify_items": null,
      "left": null,
      "margin": null,
      "max_height": null,
      "max_width": null,
      "min_height": null,
      "min_width": null,
      "object_fit": null,
      "object_position": null,
      "order": null,
      "overflow": null,
      "overflow_x": null,
      "overflow_y": null,
      "padding": null,
      "right": null,
      "top": null,
      "visibility": null,
      "width": null
     }
    },
    "a85dabdbacad4667a9e8fba0e3d2e40a": {
     "model_module": "@jupyter-widgets/controls",
     "model_module_version": "1.5.0",
     "model_name": "FloatProgressModel",
     "state": {
      "_dom_classes": [],
      "_model_module": "@jupyter-widgets/controls",
      "_model_module_version": "1.5.0",
      "_model_name": "FloatProgressModel",
      "_view_count": null,
      "_view_module": "@jupyter-widgets/controls",
      "_view_module_version": "1.5.0",
      "_view_name": "ProgressView",
      "bar_style": "success",
      "description": "",
      "description_tooltip": null,
      "layout": "IPY_MODEL_51af76322fce4f66bbe7ed869a13676f",
      "max": 440473133,
      "min": 0,
      "orientation": "horizontal",
      "style": "IPY_MODEL_57e5a911f4c74d8480e28c0e063d5ea7",
      "value": 440473133
     }
    },
    "aa29969499c94f18b0499ba6b936b390": {
     "model_module": "@jupyter-widgets/base",
     "model_module_version": "1.2.0",
     "model_name": "LayoutModel",
     "state": {
      "_model_module": "@jupyter-widgets/base",
      "_model_module_version": "1.2.0",
      "_model_name": "LayoutModel",
      "_view_count": null,
      "_view_module": "@jupyter-widgets/base",
      "_view_module_version": "1.2.0",
      "_view_name": "LayoutView",
      "align_content": null,
      "align_items": null,
      "align_self": null,
      "border": null,
      "bottom": null,
      "display": null,
      "flex": null,
      "flex_flow": null,
      "grid_area": null,
      "grid_auto_columns": null,
      "grid_auto_flow": null,
      "grid_auto_rows": null,
      "grid_column": null,
      "grid_gap": null,
      "grid_row": null,
      "grid_template_areas": null,
      "grid_template_columns": null,
      "grid_template_rows": null,
      "height": null,
      "justify_content": null,
      "justify_items": null,
      "left": null,
      "margin": null,
      "max_height": null,
      "max_width": null,
      "min_height": null,
      "min_width": null,
      "object_fit": null,
      "object_position": null,
      "order": null,
      "overflow": null,
      "overflow_x": null,
      "overflow_y": null,
      "padding": null,
      "right": null,
      "top": null,
      "visibility": null,
      "width": null
     }
    },
    "af2526e6e6e74a4bbbbd75be5932232f": {
     "model_module": "@jupyter-widgets/controls",
     "model_module_version": "1.5.0",
     "model_name": "HBoxModel",
     "state": {
      "_dom_classes": [],
      "_model_module": "@jupyter-widgets/controls",
      "_model_module_version": "1.5.0",
      "_model_name": "HBoxModel",
      "_view_count": null,
      "_view_module": "@jupyter-widgets/controls",
      "_view_module_version": "1.5.0",
      "_view_name": "HBoxView",
      "box_style": "",
      "children": [
       "IPY_MODEL_cb2eada34a08401d85005e180614f58b",
       "IPY_MODEL_d1982d547b494730926286bff46fcaac",
       "IPY_MODEL_fcc34f9ad1fb40cfb98bcd8a9262d6f6"
      ],
      "layout": "IPY_MODEL_c803ec842b064c1a89fbf5f65dc3686d"
     }
    },
    "bfe735dbb535469aa36bfe8c3539923c": {
     "model_module": "@jupyter-widgets/base",
     "model_module_version": "1.2.0",
     "model_name": "LayoutModel",
     "state": {
      "_model_module": "@jupyter-widgets/base",
      "_model_module_version": "1.2.0",
      "_model_name": "LayoutModel",
      "_view_count": null,
      "_view_module": "@jupyter-widgets/base",
      "_view_module_version": "1.2.0",
      "_view_name": "LayoutView",
      "align_content": null,
      "align_items": null,
      "align_self": null,
      "border": null,
      "bottom": null,
      "display": null,
      "flex": null,
      "flex_flow": null,
      "grid_area": null,
      "grid_auto_columns": null,
      "grid_auto_flow": null,
      "grid_auto_rows": null,
      "grid_column": null,
      "grid_gap": null,
      "grid_row": null,
      "grid_template_areas": null,
      "grid_template_columns": null,
      "grid_template_rows": null,
      "height": null,
      "justify_content": null,
      "justify_items": null,
      "left": null,
      "margin": null,
      "max_height": null,
      "max_width": null,
      "min_height": null,
      "min_width": null,
      "object_fit": null,
      "object_position": null,
      "order": null,
      "overflow": null,
      "overflow_x": null,
      "overflow_y": null,
      "padding": null,
      "right": null,
      "top": null,
      "visibility": null,
      "width": null
     }
    },
    "c1a3c47c0a3440a7b02d2ce8ee8b17e5": {
     "model_module": "@jupyter-widgets/controls",
     "model_module_version": "1.5.0",
     "model_name": "DescriptionStyleModel",
     "state": {
      "_model_module": "@jupyter-widgets/controls",
      "_model_module_version": "1.5.0",
      "_model_name": "DescriptionStyleModel",
      "_view_count": null,
      "_view_module": "@jupyter-widgets/base",
      "_view_module_version": "1.2.0",
      "_view_name": "StyleView",
      "description_width": ""
     }
    },
    "c803ec842b064c1a89fbf5f65dc3686d": {
     "model_module": "@jupyter-widgets/base",
     "model_module_version": "1.2.0",
     "model_name": "LayoutModel",
     "state": {
      "_model_module": "@jupyter-widgets/base",
      "_model_module_version": "1.2.0",
      "_model_name": "LayoutModel",
      "_view_count": null,
      "_view_module": "@jupyter-widgets/base",
      "_view_module_version": "1.2.0",
      "_view_name": "LayoutView",
      "align_content": null,
      "align_items": null,
      "align_self": null,
      "border": null,
      "bottom": null,
      "display": null,
      "flex": null,
      "flex_flow": null,
      "grid_area": null,
      "grid_auto_columns": null,
      "grid_auto_flow": null,
      "grid_auto_rows": null,
      "grid_column": null,
      "grid_gap": null,
      "grid_row": null,
      "grid_template_areas": null,
      "grid_template_columns": null,
      "grid_template_rows": null,
      "height": null,
      "justify_content": null,
      "justify_items": null,
      "left": null,
      "margin": null,
      "max_height": null,
      "max_width": null,
      "min_height": null,
      "min_width": null,
      "object_fit": null,
      "object_position": null,
      "order": null,
      "overflow": null,
      "overflow_x": null,
      "overflow_y": null,
      "padding": null,
      "right": null,
      "top": null,
      "visibility": null,
      "width": null
     }
    },
    "cb2eada34a08401d85005e180614f58b": {
     "model_module": "@jupyter-widgets/controls",
     "model_module_version": "1.5.0",
     "model_name": "HTMLModel",
     "state": {
      "_dom_classes": [],
      "_model_module": "@jupyter-widgets/controls",
      "_model_module_version": "1.5.0",
      "_model_name": "HTMLModel",
      "_view_count": null,
      "_view_module": "@jupyter-widgets/controls",
      "_view_module_version": "1.5.0",
      "_view_name": "HTMLView",
      "description": "",
      "description_tooltip": null,
      "layout": "IPY_MODEL_f8f534e21948449f823765098cb0b9e6",
      "placeholder": "​",
      "style": "IPY_MODEL_579febed352f43049388645a6336cf7c",
      "value": "Downloading: 100%"
     }
    },
    "d1206ffb9d8b4507b1ded978f041248c": {
     "model_module": "@jupyter-widgets/base",
     "model_module_version": "1.2.0",
     "model_name": "LayoutModel",
     "state": {
      "_model_module": "@jupyter-widgets/base",
      "_model_module_version": "1.2.0",
      "_model_name": "LayoutModel",
      "_view_count": null,
      "_view_module": "@jupyter-widgets/base",
      "_view_module_version": "1.2.0",
      "_view_name": "LayoutView",
      "align_content": null,
      "align_items": null,
      "align_self": null,
      "border": null,
      "bottom": null,
      "display": null,
      "flex": null,
      "flex_flow": null,
      "grid_area": null,
      "grid_auto_columns": null,
      "grid_auto_flow": null,
      "grid_auto_rows": null,
      "grid_column": null,
      "grid_gap": null,
      "grid_row": null,
      "grid_template_areas": null,
      "grid_template_columns": null,
      "grid_template_rows": null,
      "height": null,
      "justify_content": null,
      "justify_items": null,
      "left": null,
      "margin": null,
      "max_height": null,
      "max_width": null,
      "min_height": null,
      "min_width": null,
      "object_fit": null,
      "object_position": null,
      "order": null,
      "overflow": null,
      "overflow_x": null,
      "overflow_y": null,
      "padding": null,
      "right": null,
      "top": null,
      "visibility": null,
      "width": null
     }
    },
    "d1982d547b494730926286bff46fcaac": {
     "model_module": "@jupyter-widgets/controls",
     "model_module_version": "1.5.0",
     "model_name": "FloatProgressModel",
     "state": {
      "_dom_classes": [],
      "_model_module": "@jupyter-widgets/controls",
      "_model_module_version": "1.5.0",
      "_model_name": "FloatProgressModel",
      "_view_count": null,
      "_view_module": "@jupyter-widgets/controls",
      "_view_module_version": "1.5.0",
      "_view_name": "ProgressView",
      "bar_style": "success",
      "description": "",
      "description_tooltip": null,
      "layout": "IPY_MODEL_f7462bdcb6874700a6f6f88330736254",
      "max": 570,
      "min": 0,
      "orientation": "horizontal",
      "style": "IPY_MODEL_7cdd39490b694f0ea10f5148a2feb6a9",
      "value": 570
     }
    },
    "e04d23dba4ae40b697ab095d206fed27": {
     "model_module": "@jupyter-widgets/controls",
     "model_module_version": "1.5.0",
     "model_name": "HBoxModel",
     "state": {
      "_dom_classes": [],
      "_model_module": "@jupyter-widgets/controls",
      "_model_module_version": "1.5.0",
      "_model_name": "HBoxModel",
      "_view_count": null,
      "_view_module": "@jupyter-widgets/controls",
      "_view_module_version": "1.5.0",
      "_view_name": "HBoxView",
      "box_style": "",
      "children": [
       "IPY_MODEL_f24a4dab9d1e474e9f08e25af25917a9",
       "IPY_MODEL_24b7f4e9411b4933aef50924873299d5",
       "IPY_MODEL_30563c6739dd4d54b5d85b68c2e335de"
      ],
      "layout": "IPY_MODEL_5ca715fd6c8b427194f0e7fb2666182a"
     }
    },
    "f24a4dab9d1e474e9f08e25af25917a9": {
     "model_module": "@jupyter-widgets/controls",
     "model_module_version": "1.5.0",
     "model_name": "HTMLModel",
     "state": {
      "_dom_classes": [],
      "_model_module": "@jupyter-widgets/controls",
      "_model_module_version": "1.5.0",
      "_model_name": "HTMLModel",
      "_view_count": null,
      "_view_module": "@jupyter-widgets/controls",
      "_view_module_version": "1.5.0",
      "_view_name": "HTMLView",
      "description": "",
      "description_tooltip": null,
      "layout": "IPY_MODEL_0a00ce4806f84b35a7de56898fb07973",
      "placeholder": "​",
      "style": "IPY_MODEL_9628f8e0bf674990afd8c8707add8e08",
      "value": "Downloading: 100%"
     }
    },
    "f5a61a868f3c41a7917c9798d18b1867": {
     "model_module": "@jupyter-widgets/base",
     "model_module_version": "1.2.0",
     "model_name": "LayoutModel",
     "state": {
      "_model_module": "@jupyter-widgets/base",
      "_model_module_version": "1.2.0",
      "_model_name": "LayoutModel",
      "_view_count": null,
      "_view_module": "@jupyter-widgets/base",
      "_view_module_version": "1.2.0",
      "_view_name": "LayoutView",
      "align_content": null,
      "align_items": null,
      "align_self": null,
      "border": null,
      "bottom": null,
      "display": null,
      "flex": null,
      "flex_flow": null,
      "grid_area": null,
      "grid_auto_columns": null,
      "grid_auto_flow": null,
      "grid_auto_rows": null,
      "grid_column": null,
      "grid_gap": null,
      "grid_row": null,
      "grid_template_areas": null,
      "grid_template_columns": null,
      "grid_template_rows": null,
      "height": null,
      "justify_content": null,
      "justify_items": null,
      "left": null,
      "margin": null,
      "max_height": null,
      "max_width": null,
      "min_height": null,
      "min_width": null,
      "object_fit": null,
      "object_position": null,
      "order": null,
      "overflow": null,
      "overflow_x": null,
      "overflow_y": null,
      "padding": null,
      "right": null,
      "top": null,
      "visibility": null,
      "width": null
     }
    },
    "f7462bdcb6874700a6f6f88330736254": {
     "model_module": "@jupyter-widgets/base",
     "model_module_version": "1.2.0",
     "model_name": "LayoutModel",
     "state": {
      "_model_module": "@jupyter-widgets/base",
      "_model_module_version": "1.2.0",
      "_model_name": "LayoutModel",
      "_view_count": null,
      "_view_module": "@jupyter-widgets/base",
      "_view_module_version": "1.2.0",
      "_view_name": "LayoutView",
      "align_content": null,
      "align_items": null,
      "align_self": null,
      "border": null,
      "bottom": null,
      "display": null,
      "flex": null,
      "flex_flow": null,
      "grid_area": null,
      "grid_auto_columns": null,
      "grid_auto_flow": null,
      "grid_auto_rows": null,
      "grid_column": null,
      "grid_gap": null,
      "grid_row": null,
      "grid_template_areas": null,
      "grid_template_columns": null,
      "grid_template_rows": null,
      "height": null,
      "justify_content": null,
      "justify_items": null,
      "left": null,
      "margin": null,
      "max_height": null,
      "max_width": null,
      "min_height": null,
      "min_width": null,
      "object_fit": null,
      "object_position": null,
      "order": null,
      "overflow": null,
      "overflow_x": null,
      "overflow_y": null,
      "padding": null,
      "right": null,
      "top": null,
      "visibility": null,
      "width": null
     }
    },
    "f7ef69cf9c9941378c9395dd5155f39d": {
     "model_module": "@jupyter-widgets/controls",
     "model_module_version": "1.5.0",
     "model_name": "DescriptionStyleModel",
     "state": {
      "_model_module": "@jupyter-widgets/controls",
      "_model_module_version": "1.5.0",
      "_model_name": "DescriptionStyleModel",
      "_view_count": null,
      "_view_module": "@jupyter-widgets/base",
      "_view_module_version": "1.2.0",
      "_view_name": "StyleView",
      "description_width": ""
     }
    },
    "f8f534e21948449f823765098cb0b9e6": {
     "model_module": "@jupyter-widgets/base",
     "model_module_version": "1.2.0",
     "model_name": "LayoutModel",
     "state": {
      "_model_module": "@jupyter-widgets/base",
      "_model_module_version": "1.2.0",
      "_model_name": "LayoutModel",
      "_view_count": null,
      "_view_module": "@jupyter-widgets/base",
      "_view_module_version": "1.2.0",
      "_view_name": "LayoutView",
      "align_content": null,
      "align_items": null,
      "align_self": null,
      "border": null,
      "bottom": null,
      "display": null,
      "flex": null,
      "flex_flow": null,
      "grid_area": null,
      "grid_auto_columns": null,
      "grid_auto_flow": null,
      "grid_auto_rows": null,
      "grid_column": null,
      "grid_gap": null,
      "grid_row": null,
      "grid_template_areas": null,
      "grid_template_columns": null,
      "grid_template_rows": null,
      "height": null,
      "justify_content": null,
      "justify_items": null,
      "left": null,
      "margin": null,
      "max_height": null,
      "max_width": null,
      "min_height": null,
      "min_width": null,
      "object_fit": null,
      "object_position": null,
      "order": null,
      "overflow": null,
      "overflow_x": null,
      "overflow_y": null,
      "padding": null,
      "right": null,
      "top": null,
      "visibility": null,
      "width": null
     }
    },
    "fcc34f9ad1fb40cfb98bcd8a9262d6f6": {
     "model_module": "@jupyter-widgets/controls",
     "model_module_version": "1.5.0",
     "model_name": "HTMLModel",
     "state": {
      "_dom_classes": [],
      "_model_module": "@jupyter-widgets/controls",
      "_model_module_version": "1.5.0",
      "_model_name": "HTMLModel",
      "_view_count": null,
      "_view_module": "@jupyter-widgets/controls",
      "_view_module_version": "1.5.0",
      "_view_name": "HTMLView",
      "description": "",
      "description_tooltip": null,
      "layout": "IPY_MODEL_1ede19cdff61403580a5a9c473601d61",
      "placeholder": "​",
      "style": "IPY_MODEL_823767004b5e4e579417cfb7917e6219",
      "value": " 570/570 [00:00&lt;00:00, 19.6kB/s]"
     }
    },
    "fdecf98d2fa34798b5fad60ffd71d0ac": {
     "model_module": "@jupyter-widgets/base",
     "model_module_version": "1.2.0",
     "model_name": "LayoutModel",
     "state": {
      "_model_module": "@jupyter-widgets/base",
      "_model_module_version": "1.2.0",
      "_model_name": "LayoutModel",
      "_view_count": null,
      "_view_module": "@jupyter-widgets/base",
      "_view_module_version": "1.2.0",
      "_view_name": "LayoutView",
      "align_content": null,
      "align_items": null,
      "align_self": null,
      "border": null,
      "bottom": null,
      "display": null,
      "flex": null,
      "flex_flow": null,
      "grid_area": null,
      "grid_auto_columns": null,
      "grid_auto_flow": null,
      "grid_auto_rows": null,
      "grid_column": null,
      "grid_gap": null,
      "grid_row": null,
      "grid_template_areas": null,
      "grid_template_columns": null,
      "grid_template_rows": null,
      "height": null,
      "justify_content": null,
      "justify_items": null,
      "left": null,
      "margin": null,
      "max_height": null,
      "max_width": null,
      "min_height": null,
      "min_width": null,
      "object_fit": null,
      "object_position": null,
      "order": null,
      "overflow": null,
      "overflow_x": null,
      "overflow_y": null,
      "padding": null,
      "right": null,
      "top": null,
      "visibility": null,
      "width": null
     }
    },
    "fe0e8e1857c74e578aee5a0486f0b218": {
     "model_module": "@jupyter-widgets/controls",
     "model_module_version": "1.5.0",
     "model_name": "HTMLModel",
     "state": {
      "_dom_classes": [],
      "_model_module": "@jupyter-widgets/controls",
      "_model_module_version": "1.5.0",
      "_model_name": "HTMLModel",
      "_view_count": null,
      "_view_module": "@jupyter-widgets/controls",
      "_view_module_version": "1.5.0",
      "_view_name": "HTMLView",
      "description": "",
      "description_tooltip": null,
      "layout": "IPY_MODEL_aa29969499c94f18b0499ba6b936b390",
      "placeholder": "​",
      "style": "IPY_MODEL_8cab98ea43d845a88e62fd03b604f76d",
      "value": "Downloading: 100%"
     }
    }
   }
  }
 },
 "nbformat": 4,
 "nbformat_minor": 5
}
