{
 "cells": [
  {
   "cell_type": "markdown",
   "id": "82f60748",
   "metadata": {},
   "source": [
    "# Binary classification (Trauma detection)"
   ]
  },
  {
   "cell_type": "markdown",
   "id": "b76364bf",
   "metadata": {},
   "source": [
    "## Imports"
   ]
  },
  {
   "cell_type": "code",
   "execution_count": 1,
   "id": "c8a36f26",
   "metadata": {},
   "outputs": [],
   "source": [
    "%load_ext autoreload\n",
    "%autoreload 2\n",
    "\n",
    "GLB_INSTALL_DEPENDENCIES = False"
   ]
  },
  {
   "cell_type": "code",
   "execution_count": 2,
   "id": "a49f8e34",
   "metadata": {},
   "outputs": [],
   "source": [
    "# Here to define dependencies\n",
    "# if GLB_INSTALL_DEPENDENCIES:"
   ]
  },
  {
   "cell_type": "code",
   "execution_count": 3,
   "id": "f2179d16",
   "metadata": {},
   "outputs": [],
   "source": [
    "import pandas as pd\n",
    "import torch\n",
    "import numpy as np\n",
    "import matplotlib.pyplot as plt\n",
    "import json\n",
    "\n",
    "import src.multi_label_classif_model_utilities as mlclassif_utilities"
   ]
  },
  {
   "cell_type": "markdown",
   "id": "0d67cd1a",
   "metadata": {},
   "source": [
    "## Globals"
   ]
  },
  {
   "cell_type": "code",
   "execution_count": 15,
   "id": "9bf97563",
   "metadata": {},
   "outputs": [],
   "source": [
    "PATH_DATASET = \"input/dataset/Dataset.xlsx\"\n",
    "PATH_DIR_LOGS = \"logs/\"\n",
    "PATH_DIR_MODELS = \"models/\"\n",
    "INDEX_COLUMNS_DATASET = 0\n",
    "LIST_NAME_COLUMNS_DATASET = [\"id_document\", \"id_annotation\", \"span\", \"role\", \"trauma\", \"court\"]\n",
    "\n",
    "GLB_RETURN_ATTENTION_MASK = True\n",
    "GLB_CROSS_VALIDATION = False\n",
    "GLB_SAVE_MODEL = False\n",
    "GLB_STORE_STATISTICS_MODEL = False\n",
    "GLB_TEST_MODEL = False\n",
    "\n",
    "# Globals for the model\n",
    "EPOCHS = 3\n",
    "EMBEDDING_SIZE = 512\n",
    "NUM_CLASSES = 2\n",
    "BATCH_SIZE = 8"
   ]
  },
  {
   "cell_type": "markdown",
   "id": "c874536b",
   "metadata": {},
   "source": [
    "## Dataset"
   ]
  },
  {
   "cell_type": "code",
   "execution_count": 7,
   "id": "ad292f28",
   "metadata": {},
   "outputs": [
    {
     "data": {
      "text/html": [
       "<div>\n",
       "<style scoped>\n",
       "    .dataframe tbody tr th:only-of-type {\n",
       "        vertical-align: middle;\n",
       "    }\n",
       "\n",
       "    .dataframe tbody tr th {\n",
       "        vertical-align: top;\n",
       "    }\n",
       "\n",
       "    .dataframe thead th {\n",
       "        text-align: right;\n",
       "    }\n",
       "</style>\n",
       "<table border=\"1\" class=\"dataframe\">\n",
       "  <thead>\n",
       "    <tr style=\"text-align: right;\">\n",
       "      <th></th>\n",
       "      <th>id_document</th>\n",
       "      <th>id_annotation</th>\n",
       "      <th>span</th>\n",
       "      <th>role</th>\n",
       "      <th>trauma</th>\n",
       "      <th>court</th>\n",
       "    </tr>\n",
       "  </thead>\n",
       "  <tbody>\n",
       "    <tr>\n",
       "      <th>0</th>\n",
       "      <td>639a477897ad59b4cfc5684f</td>\n",
       "      <td>639a486397ad59b4cfc56857</td>\n",
       "      <td>PROCEEDINGS (Court opens at 0901H)</td>\n",
       "      <td>Court Proceedings</td>\n",
       "      <td>0</td>\n",
       "      <td>ECCC</td>\n",
       "    </tr>\n",
       "    <tr>\n",
       "      <th>1</th>\n",
       "      <td>639a477897ad59b4cfc5684f</td>\n",
       "      <td>639a489f97ad59b4cfc56858</td>\n",
       "      <td>MR. PRESIDENT: Please be seated. The Court is ...</td>\n",
       "      <td>JudgeProc</td>\n",
       "      <td>0</td>\n",
       "      <td>ECCC</td>\n",
       "    </tr>\n",
       "    <tr>\n",
       "      <th>2</th>\n",
       "      <td>639a477897ad59b4cfc5684f</td>\n",
       "      <td>639a48a397ad59b4cfc56859</td>\n",
       "      <td>THE GREFFIER: Mr. President, for today's proce...</td>\n",
       "      <td>Court Proceedings</td>\n",
       "      <td>0</td>\n",
       "      <td>ECCC</td>\n",
       "    </tr>\n",
       "    <tr>\n",
       "      <th>3</th>\n",
       "      <td>639a477897ad59b4cfc5684f</td>\n",
       "      <td>639a48f197ad59b4cfc5685e</td>\n",
       "      <td>MR. PRESIDENT: And Defence Counsel for Khieu S...</td>\n",
       "      <td>JudgeProc</td>\n",
       "      <td>0</td>\n",
       "      <td>ECCC</td>\n",
       "    </tr>\n",
       "    <tr>\n",
       "      <th>4</th>\n",
       "      <td>639a477897ad59b4cfc5684f</td>\n",
       "      <td>639a491c97ad59b4cfc56861</td>\n",
       "      <td>MR. PRESIDENT: The Chamber now hands the floor...</td>\n",
       "      <td>JudgeProc</td>\n",
       "      <td>0</td>\n",
       "      <td>ECCC</td>\n",
       "    </tr>\n",
       "  </tbody>\n",
       "</table>\n",
       "</div>"
      ],
      "text/plain": [
       "                id_document             id_annotation  \\\n",
       "0  639a477897ad59b4cfc5684f  639a486397ad59b4cfc56857   \n",
       "1  639a477897ad59b4cfc5684f  639a489f97ad59b4cfc56858   \n",
       "2  639a477897ad59b4cfc5684f  639a48a397ad59b4cfc56859   \n",
       "3  639a477897ad59b4cfc5684f  639a48f197ad59b4cfc5685e   \n",
       "4  639a477897ad59b4cfc5684f  639a491c97ad59b4cfc56861   \n",
       "\n",
       "                                                span               role  \\\n",
       "0                 PROCEEDINGS (Court opens at 0901H)  Court Proceedings   \n",
       "1  MR. PRESIDENT: Please be seated. The Court is ...          JudgeProc   \n",
       "2  THE GREFFIER: Mr. President, for today's proce...  Court Proceedings   \n",
       "3  MR. PRESIDENT: And Defence Counsel for Khieu S...          JudgeProc   \n",
       "4  MR. PRESIDENT: The Chamber now hands the floor...          JudgeProc   \n",
       "\n",
       "   trauma court  \n",
       "0       0  ECCC  \n",
       "1       0  ECCC  \n",
       "2       0  ECCC  \n",
       "3       0  ECCC  \n",
       "4       0  ECCC  "
      ]
     },
     "execution_count": 7,
     "metadata": {},
     "output_type": "execute_result"
    }
   ],
   "source": [
    "df_dataset = mlclassif_utilities.import_dataset_from_excel(PATH_DATASET, INDEX_COLUMNS_DATASET, LIST_NAME_COLUMNS_DATASET)\n",
    "df_dataset.head()"
   ]
  },
  {
   "cell_type": "code",
   "execution_count": 8,
   "id": "9f80de37",
   "metadata": {},
   "outputs": [
    {
     "name": "stdout",
     "output_type": "stream",
     "text": [
      "Num of different traumas in the dataset is 1 which are:\n",
      "\t 1 - 0\n"
     ]
    }
   ],
   "source": [
    "classes_dataset = mlclassif_utilities.get_unique_values_from_dataset(df_dataset, \"trauma\")\n",
    "print(f\"Num of different traumas in the dataset is {len(classes_dataset)} which are:\")\n",
    "for index, elem in enumerate(classes_dataset):\n",
    "    print(\"\\t\", index+1, \"-\", elem)"
   ]
  },
  {
   "cell_type": "markdown",
   "id": "f6af45b0",
   "metadata": {},
   "source": [
    "### Distribution of all classes within the dataset"
   ]
  },
  {
   "cell_type": "code",
   "execution_count": 10,
   "id": "0ea58873",
   "metadata": {},
   "outputs": [
    {
     "data": {
      "image/png": "[encoded data removed]",
      "text/plain": [
       "<Figure size 432x288 with 1 Axes>"
      ]
     },
     "metadata": {},
     "output_type": "display_data"
    },
    {
     "data": {
      "text/html": [
       "<div>\n",
       "<style scoped>\n",
       "    .dataframe tbody tr th:only-of-type {\n",
       "        vertical-align: middle;\n",
       "    }\n",
       "\n",
       "    .dataframe tbody tr th {\n",
       "        vertical-align: top;\n",
       "    }\n",
       "\n",
       "    .dataframe thead th {\n",
       "        text-align: right;\n",
       "    }\n",
       "</style>\n",
       "<table border=\"1\" class=\"dataframe\">\n",
       "  <thead>\n",
       "    <tr style=\"text-align: right;\">\n",
       "      <th></th>\n",
       "      <th>trauma</th>\n",
       "      <th>span</th>\n",
       "    </tr>\n",
       "  </thead>\n",
       "  <tbody>\n",
       "    <tr>\n",
       "      <th>0</th>\n",
       "      <td>0</td>\n",
       "      <td>2020</td>\n",
       "    </tr>\n",
       "  </tbody>\n",
       "</table>\n",
       "</div>"
      ],
      "text/plain": [
       "   trauma  span\n",
       "0       0  2020"
      ]
     },
     "execution_count": 10,
     "metadata": {},
     "output_type": "execute_result"
    }
   ],
   "source": [
    "distribution_classes = mlclassif_utilities.get_distribution_classes_from_dataset(df_dataset, [\"trauma\"], \"span\")\n",
    "\n",
    "labels = list(distribution_classes[\"trauma\"])\n",
    "sizes = list(distribution_classes[\"span\"])\n",
    "\n",
    "fig1, ax1 = plt.subplots()\n",
    "ax1.set_title(f'Distribution of classes in the dataset with a total number of {distribution_classes[\"span\"].sum()} spans')\n",
    "ax1.pie(sizes, labels=labels, autopct='%2.1f%%', shadow=True, startangle=0) #'%1.1f%%'\n",
    "ax1.axis('equal')  # Equal aspect ratio ensures that pie is drawn as a circle.\n",
    "\n",
    "plt.show()\n",
    "\n",
    "distribution_classes"
   ]
  },
  {
   "cell_type": "markdown",
   "id": "be2fd792",
   "metadata": {},
   "source": [
    "## Setup"
   ]
  },
  {
   "cell_type": "markdown",
   "id": "9ff030b8",
   "metadata": {},
   "source": [
    "### Device\n",
    "\n",
    "Get the GPU device if exists, otherwise get the cpu as default dev."
   ]
  },
  {
   "cell_type": "code",
   "execution_count": 11,
   "id": "0092d9e2",
   "metadata": {},
   "outputs": [
    {
     "name": "stdout",
     "output_type": "stream",
     "text": [
      "There are 1 GPU(s) available.\n",
      "\n",
      "These are the available devices:\n",
      "\t 1 - NVIDIA GeForce GTX 1660 Ti\n",
      "\n",
      "\n",
      "==> Selected device is 'cuda' <==\n"
     ]
    }
   ],
   "source": [
    "device = mlclassif_utilities.get_gpu_device_if_exists()\n",
    "\n",
    "print(f\"\\n\\n==> Selected device is '{device}' <==\")"
   ]
  },
  {
   "cell_type": "markdown",
   "id": "aaed2784",
   "metadata": {},
   "source": [
    "## Model"
   ]
  },
  {
   "cell_type": "markdown",
   "id": "cdd6018d",
   "metadata": {},
   "source": [
    "### Tokenizer"
   ]
  },
  {
   "cell_type": "code",
   "execution_count": 12,
   "id": "9e414bb4",
   "metadata": {},
   "outputs": [
    {
     "name": "stdout",
     "output_type": "stream",
     "text": [
      "Loading BERT tokenizer...\n",
      "Bert tokenizer was loaded successfully (bert-base-uncased) \n",
      "\t do_lower_case=True\n"
     ]
    }
   ],
   "source": [
    "#If no parameters are sent, default values are considered. \n",
    "#    IDModel:      Bert\n",
    "#    Model namel:  bert-base-uncased\n",
    "#    Do uncase:    True\n",
    "\n",
    "tokenizer = mlclassif_utilities.get_tokenizer() "
   ]
  },
  {
   "cell_type": "code",
   "execution_count": 13,
   "id": "355bb380",
   "metadata": {},
   "outputs": [],
   "source": [
    "list_all_spans = list(df_dataset[\"span\"])\n",
    "list_all_classes = list(df_dataset[\"trauma\"])"
   ]
  },
  {
   "cell_type": "markdown",
   "id": "1c0510c7",
   "metadata": {},
   "source": [
    "### Max length of a sentence among all sentences within the dataset"
   ]
  },
  {
   "cell_type": "code",
   "execution_count": 14,
   "id": "16ac2623",
   "metadata": {},
   "outputs": [
    {
     "name": "stdout",
     "output_type": "stream",
     "text": [
      "Max sentence length:  297 found at index 467 . Sentence is:\n",
      "\n",
      "\n",
      " This witness could come into the Court today and the Prosecution could put its 11 or 15 statements that this witness has made into the witness's hands; we could start at page 1 and work our way through it.  What would be the difference in doing that?  That is not the practice in this Tribunal.  This witness has come to give oral testimony.  If there is, in fact, a document that this witness can have access to, to refresh his memory, then, first of all, it depends on the nature of the document.  One has to stress caution if it's his own statement and one should, in one's submission, only permit that exercise to take place when, in fact, the statement that is made is sufficiently contemporaneous with the facts that it relates to as to minimise inaccuracies and ensure, as it were, a relative degree of validity because of its contemporaneous nature. In fact, that is an exception to the rule whereby statements cannot be put in the hands of witnesses who are the makers of those statements. So it's quite an important principle, and I've said if there is any jurisdiction that I'm unaware of -- and I've been here a lot less time than my learned friend -- then let him refer us to it.  We can't just make casual and generalised comments and pass those off as, in fact, jurisdiction practice. Thank you, Madam President. \n",
      "\n",
      "\n",
      "\n"
     ]
    },
    {
     "data": {
      "text/plain": [
       "297"
      ]
     },
     "execution_count": 14,
     "metadata": {},
     "output_type": "execute_result"
    }
   ],
   "source": [
    "mlclassif_utilities.get_max_length_of_a_sentence_among_all_sentences(tokenizer, list_all_spans, False)"
   ]
  },
  {
   "cell_type": "markdown",
   "id": "5ab1df1a",
   "metadata": {},
   "source": [
    "### Tokenize sentences"
   ]
  },
  {
   "cell_type": "code",
   "execution_count": 16,
   "id": "37bf2aff",
   "metadata": {},
   "outputs": [
    {
     "name": "stderr",
     "output_type": "stream",
     "text": [
      "Truncation was not explicitly activated but `max_length` is provided a specific value, please use `truncation=True` to explicitly truncate examples to max length. Defaulting to 'longest_first' truncation strategy. If you encode pairs of sequences (GLUE-style) with the tokenizer you can select this strategy more precisely by providing a specific strategy to `truncation`.\n",
      "/home/iolguin/.local/lib/python3.8/site-packages/transformers/tokenization_utils_base.py:2285: FutureWarning: The `pad_to_max_length` argument is deprecated and will be removed in a future version, use `padding=True` or `padding='longest'` to pad to the longest sequence in the batch, or use `padding='max_length'` to pad to a max length. In this case, you can give a specific length with `max_length` (e.g. `max_length=45`) or leave max_length to None to pad to the maximal input size of the model (e.g. 512 for Bert).\n",
      "  warnings.warn(\n"
     ]
    }
   ],
   "source": [
    "# If _return_attention_mask, a tuple of two lists is given (tensor_of_inputs, tensor_of_attention_masks)\n",
    "all_spans_tokenized = mlclassif_utilities.get_all_spans_tokenized(\n",
    "    mlclassif_utilities.GLB_BERT_MODEL_ID, \n",
    "    tokenizer,\n",
    "    list_all_spans,\n",
    "    _add_special_tokens = True, \n",
    "    _max_length = 512,\n",
    "    _pad_to_max_length = True,\n",
    "    _return_attention_mask = GLB_RETURN_ATTENTION_MASK, \n",
    "    type_tensors = mlclassif_utilities.GLB_PYTORCH_TENSOR_TYPE\n",
    ")"
   ]
  },
  {
   "cell_type": "code",
   "execution_count": 17,
   "id": "fb85f93f",
   "metadata": {},
   "outputs": [],
   "source": [
    "input_ids = None\n",
    "attention_masks = None\n",
    "\n",
    "if GLB_RETURN_ATTENTION_MASK:\n",
    "    input_ids = mlclassif_utilities.convert_list_into_pytorch_tensor(all_spans_tokenized[0])\n",
    "    attention_masks = mlclassif_utilities.convert_list_into_pytorch_tensor(all_spans_tokenized[1])\n",
    "else:\n",
    "    input_ids = mlclassif_utilities.convert_list_into_pytorch_tensor(all_spans_tokenized)"
   ]
  },
  {
   "cell_type": "markdown",
   "id": "5038be47",
   "metadata": {},
   "source": [
    "### Split dataset"
   ]
  },
  {
   "cell_type": "code",
   "execution_count": 18,
   "id": "b0a1e2a1",
   "metadata": {},
   "outputs": [],
   "source": [
    "numeric_classes = mlclassif_utilities.convert_list_span_classes_into_numeric_values(classes_dataset, list_all_classes)\n",
    "numeric_classes = mlclassif_utilities.convert_list_labels_into_pytorch_tensor(numeric_classes)"
   ]
  },
  {
   "cell_type": "code",
   "execution_count": 19,
   "id": "d0fade7c",
   "metadata": {},
   "outputs": [
    {
     "name": "stdout",
     "output_type": "stream",
     "text": [
      "CORPUS TRAINING AND VALIDATION:  \n",
      "\t Length labels 1919 \n",
      "\t Length input_ids 1919 \n",
      "\t Length attention_masks 1919 \n",
      "\n",
      "\tCORPUS TRAINING:  \n",
      "\t\t Length labels 1727 \n",
      "\t\t Length input_ids 1727 \n",
      "\t\t Length attention_masks 1727\n",
      "\tCORPUS VALIDATION:  \n",
      "\t\t Length labels 192 \n",
      "\t\t Length input_ids 192 \n",
      "\t\t Length attention_masks 192\n",
      "\n",
      "CORPUS TEST:  \n",
      "\t Length labels 101 \n",
      "\t Length input_ids 101 \n",
      "\t Length attention_masks 101 \n",
      "\n"
     ]
    }
   ],
   "source": [
    "### Split dataset\n",
    "if not GLB_CROSS_VALIDATION:\n",
    "    train_labels_corpus, train_input_ids, train_attention_masks, val_labels_corpus, val_input_ids, val_attention_masks, test_labels_corpus, test_input_ids, test_attention_masks = mlclassif_utilities.split_dataset_train_val_test(numeric_classes, input_ids, attention_masks)\n",
    "else:\n",
    "    ### Pending k-Fold\n",
    "    train_val_corpus_cross_validation, test_corpus_cross_validation = mlclassif_utilities.split_dataset_train_val_test_k_fold(numeric_classes, input_ids, attention_masks, 0.1)\n",
    "\n",
    "    #test_labels_corpus, test_input_ids, test_attention_masks = \n",
    "    #train_labels_corpus, train_input_ids, train_attention_masks, val_labels_corpus, val_input_ids, val_attention_masks,"
   ]
  },
  {
   "cell_type": "markdown",
   "id": "f815b4fb",
   "metadata": {},
   "source": [
    "### Create datasets and dataloaders"
   ]
  },
  {
   "cell_type": "code",
   "execution_count": 21,
   "id": "fc5768b9",
   "metadata": {},
   "outputs": [],
   "source": [
    "train_dataset = mlclassif_utilities.create_tensor_dataset(train_input_ids, train_attention_masks, train_labels_corpus)\n",
    "val_dataset = mlclassif_utilities.create_tensor_dataset(val_input_ids, val_attention_masks, val_labels_corpus)\n",
    "test_dataset = mlclassif_utilities.create_tensor_dataset(test_input_ids, test_attention_masks, test_labels_corpus)\n",
    "\n",
    "train_dataloader = mlclassif_utilities.create_dataloader(train_dataset, BATCH_SIZE)\n",
    "val_dataloader = mlclassif_utilities.create_dataloader(val_dataset, BATCH_SIZE)\n",
    "test_dataloader = mlclassif_utilities.create_dataloader(test_dataset, BATCH_SIZE)"
   ]
  },
  {
   "cell_type": "markdown",
   "id": "b9e6a9f7",
   "metadata": {},
   "source": [
    "### Create model"
   ]
  },
  {
   "cell_type": "code",
   "execution_count": 22,
   "id": "4c6da6a6",
   "metadata": {},
   "outputs": [
    {
     "name": "stderr",
     "output_type": "stream",
     "text": [
      "Some weights of the model checkpoint at bert-base-uncased were not used when initializing BertForSequenceClassification: ['cls.predictions.bias', 'cls.predictions.transform.dense.bias', 'cls.seq_relationship.bias', 'cls.predictions.transform.LayerNorm.bias', 'cls.seq_relationship.weight', 'cls.predictions.decoder.weight', 'cls.predictions.transform.dense.weight', 'cls.predictions.transform.LayerNorm.weight']\n",
      "- This IS expected if you are initializing BertForSequenceClassification from the checkpoint of a model trained on another task or with another architecture (e.g. initializing a BertForSequenceClassification model from a BertForPreTraining model).\n",
      "- This IS NOT expected if you are initializing BertForSequenceClassification from the checkpoint of a model that you expect to be exactly identical (initializing a BertForSequenceClassification model from a BertForSequenceClassification model).\n",
      "Some weights of BertForSequenceClassification were not initialized from the model checkpoint at bert-base-uncased and are newly initialized: ['classifier.bias', 'classifier.weight']\n",
      "You should probably TRAIN this model on a down-stream task to be able to use it for predictions and inference.\n"
     ]
    }
   ],
   "source": [
    "model = mlclassif_utilities.create_model(\n",
    "    mlclassif_utilities.GLB_BERT_MODEL_ID,\n",
    "    mlclassif_utilities.GLB_BERT_BASE_UNCASED_MODEL_NAME,\n",
    "    NUM_CLASSES,\n",
    "    True #RunInGPU\n",
    ")"
   ]
  },
  {
   "cell_type": "markdown",
   "id": "70912f68",
   "metadata": {},
   "source": [
    "### Get optimizer and scheduler"
   ]
  },
  {
   "cell_type": "code",
   "execution_count": null,
   "id": "6983aa9f",
   "metadata": {},
   "outputs": [],
   "source": []
  }
 ],
 "metadata": {
  "kernelspec": {
   "display_name": "Python 3 (ipykernel)",
   "language": "python",
   "name": "python3"
  },
  "language_info": {
   "codemirror_mode": {
    "name": "ipython",
    "version": 3
   },
   "file_extension": ".py",
   "mimetype": "text/x-python",
   "name": "python",
   "nbconvert_exporter": "python",
   "pygments_lexer": "ipython3",
   "version": "3.8.10"
  }
 },
 "nbformat": 4,
 "nbformat_minor": 5
}
