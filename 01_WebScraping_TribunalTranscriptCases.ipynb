{
 "cells": [
  {
   "cell_type": "markdown",
   "id": "8431a9ca",
   "metadata": {},
   "source": [
    "# WebScraping of tribunal transcript cases\n",
    "\n",
    "This notebook aims to show the functionality for cleaning transcripts of cases through web scraping.\n",
    "\n",
    "Following the general ethical guidelines when using WebScraping, it was retrieved the permission on the three tribunals:\n",
    "- [International criminal tribunal for the former Yugoslavia](https://www.icty.org/), permission can be fetched [here](https://www.icty.org/robots.txt)"
   ]
  },
  {
   "cell_type": "markdown",
   "id": "be1c09c8",
   "metadata": {},
   "source": [
    "### Imports"
   ]
  },
  {
   "cell_type": "code",
   "execution_count": 5,
   "id": "ebc35450",
   "metadata": {},
   "outputs": [
    {
     "name": "stdout",
     "output_type": "stream",
     "text": [
      "The autoreload extension is already loaded. To reload it, use:\n",
      "  %reload_ext autoreload\n"
     ]
    }
   ],
   "source": [
    "%load_ext autoreload\n",
    "%autoreload 2\n",
    "\n",
    "import requests\n",
    "from bs4 import BeautifulSoup\n",
    "from os import listdir\n",
    "from os.path import isfile, join\n",
    "\n",
    "import src.cleaning_transcripts as cleaning_transc"
   ]
  },
  {
   "cell_type": "markdown",
   "id": "850beb2f",
   "metadata": {},
   "source": [
    "### Globals"
   ]
  },
  {
   "cell_type": "code",
   "execution_count": 6,
   "id": "f8373c0a",
   "metadata": {},
   "outputs": [],
   "source": [
    "GLB_FILE_ENCODING_UTF8 = \"utf8\"\n",
    "GLB_FILE_WRITE_OP = \"w\"\n",
    "GLB_HTML_P_TAG = \"p\"\n",
    "GLB_HTML_PARSER = \"html.parser\"\n",
    "\n",
    "GLB_PATH_OUTPUT_DIRECTORY_ICTY = \"output/clean_transcripts/icty\"\n",
    "GLB_EXTENSION_TXT = \".txt\"\n",
    "\n",
    "GLB_CHAR_NEWLINE = \"\\n\"\n",
    "\n",
    "GLB_COURT_PREFIX_FILE_ICTY = \"ICTY_\"\n",
    "\n",
    "DEBUG = False"
   ]
  },
  {
   "cell_type": "markdown",
   "id": "0e78f729",
   "metadata": {},
   "source": [
    "## International criminal tribunal for the former Yugoslavia"
   ]
  },
  {
   "cell_type": "code",
   "execution_count": 8,
   "id": "861b6554",
   "metadata": {},
   "outputs": [],
   "source": [
    "transcript_icty_case_url = \"https://www.icty.org/x/cases/tadic/trans/en/960719ed.htm\""
   ]
  },
  {
   "cell_type": "code",
   "execution_count": 9,
   "id": "d359e745",
   "metadata": {},
   "outputs": [],
   "source": [
    "if DEBUG:\n",
    "    # Extracting information from the \"International criminal tribunal for the former Yugoslavia\"\n",
    "    response = requests.get(transcript_icty_case_url)\n",
    "    \n",
    "    # Get just the content of the page\n",
    "    #response.__dict__[\"_content\"]\n",
    "\n",
    "    content_soup = BeautifulSoup(response.content, \"html.parser\")\n",
    "\n",
    "    # Print in text content in html format\n",
    "    #print(content_soup.prettify())\n",
    "\n",
    "    # Get list of paragraphs (this is how the information is retrieved)\n",
    "    list_p = list()\n",
    "    for p in content_soup.find_all(\"p\"):\n",
    "        list_p.append(p)\n",
    "    print(f'Number of retrieved paragraphs of transcript {transcript_icty_case_url} is {len(list_p)}')\n",
    "\n",
    "    counter = 0\n",
    "    for paragraph in list_p:\n",
    "        clean_paragraph = cleaning_transc.cleanParagraphsICFYtranscript(str(paragraph))\n",
    "        if clean_paragraph != cleaning_transc.GLB_EMPTY_STRING:\n",
    "            counter+=1\n",
    "            print(clean_paragraph)"
   ]
  },
  {
   "cell_type": "markdown",
   "id": "3e93a403",
   "metadata": {},
   "source": [
    "#### Generate document"
   ]
  },
  {
   "cell_type": "code",
   "execution_count": 10,
   "id": "24dc2943",
   "metadata": {},
   "outputs": [
    {
     "name": "stdout",
     "output_type": "stream",
     "text": [
      "1) Number of retrieved paragraphs of transcript https://www.icty.org/x/cases/tadic/trans/en/960719ed.htm is 2756 was reduced to 2486\n"
     ]
    }
   ],
   "source": [
    "list_url_cases_icty = [transcript_icty_case_url]\n",
    "\n",
    "for index_case, url_html_case in enumerate(list_url_cases_icty):\n",
    "    response = requests.get(url_html_case)\n",
    "    \n",
    "    content_soup = BeautifulSoup(response.content, GLB_HTML_PARSER)\n",
    "    \n",
    "    list_p = list()\n",
    "    for p in content_soup.find_all(GLB_HTML_P_TAG):\n",
    "        list_p.append(p)\n",
    "        \n",
    "    counter = 0\n",
    "    id_case = url_html_case[url_html_case.rindex(\"/\")+1: url_html_case.rindex(\".\")]\n",
    "    f = open(join(GLB_PATH_OUTPUT_DIRECTORY_ICTY, GLB_COURT_PREFIX_FILE_ICTY + id_case + GLB_EXTENSION_TXT), GLB_FILE_WRITE_OP, encoding=GLB_FILE_ENCODING_UTF8)\n",
    "    for paragraph in list_p:\n",
    "        clean_paragraph = cleaning_transc.cleanParagraphsICFYtranscript(str(paragraph))\n",
    "        if clean_paragraph != cleaning_transc.GLB_EMPTY_STRING:\n",
    "            counter+=1\n",
    "            f.write(clean_paragraph + GLB_CHAR_NEWLINE)\n",
    "    f.close()\n",
    "        \n",
    "    print(f'{index_case+1}) Number of retrieved paragraphs of transcript {transcript_icty_case_url} is {len(list_p)} was reduced to {counter}')\n",
    "    "
   ]
  },
  {
   "cell_type": "code",
   "execution_count": null,
   "id": "51f72d67",
   "metadata": {},
   "outputs": [],
   "source": []
  }
 ],
 "metadata": {
  "kernelspec": {
   "display_name": "Python 3 (ipykernel)",
   "language": "python",
   "name": "python3"
  },
  "language_info": {
   "codemirror_mode": {
    "name": "ipython",
    "version": 3
   },
   "file_extension": ".py",
   "mimetype": "text/x-python",
   "name": "python",
   "nbconvert_exporter": "python",
   "pygments_lexer": "ipython3",
   "version": "3.8.10"
  }
 },
 "nbformat": 4,
 "nbformat_minor": 5
}
