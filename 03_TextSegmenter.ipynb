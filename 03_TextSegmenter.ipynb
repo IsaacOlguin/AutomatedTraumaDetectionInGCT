{
 "cells": [
  {
   "cell_type": "code",
   "execution_count": 4,
   "id": "98142d25",
   "metadata": {},
   "outputs": [],
   "source": [
    "# Imports\n",
    "from os import listdir\n",
    "from os.path import isfile, join\n",
    "import nltk\n",
    "from nltk.corpus import words\n",
    "from nltk.tokenize import RegexpTokenizer\n",
    "import string\n",
    "\n",
    "import stanza"
   ]
  },
  {
   "cell_type": "code",
   "execution_count": 36,
   "id": "71a6433a",
   "metadata": {
    "scrolled": true
   },
   "outputs": [
    {
     "name": "stdout",
     "output_type": "stream",
     "text": [
      "Defaulting to user installation because normal site-packages is not writeable\n",
      "Looking in indexes: https://pypi.org/simple, https://packagecloud.io/github/git-lfs/pypi/simple\n",
      "Collecting sklearn-crfsuite\n",
      "  Downloading sklearn_crfsuite-0.3.6-py2.py3-none-any.whl (12 kB)\n",
      "Collecting tabulate\n",
      "  Downloading tabulate-0.9.0-py3-none-any.whl (35 kB)\n",
      "Requirement already satisfied: tqdm>=2.0 in /home/iolguin/.local/lib/python3.8/site-packages (from sklearn-crfsuite) (4.64.0)\n",
      "Collecting python-crfsuite>=0.8.3\n",
      "  Downloading python_crfsuite-0.9.8-cp38-cp38-manylinux_2_17_x86_64.manylinux2014_x86_64.whl (1.0 MB)\n",
      "\u001b[2K     \u001b[38;2;114;156;31m━━━━━━━━━━━━━━━━━━━━━━━━━━━━━━━━━━━━━━━━\u001b[0m \u001b[32m1.0/1.0 MB\u001b[0m \u001b[31m7.9 MB/s\u001b[0m eta \u001b[36m0:00:00\u001b[0m0m eta \u001b[36m0:00:01\u001b[0m0:01\u001b[0m:01\u001b[0m\n",
      "\u001b[?25hRequirement already satisfied: six in /usr/lib/python3/dist-packages (from sklearn-crfsuite) (1.14.0)\n",
      "Installing collected packages: python-crfsuite, tabulate, sklearn-crfsuite\n",
      "Successfully installed python-crfsuite-0.9.8 sklearn-crfsuite-0.3.6 tabulate-0.9.0\n"
     ]
    }
   ],
   "source": [
    "\"\"\"\n",
    "import sys  \n",
    "!{sys.executable} -m pip install stanza\n",
    "!{sys.executable} -m pip install ersatz\n",
    "\n",
    "!{sys.executable} -m pip install -U pip setuptools wheel\n",
    "!{sys.executable} -m pip install -U spacy\n",
    "!{sys.executable} -m python3 -m spacy download en_core_web_sm\n",
    "\"\"\"\n",
    "!{sys.executable} -m pip install sklearn-crfsuite"
   ]
  },
  {
   "cell_type": "code",
   "execution_count": 7,
   "id": "93e9667f",
   "metadata": {},
   "outputs": [],
   "source": [
    "path_dir_txt_files = \"data/example/\"\n",
    "path_dir_stat_data = \"statistics_data/\"\n",
    "\n",
    "tokenizer = RegexpTokenizer(r'\\w+')\n",
    "info_files = []"
   ]
  },
  {
   "cell_type": "code",
   "execution_count": 8,
   "id": "ba6c5417",
   "metadata": {},
   "outputs": [],
   "source": [
    "file = \"example.txt\"\n",
    "\n",
    "f = open(path_dir_txt_files + file, \"r\", encoding=\"latin1\")#, encoding=\"utf8\")\n",
    "content = f.read()"
   ]
  },
  {
   "cell_type": "code",
   "execution_count": 9,
   "id": "656007c2",
   "metadata": {},
   "outputs": [
    {
     "name": "stdout",
     "output_type": "stream",
     "text": [
      "2479\n"
     ]
    }
   ],
   "source": [
    "print(len(content))"
   ]
  },
  {
   "cell_type": "code",
   "execution_count": 10,
   "id": "f2796457",
   "metadata": {},
   "outputs": [
    {
     "data": {
      "text/plain": [
       "'JUDGE ROBINSON:  My monitor isn\\'t working, but we can proceed.\\nMr. Kay, do you remember at the last session Mr. Milosevic was\\nseeking to lead through this witness evidence which he said would\\ndiscredit Prosecution witnesses Dulovic and Anastasijevic insofar as it\\nwould show discrepancies between the evidence that they had given in a\\nspecial court in Belgrade.\\nTHE WITNESS: [Interpretation] I can barely hear this.  The volume\\nis down.  I can barely hear the interpretation.\\nJUDGE ROBINSON:  Yes, it\\'s better now.  Yes.\\nTHE WITNESS: [Interpretation] It\\'s not better.  It\\'s not better.\\n[In English] You can try it.\\nJUDGE ROBINSON:  Is it any better, Mr. --\\nTHE WITNESS: [Interpretation] Yes, now it is better.\\nJUDGE ROBINSON:  Okay.  Yes, we\\'ll proceed.\\nI was recalling for Mr. Kay\\'s benefit, and Mr. Milosevic\\'s, the\\nevidence which Mr. Milosevic sought to lead through this witness of what\\nhe said were discrepancies between Prosecution witnesses Dulovic and\\nAnastasijevic\\'s evidence given in this court and evidence which they gave\\nin a special court in Belgrade.  I had indicated to him that there are\\nother ways of introducing that evidence which he felt was important to his\\ncase, and I\\'m going to ask the assigned counsel to investigate this\\nmatter, to get hold of the transcript, and I would leave it to their\\ndiscretion to -- whether to seek to lead that evidence through whatever\\nmeans is appropriate.\\nMR. KAY:  Thank you, Your Honour.\\nTHE INTERPRETER:  Microphone please for Mr. Kay.\\nMR. KAY:  It seemed to us on Friday whether we discussed this\\nissue, Ms. Higgins and myself, that the obvious way forward was to have\\nthe original transcripts of the hearing set against the evidence that was\\ngiven here so that the issues of the discrepancies can be seen from the\\nprimary material.\\nJUDGE ROBINSON:  Yes.  Yes.  I would not want this evidence to be\\nlost to the accused, and that is why I\\'m asking assigned counsel to\\ninvestigate the matter.\\nMR. KAY:  We will.\\nJUDGE ROBINSON:  Thanks.\\nYes, Mr. Milosevic.\\nWITNESS:  VOJISLAV SESELJ [Resumed]\\n[Witness answered through interpreter]\\nExamined by Mr. Milosevic:  [Continued]\\nQ.   [Interpretation] Mr. Seselj, at the end of the last day I put some\\nquestions to you that had to do with paragraph 28 of the Bosnian\\nindictment, that have to do with the \"Rump Presidency\" as it\\'s called\\nhere.  You have partly answered that.  It says:  \"The Rump Presidency\\ncarried out Slobodan Milosevic\\'s policies,\" and so on and so forth, \"had\\n'"
      ]
     },
     "execution_count": 10,
     "metadata": {},
     "output_type": "execute_result"
    }
   ],
   "source": [
    "content"
   ]
  },
  {
   "cell_type": "code",
   "execution_count": 14,
   "id": "043006e3",
   "metadata": {},
   "outputs": [
    {
     "name": "stdout",
     "output_type": "stream",
     "text": [
      "30\n"
     ]
    }
   ],
   "source": [
    "from spacy.lang.en import English\n",
    "\n",
    "nlp = English()\n",
    "nlp.add_pipe(\"sentencizer\")\n",
    "doc = nlp(content) #(\"This is a sentence. This is another sentence.\")\n",
    "print(len(list(doc.sents)))"
   ]
  },
  {
   "cell_type": "code",
   "execution_count": 15,
   "id": "f938fa21",
   "metadata": {},
   "outputs": [
    {
     "name": "stdout",
     "output_type": "stream",
     "text": [
      "<<JUDGE ROBINSON:  My monitor isn't working, but we can proceed.>>\n",
      "<<\n",
      "Mr. Kay, do you remember at the last session Mr. Milosevic was\n",
      "seeking to lead through this witness evidence which he said would\n",
      "discredit Prosecution witnesses Dulovic and Anastasijevic insofar as it\n",
      "would show discrepancies between the evidence that they had given in a\n",
      "special court in Belgrade.>>\n",
      "<<\n",
      "THE WITNESS: [Interpretation] I can barely hear this.>>\n",
      "<< The volume\n",
      "is down.>>\n",
      "<< I can barely hear the interpretation.>>\n",
      "<<\n",
      "JUDGE ROBINSON:  Yes, it's better now.>>\n",
      "<< Yes.>>\n",
      "<<\n",
      "THE WITNESS: [Interpretation] It's not better.>>\n",
      "<< It's not better.>>\n",
      "<<\n",
      "[In English] You can try it.>>\n",
      "<<\n",
      "JUDGE ROBINSON:  Is it any better, Mr. --\n",
      "THE WITNESS: [Interpretation] Yes, now it is better.>>\n",
      "<<\n",
      "JUDGE ROBINSON:  Okay.>>\n",
      "<< Yes, we'll proceed.>>\n",
      "<<\n",
      "I was recalling for Mr. Kay's benefit, and Mr. Milosevic's, the\n",
      "evidence which Mr. Milosevic sought to lead through this witness of what\n",
      "he said were discrepancies between Prosecution witnesses Dulovic and\n",
      "Anastasijevic's evidence given in this court and evidence which they gave\n",
      "in a special court in Belgrade.>>\n",
      "<< I had indicated to him that there are\n",
      "other ways of introducing that evidence which he felt was important to his\n",
      "case, and I'm going to ask the assigned counsel to investigate this\n",
      "matter, to get hold of the transcript, and I would leave it to their\n",
      "discretion to -- whether to seek to lead that evidence through whatever\n",
      "means is appropriate.>>\n",
      "<<\n",
      "MR.>>\n",
      "<<KAY:  Thank you, Your Honour.>>\n",
      "<<\n",
      "THE INTERPRETER:  Microphone please for Mr. Kay.>>\n",
      "<<\n",
      "MR.>>\n",
      "<<KAY:  It seemed to us on Friday whether we discussed this\n",
      "issue, Ms. Higgins and myself, that the obvious way forward was to have\n",
      "the original transcripts of the hearing set against the evidence that was\n",
      "given here so that the issues of the discrepancies can be seen from the\n",
      "primary material.>>\n",
      "<<\n",
      "JUDGE ROBINSON:  Yes.>>\n",
      "<< Yes.>>\n",
      "<< I would not want this evidence to be\n",
      "lost to the accused, and that is why I'm asking assigned counsel to\n",
      "investigate the matter.>>\n",
      "<<\n",
      "MR.>>\n",
      "<<KAY:  We will.>>\n",
      "<<\n",
      "JUDGE ROBINSON:  Thanks.>>\n",
      "<<\n",
      "Yes, Mr. Milosevic.>>\n",
      "<<\n",
      "WITNESS:  VOJISLAV SESELJ [Resumed]\n",
      "[Witness answered through interpreter]\n",
      "Examined by Mr. Milosevic:  [Continued]\n",
      "Q.   [Interpretation] Mr. Seselj, at the end of the last day I put some\n",
      "questions to you that had to do with paragraph 28 of the Bosnian\n",
      "indictment, that have to do with the \"Rump Presidency\" as it's called\n",
      "here.>>\n",
      "<< You have partly answered that.>>\n",
      "<< It says:  \"The Rump Presidency\n",
      "carried out Slobodan Milosevic's policies,\" and so on and so forth, \"had\n",
      ">>\n"
     ]
    }
   ],
   "source": [
    "for s in doc.sents:\n",
    "    print(f'<<{s}>>')"
   ]
  },
  {
   "cell_type": "code",
   "execution_count": 16,
   "id": "d443a3ed",
   "metadata": {},
   "outputs": [
    {
     "data": {
      "text/plain": [
       "30"
      ]
     },
     "execution_count": 16,
     "metadata": {},
     "output_type": "execute_result"
    }
   ],
   "source": [
    "len(list(doc.sents))"
   ]
  },
  {
   "cell_type": "code",
   "execution_count": 18,
   "id": "63f1636a",
   "metadata": {},
   "outputs": [
    {
     "name": "stdout",
     "output_type": "stream",
     "text": [
      "2022-11-11 02:02:33 | INFO | ersatz | Segmentation model: \"default-multilingual\"\n",
      "2022-11-11 02:02:33 | INFO | ersatz | Model description: \"multilingual/wmtlangs\"\n",
      "2022-11-11 02:02:33 | INFO | ersatz | Release Date: \"01 June 2021\"\n",
      "2022-11-11 02:02:33 | INFO | ersatz | DOWNLOADING \"default-multilingual\" model from https://github.com/rewicks/ersatz-models/raw/main/multilingual/wmtlangs/01.Jun.21.multilingual.gz\n",
      "100% (10955192 of 10955192) |############| Elapsed Time: 0:00:00 Time:  0:00:00\n",
      "2022-11-11 02:02:35 | INFO | ersatz | Checksum passed: 2d7d2092800cecda2b88f9da9fffbfff\n",
      "2022-11-11 02:02:35 | INFO | ersatz | EXTRACTING /home/iolguin/.ersatz/01.Jun.21.multilingual.gz to /home/iolguin/.ersatz/multilingual/wmtlangs/01.Jun.21.multilingual\n"
     ]
    }
   ],
   "source": [
    "!ersatz --input \"data/example/example.txt\" --output output_ersatz.txt\n"
   ]
  },
  {
   "cell_type": "code",
   "execution_count": 19,
   "id": "5204cda1",
   "metadata": {
    "scrolled": false
   },
   "outputs": [
    {
     "name": "stdout",
     "output_type": "stream",
     "text": [
      "<<JUDGE ROBINSON:  My monitor isn't working, but we can proceed.\n",
      ">>\n",
      "<<Mr. Kay, do you remember at the last session Mr. Milosevic was\n",
      ">>\n",
      "<<seeking to lead through this witness evidence which he said would\n",
      ">>\n",
      "<<discredit Prosecution witnesses Dulovic and Anastasijevic insofar as it\n",
      ">>\n",
      "<<would show discrepancies between the evidence that they had given in a\n",
      ">>\n",
      "<<special court in Belgrade.\n",
      ">>\n",
      "<<THE WITNESS: [Interpretation] I can barely hear this.\n",
      ">>\n",
      "<<The volume\n",
      ">>\n",
      "<<is down.\n",
      ">>\n",
      "<<I can barely hear the interpretation.\n",
      ">>\n",
      "<<JUDGE ROBINSON: Yes, it's better now.\n",
      ">>\n",
      "<<Yes.\n",
      ">>\n",
      "<<THE WITNESS: [Interpretation] It's not better.\n",
      ">>\n",
      "<<It's not better.\n",
      ">>\n",
      "<<[In English] You can try it.\n",
      ">>\n",
      "<<JUDGE ROBINSON:  Is it any better, Mr. --\n",
      ">>\n",
      "<<THE WITNESS: [Interpretation] Yes, now it is better.\n",
      ">>\n",
      "<<JUDGE ROBINSON: Okay.\n",
      ">>\n",
      "<<Yes, we'll proceed.\n",
      ">>\n",
      "<<I was recalling for Mr. Kay's benefit, and Mr. Milosevic's, the\n",
      ">>\n",
      "<<evidence which Mr.\n",
      ">>\n",
      "<<Milosevic sought to lead through this witness of what\n",
      ">>\n",
      "<<he said were discrepancies between Prosecution witnesses Dulovic and\n",
      ">>\n",
      "<<Anastasijevic's evidence given in this court and evidence which they gave\n",
      ">>\n",
      "<<in a special court in Belgrade.\n",
      ">>\n",
      "<<I had indicated to him that there are\n",
      ">>\n",
      "<<other ways of introducing that evidence which he felt was important to his\n",
      ">>\n",
      "<<case, and I'm going to ask the assigned counsel to investigate this\n",
      ">>\n",
      "<<matter, to get hold of the transcript, and I would leave it to their\n",
      ">>\n",
      "<<discretion to -- whether to seek to lead that evidence through whatever\n",
      ">>\n",
      "<<means is appropriate.\n",
      ">>\n",
      "<<MR.\n",
      ">>\n",
      "<<KAY: Thank you, Your Honour.\n",
      ">>\n",
      "<<THE INTERPRETER:  Microphone please for Mr. Kay.\n",
      ">>\n",
      "<<MR.\n",
      ">>\n",
      "<<KAY: It seemed to us on Friday whether we discussed this\n",
      ">>\n",
      "<<issue, Ms. Higgins and myself, that the obvious way forward was to have\n",
      ">>\n",
      "<<the original transcripts of the hearing set against the evidence that was\n",
      ">>\n",
      "<<given here so that the issues of the discrepancies can be seen from the\n",
      ">>\n",
      "<<primary material.\n",
      ">>\n",
      "<<JUDGE ROBINSON: Yes. Yes.\n",
      ">>\n",
      "<<I would not want this evidence to be\n",
      ">>\n",
      "<<lost to the accused, and that is why I'm asking assigned counsel to\n",
      ">>\n",
      "<<investigate the matter.\n",
      ">>\n",
      "<<MR.\n",
      ">>\n",
      "<<KAY: We will.\n",
      ">>\n",
      "<<JUDGE ROBINSON:  Thanks.\n",
      ">>\n",
      "<<Yes, Mr. Milosevic.\n",
      ">>\n",
      "<<WITNESS:  VOJISLAV SESELJ [Resumed]\n",
      ">>\n",
      "<<[Witness answered through interpreter]\n",
      ">>\n",
      "<<Examined by Mr. Milosevic:  [Continued]\n",
      ">>\n",
      "<<Q.   [Interpretation] Mr. Seselj, at the end of the last day I put some\n",
      ">>\n",
      "<<questions to you that had to do with paragraph 28 of the Bosnian\n",
      ">>\n",
      "<<indictment, that have to do with the \"Rump Presidency\" as it's called\n",
      ">>\n",
      "<<here.\n",
      ">>\n",
      "<<You have partly answered that.\n",
      ">>\n",
      "<<It says: \"The Rump Presidency\n",
      ">>\n",
      "<<carried out Slobodan Milosevic's policies,\" and so on and so forth, \"had\n",
      ">>\n"
     ]
    }
   ],
   "source": [
    "file2 = open(\"output.txt\", \"r\", encoding=\"utf8\")\n",
    "content_in_lines = file2.readlines()\n",
    "\n",
    "for s in content_in_lines:\n",
    "    print(f'<<{s}>>')"
   ]
  },
  {
   "cell_type": "code",
   "execution_count": 20,
   "id": "0de5e664",
   "metadata": {},
   "outputs": [
    {
     "data": {
      "text/plain": [
       "58"
      ]
     },
     "execution_count": 20,
     "metadata": {},
     "output_type": "execute_result"
    }
   ],
   "source": [
    "len(content_in_lines)"
   ]
  },
  {
   "cell_type": "markdown",
   "id": "ad5f1613",
   "metadata": {},
   "source": [
    "# Stanza"
   ]
  },
  {
   "cell_type": "code",
   "execution_count": null,
   "id": "adc1a69c",
   "metadata": {
    "scrolled": false
   },
   "outputs": [],
   "source": [
    "nlp_stanza = stanza.Pipeline(lang='en', processors={'tokenize': 'spacy'})#stanza.Pipeline(lang='en', processors='tokenize')"
   ]
  },
  {
   "cell_type": "code",
   "execution_count": 23,
   "id": "282b095e",
   "metadata": {},
   "outputs": [],
   "source": [
    "doc_stanza = nlp_stanza(content)"
   ]
  },
  {
   "cell_type": "code",
   "execution_count": 24,
   "id": "708e4466",
   "metadata": {},
   "outputs": [
    {
     "name": "stdout",
     "output_type": "stream",
     "text": [
      "<class 'list'> 30\n"
     ]
    }
   ],
   "source": [
    "print(type(doc_stanza.sentences), len(doc_stanza.sentences))"
   ]
  },
  {
   "cell_type": "code",
   "execution_count": 25,
   "id": "506dbdb8",
   "metadata": {},
   "outputs": [
    {
     "name": "stdout",
     "output_type": "stream",
     "text": [
      "<<JUDGE ROBINSON:  My monitor isn't working, but we can proceed.>>\n",
      "<<\n",
      "Mr. Kay, do you remember at the last session Mr. Milosevic was\n",
      "seeking to lead through this witness evidence which he said would\n",
      "discredit Prosecution witnesses Dulovic and Anastasijevic insofar as it\n",
      "would show discrepancies between the evidence that they had given in a\n",
      "special court in Belgrade.>>\n",
      "<<\n",
      "THE WITNESS: [Interpretation] I can barely hear this.>>\n",
      "<< The volume\n",
      "is down.>>\n",
      "<< I can barely hear the interpretation.>>\n",
      "<<\n",
      "JUDGE ROBINSON:  Yes, it's better now.>>\n",
      "<< Yes.>>\n",
      "<<\n",
      "THE WITNESS: [Interpretation] It's not better.>>\n",
      "<< It's not better.>>\n",
      "<<\n",
      "[In English] You can try it.>>\n"
     ]
    }
   ],
   "source": [
    "for s in doc_stanza.sentences[0:10]:\n",
    "    print(f\"<<{s.text}>>\")"
   ]
  },
  {
   "cell_type": "markdown",
   "id": "c2787ca8",
   "metadata": {},
   "source": [
    "### Test 2"
   ]
  },
  {
   "cell_type": "code",
   "execution_count": 26,
   "id": "41dcf882",
   "metadata": {},
   "outputs": [
    {
     "name": "stderr",
     "output_type": "stream",
     "text": [
      "2022-11-11 02:05:14 INFO: Checking for updates to resources.json in case models have been updated.  Note: this behavior can be turned off with download_method=None or download_method=DownloadMethod.REUSE_RESOURCES\n"
     ]
    },
    {
     "data": {
      "application/vnd.jupyter.widget-view+json": {
       "model_id": "1fa7f80b33d444beabb9b9f0732728ec",
       "version_major": 2,
       "version_minor": 0
      },
      "text/plain": [
       "Downloading https://raw.githubusercontent.com/stanfordnlp/stanza-resources/main/resources_1.4.1.json:   0%|   …"
      ]
     },
     "metadata": {},
     "output_type": "display_data"
    },
    {
     "name": "stderr",
     "output_type": "stream",
     "text": [
      "2022-11-11 02:05:15 INFO: Loading these models for language: en (English):\n",
      "============================\n",
      "| Processor    | Package   |\n",
      "----------------------------\n",
      "| tokenize     | spacy     |\n",
      "| pos          | combined  |\n",
      "| lemma        | combined  |\n",
      "| depparse     | combined  |\n",
      "| sentiment    | sstplus   |\n",
      "| constituency | wsj       |\n",
      "| ner          | ontonotes |\n",
      "============================\n",
      "\n",
      "2022-11-11 02:05:15 INFO: Use device: cpu\n",
      "2022-11-11 02:05:15 INFO: Loading: tokenize\n",
      "2022-11-11 02:05:15 INFO: Loading: pos\n",
      "2022-11-11 02:05:15 INFO: Loading: lemma\n",
      "2022-11-11 02:05:16 INFO: Loading: depparse\n",
      "2022-11-11 02:05:16 INFO: Loading: sentiment\n",
      "2022-11-11 02:05:16 INFO: Loading: constituency\n",
      "2022-11-11 02:05:16 INFO: Loading: ner\n",
      "2022-11-11 02:05:17 INFO: Done loading processors!\n"
     ]
    }
   ],
   "source": [
    "nlp_stanza_2 = stanza.Pipeline(lang='en', processors={'tokenize': 'spacy'}, tokenize_no_ssplit=True)"
   ]
  },
  {
   "cell_type": "code",
   "execution_count": 27,
   "id": "de06497f",
   "metadata": {},
   "outputs": [],
   "source": [
    "doc_stanza = nlp_stanza_2(content)"
   ]
  },
  {
   "cell_type": "code",
   "execution_count": 29,
   "id": "4bb2e14a",
   "metadata": {},
   "outputs": [
    {
     "name": "stdout",
     "output_type": "stream",
     "text": [
      "<class 'list'> 1\n"
     ]
    }
   ],
   "source": [
    "print(type(doc_stanza.sentences), len(doc_stanza.sentences))"
   ]
  },
  {
   "cell_type": "code",
   "execution_count": 31,
   "id": "b9b49e27",
   "metadata": {},
   "outputs": [
    {
     "name": "stdout",
     "output_type": "stream",
     "text": [
      "<<JUDGE ROBINSON:  My monitor isn't working, but we can proceed.\n",
      "Mr. Kay, do you remember at the last session Mr. Milosevic was\n",
      "seeking to lead through this witness evidence which he said would\n",
      "discredit Prosecution witnesses Dulovic and Anastasijevic insofar as it\n",
      "would show discrepancies between the evidence that they had given in a\n",
      "special court in Belgrade.\n",
      "THE WITNESS: [Interpretation] I can barely hear this.  The volume\n",
      "is down.  I can barely hear the interpretation.\n",
      "JUDGE ROBINSON:  Yes, it's better now.  Yes.\n",
      "THE WITNESS: [Interpretation] It's not better.  It's not better.\n",
      "[In English] You can try it.\n",
      "JUDGE ROBINSON:  Is it any better, Mr. --\n",
      "THE WITNESS: [Interpretation] Yes, now it is better.\n",
      "JUDGE ROBINSON:  Okay.  Yes, we'll proceed.\n",
      "I was recalling for Mr. Kay's benefit, and Mr. Milosevic's, the\n",
      "evidence which Mr. Milosevic sought to lead through this witness of what\n",
      "he said were discrepancies between Prosecution witnesses Dulovic and\n",
      "Anastasijevic's evidence given in this court and evidence which they gave\n",
      "in a special court in Belgrade.  I had indicated to him that there are\n",
      "other ways of introducing that evidence which he felt was important to his\n",
      "case, and I'm going to ask the assigned counsel to investigate this\n",
      "matter, to get hold of the transcript, and I would leave it to their\n",
      "discretion to -- whether to seek to lead that evidence through whatever\n",
      "means is appropriate.\n",
      "MR. KAY:  Thank you, Your Honour.\n",
      "THE INTERPRETER:  Microphone please for Mr. Kay.\n",
      "MR. KAY:  It seemed to us on Friday whether we discussed this\n",
      "issue, Ms. Higgins and myself, that the obvious way forward was to have\n",
      "the original transcripts of the hearing set against the evidence that was\n",
      "given here so that the issues of the discrepancies can be seen from the\n",
      "primary material.\n",
      "JUDGE ROBINSON:  Yes.  Yes.  I would not want this evidence to be\n",
      "lost to the accused, and that is why I'm asking assigned counsel to\n",
      "investigate the matter.\n",
      "MR. KAY:  We will.\n",
      "JUDGE ROBINSON:  Thanks.\n",
      "Yes, Mr. Milosevic.\n",
      "WITNESS:  VOJISLAV SESELJ [Resumed]\n",
      "[Witness answered through interpreter]\n",
      "Examined by Mr. Milosevic:  [Continued]\n",
      "Q.   [Interpretation] Mr. Seselj, at the end of the last day I put some\n",
      "questions to you that had to do with paragraph 28 of the Bosnian\n",
      "indictment, that have to do with the \"Rump Presidency\" as it's called\n",
      "here.  You have partly answered that.  It says:  \"The Rump Presidency\n",
      "carried out Slobodan Milosevic's policies,\" and so on and so forth, \"had\n",
      ">>\n"
     ]
    }
   ],
   "source": [
    "for s in doc_stanza.sentences[0:10]:\n",
    "    print(f\"<<{s.text}>>\")"
   ]
  },
  {
   "cell_type": "markdown",
   "id": "25b38d70",
   "metadata": {},
   "source": [
    "# luima_sbd"
   ]
  },
  {
   "cell_type": "code",
   "execution_count": 37,
   "id": "85df791f",
   "metadata": {},
   "outputs": [],
   "source": [
    "import luima_sbd.sbd_utils as sbd_utils\n",
    "#import config.project_config as project_config\n",
    "#import config.sentences_custom as sentences_custom"
   ]
  },
  {
   "cell_type": "code",
   "execution_count": 38,
   "id": "95772124",
   "metadata": {},
   "outputs": [],
   "source": [
    "sentences = [sent for sent in sbd_utils.text2sentences(content)]"
   ]
  },
  {
   "cell_type": "code",
   "execution_count": 39,
   "id": "1de2c4f4",
   "metadata": {},
   "outputs": [
    {
     "name": "stdout",
     "output_type": "stream",
     "text": [
      "35\n"
     ]
    }
   ],
   "source": [
    "print(len(sentences))"
   ]
  },
  {
   "cell_type": "code",
   "execution_count": 40,
   "id": "b957cc56",
   "metadata": {},
   "outputs": [
    {
     "name": "stdout",
     "output_type": "stream",
     "text": [
      "<<JUDGE ROBINSON:>>\n",
      "<<My monitor isn't working, but we can proceed.>>\n",
      "<<Mr. Kay, do you remember at the last session Mr. Milosevic was\n",
      "seeking to lead through this witness evidence which he said would\n",
      "discredit Prosecution witnesses Dulovic and Anastasijevic insofar as it\n",
      "would show discrepancies between the evidence that they had given in a\n",
      "special court in Belgrade.>>\n",
      "<<THE WITNESS: [Interpretation] I can barely hear this.>>\n",
      "<<The volume\n",
      "is down.>>\n",
      "<<I can barely hear the interpretation.>>\n",
      "<<JUDGE ROBINSON:  Yes, it's better now.>>\n",
      "<<Yes.>>\n",
      "<<THE WITNESS: [Interpretation] It's not better.>>\n",
      "<<It's not better.>>\n",
      "<<[In English] You can try it.>>\n",
      "<<JUDGE ROBINSON:>>\n",
      "<<Is it any better, Mr. -->>\n",
      "<<THE WITNESS: [Interpretation] Yes, now it is better.>>\n",
      "<<JUDGE ROBINSON:  Okay.  Yes, we'll proceed.>>\n",
      "<<I was recalling for Mr. Kay's benefit, and Mr. Milosevic's, the\n",
      "evidence which Mr. Milosevic sought to lead through this witness of what\n",
      "he said were discrepancies between Prosecution witnesses Dulovic and>>\n",
      "<<Anastasijevic's evidence given in this court and evidence which they gave\n",
      "in a special court in Belgrade.>>\n",
      "<<I had indicated to him that there are\n",
      "other ways of introducing that evidence which he felt was important to his\n",
      "case, and I'm going to ask the assigned counsel to investigate this\n",
      "matter, to get hold of the transcript, and I would leave it to their\n",
      "discretion to -- whether to seek to lead that evidence through whatever\n",
      "means is appropriate.>>\n",
      "<<MR. KAY:  Thank you, Your Honour.>>\n",
      "<<THE INTERPRETER:  Microphone please for Mr. Kay.>>\n"
     ]
    }
   ],
   "source": [
    "for s in sentences[0:20]:\n",
    "    print(f\"<<{s}>>\")"
   ]
  }
 ],
 "metadata": {
  "kernelspec": {
   "display_name": "Python 3 (ipykernel)",
   "language": "python",
   "name": "python3"
  },
  "language_info": {
   "codemirror_mode": {
    "name": "ipython",
    "version": 3
   },
   "file_extension": ".py",
   "mimetype": "text/x-python",
   "name": "python",
   "nbconvert_exporter": "python",
   "pygments_lexer": "ipython3",
   "version": "3.8.10"
  }
 },
 "nbformat": 4,
 "nbformat_minor": 5
}
