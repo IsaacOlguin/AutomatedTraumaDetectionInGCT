{
 "cells": [
  {
   "cell_type": "code",
   "execution_count": null,
   "id": "98142d25",
   "metadata": {},
   "outputs": [],
   "source": [
    "# Imports\n",
    "from os import listdir\n",
    "from os.path import isfile, join\n",
    "import nltk\n",
    "from nltk.corpus import words\n",
    "from nltk.tokenize import RegexpTokenizer\n",
    "import string\n",
    "\n",
    "import stanza"
   ]
  },
  {
   "cell_type": "code",
   "execution_count": null,
   "id": "93e9667f",
   "metadata": {},
   "outputs": [],
   "source": [
    "path_dir_txt_files = \"data/\"\n",
    "path_dir_stat_data = \"statistics_data/\"\n",
    "\n",
    "tokenizer = RegexpTokenizer(r'\\w+')\n",
    "info_files = []"
   ]
  },
  {
   "cell_type": "code",
   "execution_count": null,
   "id": "ba6c5417",
   "metadata": {},
   "outputs": [],
   "source": [
    "file = \"\"\n",
    "\n",
    "f = open(path_dir_txt_files + file, \"r\", encoding=\"latin1\")#, encoding=\"utf8\")\n",
    "content = f.read()"
   ]
  },
  {
   "cell_type": "code",
   "execution_count": null,
   "id": "656007c2",
   "metadata": {},
   "outputs": [],
   "source": [
    "print(len(content))"
   ]
  },
  {
   "cell_type": "code",
   "execution_count": null,
   "id": "f2796457",
   "metadata": {},
   "outputs": [],
   "source": [
    "content"
   ]
  },
  {
   "cell_type": "code",
   "execution_count": null,
   "id": "b182a825",
   "metadata": {},
   "outputs": [],
   "source": [
    "auxiliar_content = [character for character in content if character not in string.punctuation]\n",
    "auxiliar_content = ''.join(auxiliar_content)"
   ]
  },
  {
   "cell_type": "code",
   "execution_count": null,
   "id": "bc4b56b6",
   "metadata": {},
   "outputs": [],
   "source": [
    "auxiliar_content"
   ]
  },
  {
   "cell_type": "code",
   "execution_count": null,
   "id": "0709c963",
   "metadata": {},
   "outputs": [],
   "source": [
    "#auxiliar_content_2 = tokenizer.tokenize(auxiliar_content.lower())\n",
    "#auxiliar_content_2 = ' '.join(auxiliar_content_2)\n",
    "auxiliar_content_2 = auxiliar_content_2.lower().replace(\"\\n\", \" \")\n",
    "auxiliar_content_2"
   ]
  },
  {
   "cell_type": "code",
   "execution_count": null,
   "id": "7fa512a9",
   "metadata": {},
   "outputs": [],
   "source": [
    "f_saved = open(\"after_prep.txt\", \"w\")\n",
    "f_saved.write(auxiliar_content_2)\n",
    "f_saved.close()"
   ]
  },
  {
   "cell_type": "code",
   "execution_count": null,
   "id": "043006e3",
   "metadata": {},
   "outputs": [],
   "source": [
    "from spacy.lang.en import English\n",
    "\n",
    "nlp = English()\n",
    "nlp.add_pipe(\"sentencizer\")\n",
    "doc = nlp(content) #(\"This is a sentence. This is another sentence.\")\n",
    "print(len(list(doc.sents)))\n",
    "#1,160"
   ]
  },
  {
   "cell_type": "code",
   "execution_count": null,
   "id": "f938fa21",
   "metadata": {},
   "outputs": [],
   "source": [
    "for s in doc.sents:\n",
    "    print(f'<<{s}>>')"
   ]
  },
  {
   "cell_type": "code",
   "execution_count": null,
   "id": "d443a3ed",
   "metadata": {},
   "outputs": [],
   "source": [
    "len(list(doc.sents))\n",
    "#1,160"
   ]
  },
  {
   "cell_type": "code",
   "execution_count": null,
   "id": "63f1636a",
   "metadata": {},
   "outputs": [],
   "source": [
    "!ersatz --input after_prep.txt --output output.txt\n"
   ]
  },
  {
   "cell_type": "code",
   "execution_count": null,
   "id": "5204cda1",
   "metadata": {},
   "outputs": [],
   "source": [
    "file2 = open(path_dir_txt_files + file, \"r\", encoding=\"utf8\")\n",
    "content_in_lines = file2.readlines()\n",
    "\n",
    "for s in content_in_lines:\n",
    "    print(f'<<{s}>>')"
   ]
  },
  {
   "cell_type": "code",
   "execution_count": null,
   "id": "0de5e664",
   "metadata": {},
   "outputs": [],
   "source": [
    "len(content_in_lines)\n",
    "#3,118"
   ]
  },
  {
   "cell_type": "code",
   "execution_count": null,
   "id": "fa748e8b",
   "metadata": {},
   "outputs": [],
   "source": [
    "content"
   ]
  },
  {
   "cell_type": "markdown",
   "id": "ad5f1613",
   "metadata": {},
   "source": [
    "# Stanza"
   ]
  },
  {
   "cell_type": "code",
   "execution_count": null,
   "id": "adc1a69c",
   "metadata": {
    "scrolled": false
   },
   "outputs": [],
   "source": [
    "nlp_stanza = stanza.Pipeline(lang='en', processors={'tokenize': 'spacy'})#stanza.Pipeline(lang='en', processors='tokenize')"
   ]
  },
  {
   "cell_type": "code",
   "execution_count": null,
   "id": "282b095e",
   "metadata": {},
   "outputs": [],
   "source": [
    "doc_stanza = nlp_stanza(content)"
   ]
  },
  {
   "cell_type": "code",
   "execution_count": null,
   "id": "708e4466",
   "metadata": {},
   "outputs": [],
   "source": [
    "print(type(doc_stanza.sentences), len(doc_stanza.sentences))\n",
    "#1,160"
   ]
  },
  {
   "cell_type": "code",
   "execution_count": null,
   "id": "506dbdb8",
   "metadata": {},
   "outputs": [],
   "source": [
    "for s in doc_stanza.sentences[0:10]:\n",
    "    print(f\"<<{s.text}>>\")"
   ]
  },
  {
   "cell_type": "markdown",
   "id": "c2787ca8",
   "metadata": {},
   "source": [
    "### Test 2"
   ]
  },
  {
   "cell_type": "code",
   "execution_count": null,
   "id": "41dcf882",
   "metadata": {},
   "outputs": [],
   "source": [
    "nlp_stanza_2 = stanza.Pipeline(lang='en', processors={'tokenize': 'spacy'}, tokenize_no_ssplit=True)"
   ]
  },
  {
   "cell_type": "code",
   "execution_count": null,
   "id": "de06497f",
   "metadata": {},
   "outputs": [],
   "source": [
    "doc_stanza = nlp_stanza_2(content)"
   ]
  },
  {
   "cell_type": "code",
   "execution_count": null,
   "id": "4bb2e14a",
   "metadata": {},
   "outputs": [],
   "source": [
    "print(type(doc_stanza_2.sentences), len(doc_stanza_2.sentences))"
   ]
  },
  {
   "cell_type": "markdown",
   "id": "25b38d70",
   "metadata": {},
   "source": [
    "# luima_sbd"
   ]
  },
  {
   "cell_type": "code",
   "execution_count": null,
   "id": "85df791f",
   "metadata": {},
   "outputs": [],
   "source": [
    "import luima_sbd.sbd_utils as sbd_utils\n",
    "#import config.project_config as project_config\n",
    "#import config.sentences_custom as sentences_custom"
   ]
  },
  {
   "cell_type": "code",
   "execution_count": null,
   "id": "95772124",
   "metadata": {},
   "outputs": [],
   "source": [
    "sentences = [sent for sent in sbd_utils.text2sentences(content)]"
   ]
  },
  {
   "cell_type": "code",
   "execution_count": null,
   "id": "1de2c4f4",
   "metadata": {},
   "outputs": [],
   "source": [
    "print(len(sentences))"
   ]
  },
  {
   "cell_type": "code",
   "execution_count": null,
   "id": "b957cc56",
   "metadata": {},
   "outputs": [],
   "source": [
    "for s in sentences[0:20]:\n",
    "    print(f\"<<{s}>>\")"
   ]
  },
  {
   "cell_type": "code",
   "execution_count": null,
   "id": "3d1f884d",
   "metadata": {},
   "outputs": [],
   "source": [
    "f_saved_luima = open(\"after_luima.txt\", \"w\", encoding=\"latin1\")\n",
    "f_saved_luima.write(' '.join(sentences))\n",
    "f_saved_luima.close()"
   ]
  },
  {
   "cell_type": "code",
   "execution_count": null,
   "id": "9fe26c89",
   "metadata": {},
   "outputs": [],
   "source": [
    "from spacy.lang.en import English\n",
    "\n",
    "nlp = English()\n",
    "nlp.add_pipe(\"sentencizer\")\n",
    "doc_luima_spacy = nlp(' '.join(sentences))"
   ]
  },
  {
   "cell_type": "code",
   "execution_count": null,
   "id": "c36bfe5a",
   "metadata": {},
   "outputs": [],
   "source": [
    "print(len(list(doc_luima_spacy.sents)))"
   ]
  },
  {
   "cell_type": "code",
   "execution_count": null,
   "id": "a3c08074",
   "metadata": {},
   "outputs": [],
   "source": [
    "for s in doc_luima_spacy.sents:\n",
    "    print(f\"<<{s}>>\")"
   ]
  },
  {
   "cell_type": "code",
   "execution_count": null,
   "id": "e9317776",
   "metadata": {},
   "outputs": [],
   "source": [
    "f_saved_luima_spacy = open(\"after_luima_spacy.txt\", \"w\", encoding=\"latin1\")\n",
    "for s in doc_luima_spacy.sents:\n",
    "    print(f\"<<{s}>>\")\n",
    "    f_saved_luima_spacy.write(str(s) + \"\\r\\n\\n\\n\")\n",
    "f_saved_luima_spacy.close()"
   ]
  },
  {
   "cell_type": "markdown",
   "id": "3606d446",
   "metadata": {},
   "source": [
    "### New test"
   ]
  },
  {
   "cell_type": "code",
   "execution_count": null,
   "id": "c54f00c1",
   "metadata": {},
   "outputs": [],
   "source": [
    "doc_stanza_luima = nlp_stanza(' '.join(sentences))"
   ]
  },
  {
   "cell_type": "code",
   "execution_count": null,
   "id": "6aba18f3",
   "metadata": {},
   "outputs": [],
   "source": []
  }
 ],
 "metadata": {
  "kernelspec": {
   "display_name": "Python 3 (ipykernel)",
   "language": "python",
   "name": "python3"
  },
  "language_info": {
   "codemirror_mode": {
    "name": "ipython",
    "version": 3
   },
   "file_extension": ".py",
   "mimetype": "text/x-python",
   "name": "python",
   "nbconvert_exporter": "python",
   "pygments_lexer": "ipython3",
   "version": "3.9.13"
  }
 },
 "nbformat": 4,
 "nbformat_minor": 5
}
